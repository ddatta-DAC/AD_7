{
 "cells": [
  {
   "cell_type": "code",
   "execution_count": 1,
   "metadata": {},
   "outputs": [],
   "source": [
    "%load_ext autoreload\n",
    "%autoreload 2"
   ]
  },
  {
   "cell_type": "code",
   "execution_count": 2,
   "metadata": {},
   "outputs": [
    {
     "name": "stdout",
     "output_type": "stream",
     "text": [
      "INFO: Pandarallel will run on 40 workers.\n",
      "INFO: Pandarallel will use Memory file system to transfer data between the main process and workers.\n",
      "Current device  >>  cuda\n",
      "Current device  >>  cuda\n",
      "Current device  >>  cuda\n"
     ]
    }
   ],
   "source": [
    "# ==========================\n",
    "# This is to run the base model\n",
    "# ==========================\n",
    "\n",
    "import sys\n",
    "sys.path.append('./..')\n",
    "sys.path.append('./../..')\n",
    "import pandas as pd\n",
    "import yaml\n",
    "from torch import FloatTensor as FT\n",
    "import numpy as np\n",
    "from torch.autograd import Variable\n",
    "import matplotlib.pyplot as plt\n",
    "from utils import *\n",
    "from tqdm import tqdm\n",
    "import torch\n",
    "from pprint import pprint\n",
    "try:\n",
    "    from .data_fetcher import data_fetcher\n",
    "except:\n",
    "    from data_fetcher import data_fetcher\n",
    "try:\n",
    "    from .base_DAGMM_v2 import DaGMM\n",
    "except:\n",
    "    from base_DAGMM_v2 import DaGMM\n",
    "\n",
    "DEVICE = torch.device(\"cuda\" if torch.cuda.is_available() else \"cpu\")\n",
    "# DEVICE = torch.device(\"cpu\")\n",
    "print('Current device  >> ', DEVICE)\n",
    "\n",
    "DEVICE = torch.device(\"cuda\" if torch.cuda.is_available() else \"cpu\")\n",
    "# DEVICE = torch.device(\"cpu\")\n",
    "print('Current device  >> ', DEVICE)\n",
    "try:\n",
    "    from .base_DAGMM_v2 import DaGMM\n",
    "except:\n",
    "    from base_DAGMM_v2 import DaGMM\n",
    "    \n",
    "    \n",
    "DEVICE = torch.device(\"cuda\" if torch.cuda.is_available() else \"cpu\")\n",
    "# DEVICE = torch.device(\"cpu\")\n",
    "print('Current device  >> ', DEVICE)\n",
    "try:\n",
    "    from .base_DAGMM_v2 import DaGMM\n",
    "except:\n",
    "    from base_DAGMM_v2 import DaGMM"
   ]
  },
  {
   "cell_type": "code",
   "execution_count": 3,
   "metadata": {},
   "outputs": [],
   "source": [
    "# ============================\n",
    "#  create config for DAGMM_base\n",
    "# ============================\n",
    "\n",
    "\n",
    "def create_config(\n",
    "        data_set\n",
    "):\n",
    "    # Should return :\n",
    "    # data_dict\n",
    "    # meta_data_df [column, dimension]\n",
    "\n",
    "    config_file = 'architecture_config.yaml'\n",
    "\n",
    "    with open(config_file, 'r') as fh:\n",
    "        config = yaml.safe_load(fh)\n",
    "\n",
    "    data_dict, meta_data_df = data_fetcher.get_data(data_set)\n",
    "\n",
    "    # discrete_columns : { column_name : num_categories }\n",
    "    discrete_column_dims = {\n",
    "        k: v for k, v in\n",
    "        zip(list(meta_data_df['column']), list(meta_data_df['dimension']))\n",
    "    }\n",
    "\n",
    "    num_discrete_columns = len(discrete_column_dims)\n",
    "    num_real_columns = len(data_dict['train'].columns) - num_discrete_columns\n",
    "    latent_dim = config[data_set]['ae_latent_dimension']\n",
    "\n",
    "    encoder_structure_config = {}\n",
    "    encoder_structure_config['discrete_column_dims'] = discrete_column_dims\n",
    "    encoder_structure_config['num_discrete'] = num_discrete_columns\n",
    "    encoder_structure_config['num_real'] = num_real_columns\n",
    "    encoder_structure_config['encoder_layers'] = {\n",
    "        'activation': config[data_set]['encoder_layers']['activation'],\n",
    "        'layer_dims': config[data_set]['encoder_layers']['layer_dims'] + [latent_dim]\n",
    "    }\n",
    "\n",
    "    # ======================================================\n",
    "    # Set decoder structure\n",
    "    # =========\n",
    "\n",
    "    decoder_structure_config = {}\n",
    "    final_op_dims = num_real_columns + sum(discrete_column_dims.values())\n",
    "    decoder_structure_config['discrete_column_dims'] = discrete_column_dims\n",
    "    decoder_structure_config['num_discrete'] = num_discrete_columns\n",
    "    decoder_structure_config['num_real'] = num_real_columns\n",
    "    decoder_structure_config['decoder_layers'] = {\n",
    "        'activation': config[data_set]['decoder_layers']['activation'],\n",
    "        'layer_dims': [latent_dim] + config[data_set]['decoder_layers']['layer_dims'] + [final_op_dims]\n",
    "    }\n",
    "    decoder_structure_config['final_output_dim'] = final_op_dims\n",
    "\n",
    "    # =====================\n",
    "    # GMM\n",
    "    # =====================\n",
    "    gmm_input_dims = latent_dim + 2\n",
    "    activation = config[data_set]['gmm']['FC_layer']['activation']\n",
    "    num_components = config[data_set]['gmm']['num_components']\n",
    "    FC_layer_dims = [gmm_input_dims] + config[data_set]['gmm']['FC_layer']['dims'] + [num_components]\n",
    "    FC_dropout = config[data_set]['gmm']['FC_dropout']\n",
    "    gmm_structure_config = {\n",
    "        'num_components': num_components,\n",
    "        'FC_layer_dims': FC_layer_dims,\n",
    "        'FC_dropout': FC_dropout,\n",
    "        'FC_activation': activation\n",
    "\n",
    "    }\n",
    "    loss_structure_config = []\n",
    "\n",
    "    for column, dim in discrete_column_dims.items():\n",
    "        loss_structure_config.append(\n",
    "            {\n",
    "                'dim': dim,\n",
    "                'type': 'onehot'\n",
    "            }\n",
    "        )\n",
    "    loss_structure_config.append(\n",
    "        {\n",
    "            'dim': num_real_columns,\n",
    "            'type': 'real'\n",
    "        }\n",
    "    )\n",
    "\n",
    "    return encoder_structure_config, decoder_structure_config, gmm_structure_config, loss_structure_config, latent_dim\n",
    "\n",
    "\n",
    "\n",
    "def train(\n",
    "        dagmm_obj,\n",
    "        data,\n",
    "        num_epochs,\n",
    "        batch_size=256,\n",
    "        LR=0.05\n",
    "):\n",
    "    optimizer = torch.optim.Adam(dagmm_obj.parameters(), lr=LR)\n",
    "    dagmm_obj.train()\n",
    "    log_interval = 50\n",
    "    for epoch in tqdm(range(num_epochs)):\n",
    "        num_batches = data.shape[0] // batch_size + 1\n",
    "        epoch_losses = []\n",
    "        np.random.shuffle(data)\n",
    "        X = FT(data).to(DEVICE)\n",
    "        lambda_energy = 0.1\n",
    "        lambda_cov_diag = 0.005\n",
    "        for b in range(num_batches):\n",
    "            optimizer.zero_grad()\n",
    "            input_data = X[b * batch_size: (b + 1) * batch_size]\n",
    "            enc, dec, z, gamma = dagmm_obj(input_data)\n",
    "            total_loss, sample_energy, recon_error, cov_diag = dagmm_obj.loss_function(\n",
    "                input_data, dec, z, gamma,\n",
    "                lambda_energy,\n",
    "                lambda_cov_diag\n",
    "            )\n",
    "\n",
    "            dagmm_obj.zero_grad()\n",
    "            total_loss = Variable(total_loss, requires_grad=True)\n",
    "            total_loss.backward()\n",
    "            epoch_losses.append(total_loss.cpu().data.numpy())\n",
    "            torch.nn.utils.clip_grad_norm_(dagmm_obj.parameters(), 5)\n",
    "            optimizer.step()\n",
    "\n",
    "            loss = {}\n",
    "            loss['total_loss'] = total_loss.data.item()\n",
    "            loss['sample_energy'] = sample_energy.item()\n",
    "            loss['recon_error'] = recon_error.item()\n",
    "            loss['cov_diag'] = cov_diag.item()\n",
    "\n",
    "            if (b + 1) % log_interval == 0:\n",
    "                log = ' '\n",
    "                for tag, value in loss.items():\n",
    "                    log += \", {}: {:.4f}\".format(tag, value)\n",
    "                print(log)\n",
    "        print('Epoch loss ::', np.mean(epoch_losses))\n",
    "    return dagmm_obj\n",
    "\n",
    "# =================================== #\n",
    "\n",
    "def test(\n",
    "    dagmm_obj,\n",
    "    data_dict\n",
    "):\n",
    "    global DEVICE\n",
    "    print(\"======================TEST MODE======================\")\n",
    "    dagmm_obj.eval()\n",
    "    N = 0\n",
    "    mu_sum = 0\n",
    "    cov_sum = 0\n",
    "    gamma_sum = 0\n",
    "\n",
    "    train_X = data_dict['train'].values\n",
    "    batch_size = 500\n",
    "    num_batches = train_X.shape[0]//batch_size + 1\n",
    "    for b in range(num_batches):\n",
    "        input_data = train_X[b * batch_size: (b + 1) * batch_size]\n",
    "        input_data = FT(input_data).to(DEVICE)\n",
    "        enc, dec, z, gamma = dagmm_obj(input_data)\n",
    "        phi, mu, cov = dagmm_obj.compute_gmm_params(z, gamma)\n",
    "        batch_gamma_sum = torch.sum(gamma, dim=0)\n",
    "        gamma_sum += batch_gamma_sum\n",
    "        mu_sum += mu * batch_gamma_sum.unsqueeze(-1)  # keep sums of the numerator only\n",
    "        cov_sum += cov * batch_gamma_sum.unsqueeze(-1).unsqueeze(-1)  # keep sums of the numerator only\n",
    "        N += input_data.size(0)\n",
    "\n",
    "\n",
    "    train_phi = gamma_sum / N\n",
    "    train_mu = mu_sum / gamma_sum.unsqueeze(-1)\n",
    "    train_cov = cov_sum / gamma_sum.unsqueeze(-1).unsqueeze(-1)\n",
    "\n",
    "    print(\"N:\", N)\n",
    "    print(\"phi :\", train_phi)\n",
    "    print(\"mu : \", train_mu)\n",
    "    print(\"covariance :\", train_cov)\n",
    "\n",
    "    # ============================ #\n",
    "    # Get sample energy for test set\n",
    "    # ============================ #\n",
    "    test_energy = []\n",
    "    train_labels = []\n",
    "    train_z = []\n",
    "\n",
    "    test_X = data_dict['test'].values\n",
    "    num_batches = test_X.shape[0] // batch_size + 1\n",
    "    print('Size of test ', test_X.shape[0])\n",
    "    for b in range(num_batches):\n",
    "        input_data = test_X[b * batch_size: (b + 1) * batch_size]\n",
    "        input_data = FT(input_data).to(DEVICE)\n",
    "        enc, dec, z, gamma = dagmm_obj(input_data)\n",
    "        sample_energy, cov_diag = dagmm_obj.compute_energy(\n",
    "            z,\n",
    "            phi=train_phi,\n",
    "            mu=train_mu,\n",
    "            cov=train_cov,\n",
    "            size_average=False\n",
    "        )\n",
    "        test_energy.append(sample_energy.data.cpu().numpy())\n",
    "        # train_z.append(z.data.cpu().numpy())\n",
    "        # train_labels.append(labels.numpy())\n",
    "\n",
    "    test_energy = np.concatenate(test_energy, axis=0)\n",
    "    print('test_energy',test_energy.shape)\n",
    "    test_labels = [0 for _ in range(test_X.shape[0])]\n",
    "    auc_list = []\n",
    "    # ===========\n",
    "    # Get per sample energy of the anomalies\n",
    "    # ===========\n",
    "    for key in ['anom_1','anom_2','anom_3']:\n",
    "        anom_X = data_dict[key].values\n",
    "        anom_labels = [1 for _ in range(anom_X.shape[0])]\n",
    "        anom_energy = []\n",
    "        num_batches = anom_X.shape[0] // batch_size + 1\n",
    "        \n",
    "        for b in range(num_batches):\n",
    "            input_data = anom_X[b * batch_size: (b + 1) * batch_size]\n",
    "            input_data = FT(input_data).to(DEVICE)\n",
    "            enc, dec, z, gamma = dagmm_obj(input_data)\n",
    "            sample_energy, cov_diag = dagmm_obj.compute_energy(\n",
    "                z,\n",
    "                phi=train_phi,\n",
    "                mu=train_mu,\n",
    "                cov=train_cov,\n",
    "                size_average=False\n",
    "            )\n",
    "            anom_energy.append(sample_energy.data.cpu().numpy())\n",
    "\n",
    "        anom_energy = np.concatenate(anom_energy,axis=0)\n",
    "        print(anom_energy.shape)\n",
    "        combined_energy = np.concatenate([anom_energy, test_energy], axis=0)\n",
    "        combined_labels = np.concatenate([anom_labels, test_labels], axis=0)\n",
    "        print(\n",
    "            combined_energy.shape,\n",
    "            combined_labels.shape\n",
    "        )\n",
    "        res_data = []\n",
    "        for i,j in zip(combined_energy, combined_labels):\n",
    "            res_data.append((i,j))\n",
    "        res_df = pd.DataFrame(res_data, columns=['score','label'] )\n",
    "        #  Normalize values\n",
    "        def _normalize_(val, _min,_max):\n",
    "            return (val -_min)/(_max - _min)\n",
    "\n",
    "        _max = max(combined_energy)\n",
    "        _min = min(combined_energy)\n",
    "\n",
    "        res_df['score'] = res_df['score'].parallel_apply(\n",
    "            _normalize_,\n",
    "            args=(_min,_max, )\n",
    "        )\n",
    "\n",
    "        res_df = res_df.sort_values(by=['score'],ascending= False)\n",
    "        _max = max(res_df['score'])\n",
    "        _min = min(res_df['score'])\n",
    "        step = (_max - _min)/ 100\n",
    "\n",
    "        # Vary the threshold\n",
    "        thresh = _max - step\n",
    "        num_anomalies = anom_X.shape[0]\n",
    "        P = []\n",
    "        R = []\n",
    "\n",
    "        while thresh > _min:\n",
    "\n",
    "            sel = res_df.loc[res_df['score'] >= thresh]\n",
    "            if len(sel) == 0 :\n",
    "                thresh -= step\n",
    "                continue\n",
    "            correct = sel.loc[sel['label'] == 1 ]\n",
    "            prec = len(correct)/ len(sel)\n",
    "            rec = len(correct)/num_anomalies\n",
    "            P.append(prec)\n",
    "            R.append(rec)\n",
    "            thresh -= step\n",
    "\n",
    "        from sklearn.metrics import auc\n",
    "        pr_auc = auc(R, P)\n",
    "        auc_list.append(pr_auc)\n",
    "\n",
    "        print(\"AUC : {:0.4f} \".format(pr_auc))\n",
    "        try:\n",
    "            plt.figure()\n",
    "            plt.title('PR Curve' + str(pr_auc))\n",
    "            plt.plot(R, P)\n",
    "            plt.show()\n",
    "        except:\n",
    "            pass\n",
    "    return\n",
    "\n",
    "\n",
    "\n",
    "    "
   ]
  },
  {
   "cell_type": "code",
   "execution_count": null,
   "metadata": {},
   "outputs": [],
   "source": []
  },
  {
   "cell_type": "code",
   "execution_count": 4,
   "metadata": {},
   "outputs": [],
   "source": [
    "try:\n",
    "    from .base_DAGMM_v2 import DaGMM\n",
    "except:\n",
    "    from base_DAGMM_v2 import DaGMM\n",
    " "
   ]
  },
  {
   "cell_type": "code",
   "execution_count": 5,
   "metadata": {},
   "outputs": [],
   "source": [
    "# =================================== #\n",
    "data_set = 'diabetes'\n",
    "data_dict, _ = data_fetcher.get_data(data_set,True)\n",
    "train_df = data_dict['train']\n",
    "train_X = train_df.values"
   ]
  },
  {
   "cell_type": "code",
   "execution_count": null,
   "metadata": {},
   "outputs": [],
   "source": []
  },
  {
   "cell_type": "code",
   "execution_count": 6,
   "metadata": {},
   "outputs": [
    {
     "name": "stdout",
     "output_type": "stream",
     "text": [
      "{'discrete_column_dims': {'A1Cresult': 4,\n",
      "                          'acarbose': 4,\n",
      "                          'admission_source_id': 17,\n",
      "                          'admission_type_id': 8,\n",
      "                          'age': 10,\n",
      "                          'change': 2,\n",
      "                          'chlorpropamide': 4,\n",
      "                          'diabetesMed': 2,\n",
      "                          'diag_1': 647,\n",
      "                          'diag_2': 664,\n",
      "                          'diag_3': 718,\n",
      "                          'discharge_disposition_id': 26,\n",
      "                          'gender': 3,\n",
      "                          'glimepiride': 4,\n",
      "                          'glipizide': 4,\n",
      "                          'glipizide-metformin': 2,\n",
      "                          'glyburide': 4,\n",
      "                          'glyburide-metformin': 4,\n",
      "                          'insulin': 4,\n",
      "                          'max_glu_serum': 4,\n",
      "                          'metformin': 4,\n",
      "                          'metformin-pioglitazone': 2,\n",
      "                          'metformin-rosiglitazone': 2,\n",
      "                          'miglitol': 4,\n",
      "                          'nateglinide': 4,\n",
      "                          'pioglitazone': 4,\n",
      "                          'race': 5,\n",
      "                          'repaglinide': 4,\n",
      "                          'rosiglitazone': 4,\n",
      "                          'tolazamide': 2,\n",
      "                          'tolbutamide': 2,\n",
      "                          'troglitazone': 2},\n",
      " 'encoder_layers': {'activation': 'tanh', 'layer_dims': [256, 64, 32, 10, 1]},\n",
      " 'num_discrete': 32,\n",
      " 'num_real': 8}\n",
      "{'decoder_layers': {'activation': 'tanh',\n",
      "                    'layer_dims': [1, 10, 32, 64, 256, 2182]},\n",
      " 'discrete_column_dims': {'A1Cresult': 4,\n",
      "                          'acarbose': 4,\n",
      "                          'admission_source_id': 17,\n",
      "                          'admission_type_id': 8,\n",
      "                          'age': 10,\n",
      "                          'change': 2,\n",
      "                          'chlorpropamide': 4,\n",
      "                          'diabetesMed': 2,\n",
      "                          'diag_1': 647,\n",
      "                          'diag_2': 664,\n",
      "                          'diag_3': 718,\n",
      "                          'discharge_disposition_id': 26,\n",
      "                          'gender': 3,\n",
      "                          'glimepiride': 4,\n",
      "                          'glipizide': 4,\n",
      "                          'glipizide-metformin': 2,\n",
      "                          'glyburide': 4,\n",
      "                          'glyburide-metformin': 4,\n",
      "                          'insulin': 4,\n",
      "                          'max_glu_serum': 4,\n",
      "                          'metformin': 4,\n",
      "                          'metformin-pioglitazone': 2,\n",
      "                          'metformin-rosiglitazone': 2,\n",
      "                          'miglitol': 4,\n",
      "                          'nateglinide': 4,\n",
      "                          'pioglitazone': 4,\n",
      "                          'race': 5,\n",
      "                          'repaglinide': 4,\n",
      "                          'rosiglitazone': 4,\n",
      "                          'tolazamide': 2,\n",
      "                          'tolbutamide': 2,\n",
      "                          'troglitazone': 2},\n",
      " 'final_output_dim': 2182,\n",
      " 'num_discrete': 32,\n",
      " 'num_real': 8}\n"
     ]
    }
   ],
   "source": [
    "encoder_structure_config, decoder_structure_config, gmm_structure_config, _, latent_dim = create_config(\n",
    "    data_set\n",
    ")\n",
    "pprint(encoder_structure_config)\n",
    "pprint(decoder_structure_config)\n",
    "# =================================== #"
   ]
  },
  {
   "cell_type": "code",
   "execution_count": 7,
   "metadata": {},
   "outputs": [
    {
     "name": "stdout",
     "output_type": "stream",
     "text": [
      "DaGMM(\n",
      "  (encoder): AE_encoder(\n",
      "    (FC_z): Sequential(\n",
      "      (0): Linear(in_features=2182, out_features=256, bias=True)\n",
      "      (1): Tanh()\n",
      "      (2): Linear(in_features=256, out_features=64, bias=True)\n",
      "      (3): Tanh()\n",
      "      (4): Linear(in_features=64, out_features=32, bias=True)\n",
      "      (5): Tanh()\n",
      "      (6): Linear(in_features=32, out_features=10, bias=True)\n",
      "      (7): Tanh()\n",
      "      (8): Linear(in_features=10, out_features=1, bias=True)\n",
      "    )\n",
      "  )\n",
      "  (decoder): AE_decoder(\n",
      "    (FC_z): Sequential(\n",
      "      (0): Linear(in_features=1, out_features=10, bias=True)\n",
      "      (1): Tanh()\n",
      "      (2): Linear(in_features=10, out_features=32, bias=True)\n",
      "      (3): Tanh()\n",
      "      (4): Linear(in_features=32, out_features=64, bias=True)\n",
      "      (5): Tanh()\n",
      "      (6): Linear(in_features=64, out_features=256, bias=True)\n",
      "      (7): Tanh()\n",
      "      (8): Linear(in_features=256, out_features=2182, bias=True)\n",
      "      (9): Tanh()\n",
      "    )\n",
      "  )\n",
      "  (estimation): Sequential(\n",
      "    (0): Linear(in_features=3, out_features=10, bias=True)\n",
      "    (1): Tanh()\n",
      "    (2): Dropout(p=0.5, inplace=False)\n",
      "    (3): Linear(in_features=10, out_features=4, bias=True)\n",
      "    (4): Softmax(dim=1)\n",
      "  )\n",
      ")\n"
     ]
    }
   ],
   "source": [
    "   \n",
    "dagmm_obj = DaGMM(\n",
    "    DEVICE,\n",
    "    encoder_structure_config,\n",
    "    decoder_structure_config,\n",
    "    n_gmm=gmm_structure_config['num_components'],\n",
    "    ae_latent_dim=1\n",
    ")\n",
    "dagmm_obj = dagmm_obj.to(DEVICE)\n",
    "print(dagmm_obj)"
   ]
  },
  {
   "cell_type": "code",
   "execution_count": 8,
   "metadata": {
    "scrolled": true
   },
   "outputs": [
    {
     "name": "stderr",
     "output_type": "stream",
     "text": [
      "  0%|          | 0/100 [00:00<?, ?it/s]"
     ]
    },
    {
     "name": "stdout",
     "output_type": "stream",
     "text": [
      " , total_loss: 2585.6289, sample_energy: -11.8945, recon_error: 0.0238, cov_diag: 517358.8750\n",
      " , total_loss: 2676.5647, sample_energy: -11.8602, recon_error: 0.0238, cov_diag: 535545.4375\n"
     ]
    },
    {
     "name": "stderr",
     "output_type": "stream",
     "text": [
      "  1%|          | 1/100 [00:05<08:26,  5.11s/it]"
     ]
    },
    {
     "name": "stdout",
     "output_type": "stream",
     "text": [
      "Epoch loss :: 2511.6782\n",
      " , total_loss: 2519.9497, sample_energy: -11.8215, recon_error: 0.0238, cov_diag: 504221.6250\n",
      " , total_loss: 2641.5059, sample_energy: -11.8073, recon_error: 0.0238, cov_diag: 528532.5625\n"
     ]
    },
    {
     "name": "stderr",
     "output_type": "stream",
     "text": [
      "  2%|▏         | 2/100 [00:09<08:00,  4.91s/it]"
     ]
    },
    {
     "name": "stdout",
     "output_type": "stream",
     "text": [
      "Epoch loss :: 2502.9922\n",
      " , total_loss: 2535.3179, sample_energy: -11.7606, recon_error: 0.0238, cov_diag: 507294.0625\n",
      " , total_loss: 2158.5781, sample_energy: -11.6749, recon_error: 0.0238, cov_diag: 431944.4062\n"
     ]
    },
    {
     "name": "stderr",
     "output_type": "stream",
     "text": [
      "  3%|▎         | 3/100 [00:14<07:49,  4.84s/it]"
     ]
    },
    {
     "name": "stdout",
     "output_type": "stream",
     "text": [
      "Epoch loss :: 2511.5076\n",
      " , total_loss: 2533.1267, sample_energy: -11.7405, recon_error: 0.0238, cov_diag: 506855.3750\n",
      " , total_loss: 2546.0203, sample_energy: -11.7704, recon_error: 0.0238, cov_diag: 509434.7188\n"
     ]
    },
    {
     "name": "stderr",
     "output_type": "stream",
     "text": [
      "  4%|▍         | 4/100 [00:18<07:39,  4.79s/it]"
     ]
    },
    {
     "name": "stdout",
     "output_type": "stream",
     "text": [
      "Epoch loss :: 2505.655\n",
      " , total_loss: 2443.8459, sample_energy: -11.7690, recon_error: 0.0238, cov_diag: 488999.8125\n",
      " , total_loss: 2429.5723, sample_energy: -11.7251, recon_error: 0.0238, cov_diag: 486144.2188\n"
     ]
    },
    {
     "name": "stderr",
     "output_type": "stream",
     "text": [
      "  5%|▌         | 5/100 [00:24<07:47,  4.92s/it]"
     ]
    },
    {
     "name": "stdout",
     "output_type": "stream",
     "text": [
      "Epoch loss :: 2505.4207\n",
      " , total_loss: 2451.7192, sample_energy: -11.7357, recon_error: 0.0238, cov_diag: 490573.8125\n",
      " , total_loss: 2347.5974, sample_energy: -11.7786, recon_error: 0.0238, cov_diag: 469750.3125\n"
     ]
    },
    {
     "name": "stderr",
     "output_type": "stream",
     "text": [
      "  6%|▌         | 6/100 [00:29<07:43,  4.93s/it]"
     ]
    },
    {
     "name": "stdout",
     "output_type": "stream",
     "text": [
      "Epoch loss :: 2507.7195\n",
      " , total_loss: 2360.8914, sample_energy: -11.7773, recon_error: 0.0238, cov_diag: 472409.0938\n",
      " , total_loss: 2849.0798, sample_energy: -11.8719, recon_error: 0.0238, cov_diag: 570048.6250\n"
     ]
    },
    {
     "name": "stderr",
     "output_type": "stream",
     "text": [
      "  7%|▋         | 7/100 [00:33<07:31,  4.85s/it]"
     ]
    },
    {
     "name": "stdout",
     "output_type": "stream",
     "text": [
      "Epoch loss :: 2503.3188\n",
      " , total_loss: 2485.4202, sample_energy: -11.7576, recon_error: 0.0238, cov_diag: 497314.4375\n",
      " , total_loss: 2511.4268, sample_energy: -11.7755, recon_error: 0.0238, cov_diag: 502516.1250\n"
     ]
    },
    {
     "name": "stderr",
     "output_type": "stream",
     "text": [
      "  8%|▊         | 8/100 [00:37<07:04,  4.61s/it]"
     ]
    },
    {
     "name": "stdout",
     "output_type": "stream",
     "text": [
      "Epoch loss :: 2512.882\n",
      " , total_loss: 2440.9829, sample_energy: -11.7682, recon_error: 0.0238, cov_diag: 488427.1875\n",
      " , total_loss: 2312.7307, sample_energy: -11.8338, recon_error: 0.0238, cov_diag: 462778.0625\n"
     ]
    },
    {
     "name": "stderr",
     "output_type": "stream",
     "text": [
      "  9%|▉         | 9/100 [00:42<06:59,  4.61s/it]"
     ]
    },
    {
     "name": "stdout",
     "output_type": "stream",
     "text": [
      "Epoch loss :: 2508.4155\n",
      " , total_loss: 2570.3000, sample_energy: -11.6452, recon_error: 0.0238, cov_diag: 514288.1250\n",
      " , total_loss: 2601.7690, sample_energy: -11.8940, recon_error: 0.0238, cov_diag: 520586.9375\n"
     ]
    },
    {
     "name": "stderr",
     "output_type": "stream",
     "text": [
      " 10%|█         | 10/100 [00:46<06:41,  4.46s/it]"
     ]
    },
    {
     "name": "stdout",
     "output_type": "stream",
     "text": [
      "Epoch loss :: 2507.9026\n",
      " , total_loss: 2441.6155, sample_energy: -11.8404, recon_error: 0.0238, cov_diag: 488555.1250\n",
      " , total_loss: 2403.0503, sample_energy: -11.8711, recon_error: 0.0238, cov_diag: 480842.7500\n"
     ]
    },
    {
     "name": "stderr",
     "output_type": "stream",
     "text": [
      " 11%|█         | 11/100 [00:51<06:42,  4.52s/it]"
     ]
    },
    {
     "name": "stdout",
     "output_type": "stream",
     "text": [
      "Epoch loss :: 2509.0295\n",
      " , total_loss: 2409.2336, sample_energy: -11.7076, recon_error: 0.0238, cov_diag: 482076.1250\n",
      " , total_loss: 2377.8665, sample_energy: -11.7198, recon_error: 0.0238, cov_diag: 475802.9375\n"
     ]
    },
    {
     "name": "stderr",
     "output_type": "stream",
     "text": [
      " 12%|█▏        | 12/100 [00:55<06:40,  4.55s/it]"
     ]
    },
    {
     "name": "stdout",
     "output_type": "stream",
     "text": [
      "Epoch loss :: 2511.5996\n",
      " , total_loss: 2276.1943, sample_energy: -11.5939, recon_error: 0.0238, cov_diag: 455465.9688\n",
      " , total_loss: 2552.9692, sample_energy: -11.8357, recon_error: 0.0238, cov_diag: 510825.8125\n"
     ]
    },
    {
     "name": "stderr",
     "output_type": "stream",
     "text": [
      " 13%|█▎        | 13/100 [01:00<06:44,  4.65s/it]"
     ]
    },
    {
     "name": "stdout",
     "output_type": "stream",
     "text": [
      "Epoch loss :: 2506.457\n",
      " , total_loss: 2319.0608, sample_energy: -11.7562, recon_error: 0.0238, cov_diag: 464042.5312\n",
      " , total_loss: 2363.6731, sample_energy: -11.7744, recon_error: 0.0238, cov_diag: 472965.3438\n"
     ]
    },
    {
     "name": "stderr",
     "output_type": "stream",
     "text": [
      " 14%|█▍        | 14/100 [01:04<06:21,  4.43s/it]"
     ]
    },
    {
     "name": "stdout",
     "output_type": "stream",
     "text": [
      "Epoch loss :: 2515.6257\n",
      " , total_loss: 2856.2671, sample_energy: -11.9512, recon_error: 0.0238, cov_diag: 571487.6875\n",
      " , total_loss: 2289.5396, sample_energy: -11.7125, recon_error: 0.0238, cov_diag: 458137.4062\n"
     ]
    },
    {
     "name": "stderr",
     "output_type": "stream",
     "text": [
      " 15%|█▌        | 15/100 [01:08<06:10,  4.36s/it]"
     ]
    },
    {
     "name": "stdout",
     "output_type": "stream",
     "text": [
      "Epoch loss :: 2511.071\n",
      " , total_loss: 2569.9006, sample_energy: -11.8182, recon_error: 0.0238, cov_diag: 514211.7188\n",
      " , total_loss: 2319.8372, sample_energy: -11.7436, recon_error: 0.0238, cov_diag: 464197.5625\n"
     ]
    },
    {
     "name": "stderr",
     "output_type": "stream",
     "text": [
      " 16%|█▌        | 16/100 [01:12<06:01,  4.31s/it]"
     ]
    },
    {
     "name": "stdout",
     "output_type": "stream",
     "text": [
      "Epoch loss :: 2503.9648\n",
      " , total_loss: 2826.1831, sample_energy: -11.9258, recon_error: 0.0238, cov_diag: 565470.3750\n",
      " , total_loss: 2393.1921, sample_energy: -11.7519, recon_error: 0.0238, cov_diag: 478868.7188\n"
     ]
    },
    {
     "name": "stderr",
     "output_type": "stream",
     "text": [
      " 17%|█▋        | 17/100 [01:16<05:50,  4.22s/it]"
     ]
    },
    {
     "name": "stdout",
     "output_type": "stream",
     "text": [
      "Epoch loss :: 2517.2783\n",
      " , total_loss: 2580.8818, sample_energy: -11.7565, recon_error: 0.0238, cov_diag: 516406.7500\n",
      " , total_loss: 2339.9287, sample_energy: -11.8019, recon_error: 0.0238, cov_diag: 468217.0625\n"
     ]
    },
    {
     "name": "stderr",
     "output_type": "stream",
     "text": [
      " 18%|█▊        | 18/100 [01:21<05:55,  4.34s/it]"
     ]
    },
    {
     "name": "stdout",
     "output_type": "stream",
     "text": [
      "Epoch loss :: 2504.2883\n",
      " , total_loss: 2363.2810, sample_energy: -11.8989, recon_error: 0.0238, cov_diag: 472889.4375\n",
      " , total_loss: 2803.4583, sample_energy: -11.8366, recon_error: 0.0238, cov_diag: 560923.6250\n"
     ]
    },
    {
     "name": "stderr",
     "output_type": "stream",
     "text": [
      " 19%|█▉        | 19/100 [01:27<06:17,  4.66s/it]"
     ]
    },
    {
     "name": "stdout",
     "output_type": "stream",
     "text": [
      "Epoch loss :: 2510.6487\n",
      " , total_loss: 2529.7778, sample_energy: -11.7835, recon_error: 0.0238, cov_diag: 506186.5000\n",
      " , total_loss: 2306.2078, sample_energy: -11.6799, recon_error: 0.0238, cov_diag: 461470.4375\n"
     ]
    },
    {
     "name": "stderr",
     "output_type": "stream",
     "text": [
      " 20%|██        | 20/100 [01:31<06:04,  4.55s/it]"
     ]
    },
    {
     "name": "stdout",
     "output_type": "stream",
     "text": [
      "Epoch loss :: 2517.4976\n",
      " , total_loss: 2446.4673, sample_energy: -11.7603, recon_error: 0.0238, cov_diag: 489523.9375\n",
      " , total_loss: 2747.3838, sample_energy: -11.8443, recon_error: 0.0238, cov_diag: 549708.8750\n"
     ]
    },
    {
     "name": "stderr",
     "output_type": "stream",
     "text": [
      " 21%|██        | 21/100 [01:35<05:56,  4.52s/it]"
     ]
    },
    {
     "name": "stdout",
     "output_type": "stream",
     "text": [
      "Epoch loss :: 2510.5078\n",
      " , total_loss: 2215.0142, sample_energy: -11.6365, recon_error: 0.0238, cov_diag: 443230.8125\n",
      " , total_loss: 2598.2466, sample_energy: -11.7592, recon_error: 0.0238, cov_diag: 519879.7500\n"
     ]
    },
    {
     "name": "stderr",
     "output_type": "stream",
     "text": [
      " 22%|██▏       | 22/100 [01:40<05:46,  4.44s/it]"
     ]
    },
    {
     "name": "stdout",
     "output_type": "stream",
     "text": [
      "Epoch loss :: 2506.1553\n",
      " , total_loss: 2642.4734, sample_energy: -11.8912, recon_error: 0.0238, cov_diag: 528727.7500\n",
      " , total_loss: 2499.3523, sample_energy: -11.6056, recon_error: 0.0238, cov_diag: 500097.8125\n"
     ]
    },
    {
     "name": "stderr",
     "output_type": "stream",
     "text": [
      " 23%|██▎       | 23/100 [01:44<05:46,  4.51s/it]"
     ]
    },
    {
     "name": "stdout",
     "output_type": "stream",
     "text": [
      "Epoch loss :: 2509.082\n",
      " , total_loss: 2430.1040, sample_energy: -11.7246, recon_error: 0.0238, cov_diag: 486250.5625\n",
      " , total_loss: 2424.6995, sample_energy: -11.9121, recon_error: 0.0238, cov_diag: 485173.4062\n"
     ]
    },
    {
     "name": "stderr",
     "output_type": "stream",
     "text": [
      " 24%|██▍       | 24/100 [01:49<05:44,  4.54s/it]"
     ]
    },
    {
     "name": "stdout",
     "output_type": "stream",
     "text": [
      "Epoch loss :: 2515.822\n",
      " , total_loss: 2520.6321, sample_energy: -11.8371, recon_error: 0.0238, cov_diag: 504358.4062\n",
      " , total_loss: 2656.8201, sample_energy: -11.8901, recon_error: 0.0238, cov_diag: 531597.0625\n"
     ]
    },
    {
     "name": "stderr",
     "output_type": "stream",
     "text": [
      " 25%|██▌       | 25/100 [01:53<05:41,  4.55s/it]"
     ]
    },
    {
     "name": "stdout",
     "output_type": "stream",
     "text": [
      "Epoch loss :: 2516.0579\n",
      " , total_loss: 2501.2471, sample_energy: -11.7285, recon_error: 0.0238, cov_diag: 500479.1875\n",
      " , total_loss: 2761.3015, sample_energy: -12.0212, recon_error: 0.0238, cov_diag: 552496.0000\n"
     ]
    },
    {
     "name": "stderr",
     "output_type": "stream",
     "text": [
      " 26%|██▌       | 26/100 [01:58<05:47,  4.70s/it]"
     ]
    },
    {
     "name": "stdout",
     "output_type": "stream",
     "text": [
      "Epoch loss :: 2503.044\n",
      " , total_loss: 2559.3608, sample_energy: -11.8049, recon_error: 0.0238, cov_diag: 512103.5312\n",
      " , total_loss: 2700.3853, sample_energy: -11.7796, recon_error: 0.0238, cov_diag: 540307.8750\n"
     ]
    },
    {
     "name": "stderr",
     "output_type": "stream",
     "text": [
      " 27%|██▋       | 27/100 [02:04<05:55,  4.88s/it]"
     ]
    },
    {
     "name": "stdout",
     "output_type": "stream",
     "text": [
      "Epoch loss :: 2509.9712\n",
      " , total_loss: 2567.7500, sample_energy: -11.8932, recon_error: 0.0238, cov_diag: 513783.0938\n",
      " , total_loss: 2242.3313, sample_energy: -11.7441, recon_error: 0.0238, cov_diag: 448696.3750\n"
     ]
    },
    {
     "name": "stderr",
     "output_type": "stream",
     "text": [
      " 28%|██▊       | 28/100 [02:08<05:45,  4.79s/it]"
     ]
    },
    {
     "name": "stdout",
     "output_type": "stream",
     "text": [
      "Epoch loss :: 2508.1643\n",
      " , total_loss: 2796.0320, sample_energy: -11.9190, recon_error: 0.0238, cov_diag: 559440.0000\n",
      " , total_loss: 2593.8962, sample_energy: -11.7920, recon_error: 0.0238, cov_diag: 519010.3125\n"
     ]
    },
    {
     "name": "stderr",
     "output_type": "stream",
     "text": [
      " 29%|██▉       | 29/100 [02:14<05:52,  4.97s/it]"
     ]
    },
    {
     "name": "stdout",
     "output_type": "stream",
     "text": [
      "Epoch loss :: 2508.706\n",
      " , total_loss: 2406.0461, sample_energy: -11.7972, recon_error: 0.0238, cov_diag: 481440.4375\n",
      " , total_loss: 2453.0154, sample_energy: -11.8800, recon_error: 0.0238, cov_diag: 490835.9062\n"
     ]
    },
    {
     "name": "stderr",
     "output_type": "stream",
     "text": [
      " 30%|███       | 30/100 [02:19<05:55,  5.08s/it]"
     ]
    },
    {
     "name": "stdout",
     "output_type": "stream",
     "text": [
      "Epoch loss :: 2512.7764\n",
      " , total_loss: 2370.9756, sample_energy: -11.8714, recon_error: 0.0238, cov_diag: 474427.8125\n",
      " , total_loss: 2868.7524, sample_energy: -11.9584, recon_error: 0.0238, cov_diag: 573984.9375\n"
     ]
    },
    {
     "name": "stderr",
     "output_type": "stream",
     "text": [
      " 31%|███       | 31/100 [02:24<05:50,  5.08s/it]"
     ]
    },
    {
     "name": "stdout",
     "output_type": "stream",
     "text": [
      "Epoch loss :: 2504.2554\n",
      " , total_loss: 2596.9836, sample_energy: -11.7477, recon_error: 0.0238, cov_diag: 519626.9062\n",
      " , total_loss: 3007.8247, sample_energy: -12.0306, recon_error: 0.0238, cov_diag: 601800.8125\n"
     ]
    },
    {
     "name": "stderr",
     "output_type": "stream",
     "text": [
      " 32%|███▏      | 32/100 [02:29<05:36,  4.95s/it]"
     ]
    },
    {
     "name": "stdout",
     "output_type": "stream",
     "text": [
      "Epoch loss :: 2511.6821\n",
      " , total_loss: 2396.1633, sample_energy: -11.8399, recon_error: 0.0238, cov_diag: 479464.7188\n",
      " , total_loss: 2274.7234, sample_energy: -11.6522, recon_error: 0.0238, cov_diag: 455172.9375\n"
     ]
    },
    {
     "name": "stderr",
     "output_type": "stream",
     "text": [
      " 33%|███▎      | 33/100 [02:33<05:22,  4.82s/it]"
     ]
    },
    {
     "name": "stdout",
     "output_type": "stream",
     "text": [
      "Epoch loss :: 2506.4534\n",
      " , total_loss: 2300.5913, sample_energy: -11.7710, recon_error: 0.0238, cov_diag: 460348.9375\n",
      " , total_loss: 2547.0984, sample_energy: -11.7573, recon_error: 0.0238, cov_diag: 509650.0625\n"
     ]
    },
    {
     "name": "stderr",
     "output_type": "stream",
     "text": [
      " 34%|███▍      | 34/100 [02:38<05:25,  4.93s/it]"
     ]
    },
    {
     "name": "stdout",
     "output_type": "stream",
     "text": [
      "Epoch loss :: 2516.9785\n",
      " , total_loss: 2344.1799, sample_energy: -11.9109, recon_error: 0.0237, cov_diag: 469069.4375\n",
      " , total_loss: 2544.6255, sample_energy: -11.8177, recon_error: 0.0238, cov_diag: 509156.7188\n"
     ]
    },
    {
     "name": "stderr",
     "output_type": "stream",
     "text": [
      " 35%|███▌      | 35/100 [02:43<05:11,  4.80s/it]"
     ]
    },
    {
     "name": "stdout",
     "output_type": "stream",
     "text": [
      "Epoch loss :: 2515.9324\n",
      " , total_loss: 2430.5308, sample_energy: -11.7949, recon_error: 0.0238, cov_diag: 486337.3125\n",
      " , total_loss: 2570.7305, sample_energy: -11.9695, recon_error: 0.0238, cov_diag: 514380.7188\n"
     ]
    },
    {
     "name": "stderr",
     "output_type": "stream",
     "text": [
      " 36%|███▌      | 36/100 [02:47<05:01,  4.71s/it]"
     ]
    },
    {
     "name": "stdout",
     "output_type": "stream",
     "text": [
      "Epoch loss :: 2510.0195\n",
      " , total_loss: 2579.7039, sample_energy: -11.8277, recon_error: 0.0238, cov_diag: 516172.5938\n",
      " , total_loss: 2468.4768, sample_energy: -11.8759, recon_error: 0.0238, cov_diag: 493928.1562\n"
     ]
    },
    {
     "name": "stderr",
     "output_type": "stream",
     "text": [
      " 37%|███▋      | 37/100 [02:52<04:44,  4.52s/it]"
     ]
    },
    {
     "name": "stdout",
     "output_type": "stream",
     "text": [
      "Epoch loss :: 2511.0383\n",
      " , total_loss: 2297.7874, sample_energy: -11.6594, recon_error: 0.0238, cov_diag: 459785.8750\n",
      " , total_loss: 2663.2832, sample_energy: -11.8358, recon_error: 0.0238, cov_diag: 532888.5625\n"
     ]
    },
    {
     "name": "stderr",
     "output_type": "stream",
     "text": [
      " 38%|███▊      | 38/100 [02:57<04:55,  4.77s/it]"
     ]
    },
    {
     "name": "stdout",
     "output_type": "stream",
     "text": [
      "Epoch loss :: 2509.72\n",
      " , total_loss: 2742.9343, sample_energy: -11.8776, recon_error: 0.0238, cov_diag: 548819.6250\n",
      " , total_loss: 2521.5972, sample_energy: -11.8720, recon_error: 0.0238, cov_diag: 504552.1250\n"
     ]
    },
    {
     "name": "stderr",
     "output_type": "stream",
     "text": [
      " 39%|███▉      | 39/100 [03:01<04:41,  4.62s/it]"
     ]
    },
    {
     "name": "stdout",
     "output_type": "stream",
     "text": [
      "Epoch loss :: 2508.8953\n",
      " , total_loss: 2522.8132, sample_energy: -11.8931, recon_error: 0.0238, cov_diag: 504795.7812\n",
      " , total_loss: 2790.7432, sample_energy: -11.9617, recon_error: 0.0238, cov_diag: 558383.1250\n"
     ]
    },
    {
     "name": "stderr",
     "output_type": "stream",
     "text": [
      " 40%|████      | 40/100 [03:05<04:30,  4.50s/it]"
     ]
    },
    {
     "name": "stdout",
     "output_type": "stream",
     "text": [
      "Epoch loss :: 2509.9285\n",
      " , total_loss: 2160.2930, sample_energy: -11.5375, recon_error: 0.0238, cov_diag: 432284.5938\n",
      " , total_loss: 2491.1357, sample_energy: -11.8313, recon_error: 0.0238, cov_diag: 498459.0625\n"
     ]
    },
    {
     "name": "stderr",
     "output_type": "stream",
     "text": [
      " 41%|████      | 41/100 [03:09<04:17,  4.37s/it]"
     ]
    },
    {
     "name": "stdout",
     "output_type": "stream",
     "text": [
      "Epoch loss :: 2507.9028\n",
      " , total_loss: 2805.4128, sample_energy: -11.9023, recon_error: 0.0238, cov_diag: 561315.8750\n",
      " , total_loss: 2424.1548, sample_energy: -11.8414, recon_error: 0.0238, cov_diag: 485063.0625\n"
     ]
    },
    {
     "name": "stderr",
     "output_type": "stream",
     "text": [
      " 42%|████▏     | 42/100 [03:14<04:19,  4.48s/it]"
     ]
    },
    {
     "name": "stdout",
     "output_type": "stream",
     "text": [
      "Epoch loss :: 2515.8306\n",
      " , total_loss: 2834.2847, sample_energy: -11.6990, recon_error: 0.0238, cov_diag: 567086.1250\n",
      " , total_loss: 2503.1951, sample_energy: -11.7303, recon_error: 0.0238, cov_diag: 500868.8750\n"
     ]
    },
    {
     "name": "stderr",
     "output_type": "stream",
     "text": [
      " 43%|████▎     | 43/100 [03:20<04:31,  4.77s/it]"
     ]
    },
    {
     "name": "stdout",
     "output_type": "stream",
     "text": [
      "Epoch loss :: 2505.448\n",
      " , total_loss: 2304.9368, sample_energy: -11.6669, recon_error: 0.0238, cov_diag: 461215.9375\n",
      " , total_loss: 2210.9456, sample_energy: -11.7293, recon_error: 0.0238, cov_diag: 442418.9375\n"
     ]
    },
    {
     "name": "stderr",
     "output_type": "stream",
     "text": [
      " 44%|████▍     | 44/100 [03:24<04:24,  4.72s/it]"
     ]
    },
    {
     "name": "stdout",
     "output_type": "stream",
     "text": [
      "Epoch loss :: 2518.588\n",
      " , total_loss: 2434.2363, sample_energy: -11.7740, recon_error: 0.0238, cov_diag: 487078.0000\n",
      " , total_loss: 2186.3069, sample_energy: -11.7113, recon_error: 0.0238, cov_diag: 437490.8438\n"
     ]
    },
    {
     "name": "stderr",
     "output_type": "stream",
     "text": [
      " 45%|████▌     | 45/100 [03:29<04:19,  4.72s/it]"
     ]
    },
    {
     "name": "stdout",
     "output_type": "stream",
     "text": [
      "Epoch loss :: 2508.243\n",
      " , total_loss: 2426.8735, sample_energy: -11.8806, recon_error: 0.0238, cov_diag: 485607.5938\n",
      " , total_loss: 2975.2231, sample_energy: -12.0013, recon_error: 0.0238, cov_diag: 595279.8750\n"
     ]
    },
    {
     "name": "stderr",
     "output_type": "stream",
     "text": [
      " 46%|████▌     | 46/100 [03:33<04:08,  4.61s/it]"
     ]
    },
    {
     "name": "stdout",
     "output_type": "stream",
     "text": [
      "Epoch loss :: 2512.6743\n",
      " , total_loss: 2385.6992, sample_energy: -11.7945, recon_error: 0.0238, cov_diag: 477371.0000\n",
      " , total_loss: 3085.5212, sample_energy: -12.0995, recon_error: 0.0238, cov_diag: 617341.5000\n"
     ]
    },
    {
     "name": "stderr",
     "output_type": "stream",
     "text": [
      " 47%|████▋     | 47/100 [03:38<03:58,  4.50s/it]"
     ]
    },
    {
     "name": "stdout",
     "output_type": "stream",
     "text": [
      "Epoch loss :: 2510.7383\n",
      " , total_loss: 2561.2039, sample_energy: -11.7765, recon_error: 0.0238, cov_diag: 512471.5312\n",
      " , total_loss: 2498.5081, sample_energy: -11.7346, recon_error: 0.0238, cov_diag: 499931.5312\n"
     ]
    },
    {
     "name": "stderr",
     "output_type": "stream",
     "text": [
      " 48%|████▊     | 48/100 [03:42<03:57,  4.56s/it]"
     ]
    },
    {
     "name": "stdout",
     "output_type": "stream",
     "text": [
      "Epoch loss :: 2508.62\n",
      " , total_loss: 2691.9070, sample_energy: -11.8428, recon_error: 0.0238, cov_diag: 538613.5000\n",
      " , total_loss: 2406.0742, sample_energy: -11.6996, recon_error: 0.0238, cov_diag: 481444.0938\n"
     ]
    },
    {
     "name": "stderr",
     "output_type": "stream",
     "text": [
      " 49%|████▉     | 49/100 [03:47<03:49,  4.50s/it]"
     ]
    },
    {
     "name": "stdout",
     "output_type": "stream",
     "text": [
      "Epoch loss :: 2507.7256\n",
      " , total_loss: 2559.8264, sample_energy: -11.9194, recon_error: 0.0238, cov_diag: 512198.9375\n",
      " , total_loss: 2445.9861, sample_energy: -11.6637, recon_error: 0.0238, cov_diag: 489425.7500\n"
     ]
    },
    {
     "name": "stderr",
     "output_type": "stream",
     "text": [
      " 50%|█████     | 50/100 [03:51<03:45,  4.51s/it]"
     ]
    },
    {
     "name": "stdout",
     "output_type": "stream",
     "text": [
      "Epoch loss :: 2510.6812\n",
      " , total_loss: 2148.8396, sample_energy: -11.6129, recon_error: 0.0238, cov_diag: 429995.4375\n",
      " , total_loss: 2345.0356, sample_energy: -11.7618, recon_error: 0.0238, cov_diag: 469237.6250\n"
     ]
    },
    {
     "name": "stderr",
     "output_type": "stream",
     "text": [
      " 51%|█████     | 51/100 [03:56<03:43,  4.56s/it]"
     ]
    },
    {
     "name": "stdout",
     "output_type": "stream",
     "text": [
      "Epoch loss :: 2512.9868\n",
      " , total_loss: 2283.0732, sample_energy: -11.7259, recon_error: 0.0238, cov_diag: 456844.4062\n",
      " , total_loss: 2587.0549, sample_energy: -11.8364, recon_error: 0.0238, cov_diag: 517643.0000\n"
     ]
    },
    {
     "name": "stderr",
     "output_type": "stream",
     "text": [
      " 52%|█████▏    | 52/100 [04:00<03:38,  4.56s/it]"
     ]
    },
    {
     "name": "stdout",
     "output_type": "stream",
     "text": [
      "Epoch loss :: 2503.673\n",
      " , total_loss: 2361.7549, sample_energy: -11.7054, recon_error: 0.0238, cov_diag: 472580.3125\n",
      " , total_loss: 2664.1196, sample_energy: -11.9553, recon_error: 0.0238, cov_diag: 533058.2500\n"
     ]
    },
    {
     "name": "stderr",
     "output_type": "stream",
     "text": [
      " 53%|█████▎    | 53/100 [04:05<03:28,  4.44s/it]"
     ]
    },
    {
     "name": "stdout",
     "output_type": "stream",
     "text": [
      "Epoch loss :: 2514.8286\n",
      " , total_loss: 2642.7109, sample_energy: -11.9377, recon_error: 0.0238, cov_diag: 528776.1875\n",
      " , total_loss: 2524.7927, sample_energy: -11.8336, recon_error: 0.0238, cov_diag: 505190.4688\n"
     ]
    },
    {
     "name": "stderr",
     "output_type": "stream",
     "text": [
      " 54%|█████▍    | 54/100 [04:09<03:21,  4.38s/it]"
     ]
    },
    {
     "name": "stdout",
     "output_type": "stream",
     "text": [
      "Epoch loss :: 2517.9705\n",
      " , total_loss: 2464.1165, sample_energy: -11.8036, recon_error: 0.0238, cov_diag: 493054.6250\n",
      " , total_loss: 2530.3247, sample_energy: -11.7907, recon_error: 0.0238, cov_diag: 506296.0312\n"
     ]
    },
    {
     "name": "stderr",
     "output_type": "stream",
     "text": [
      " 55%|█████▌    | 55/100 [04:13<03:20,  4.46s/it]"
     ]
    },
    {
     "name": "stdout",
     "output_type": "stream",
     "text": [
      "Epoch loss :: 2504.3472\n",
      " , total_loss: 2463.2488, sample_energy: -11.8356, recon_error: 0.0238, cov_diag: 492881.6875\n",
      " , total_loss: 2575.7014, sample_energy: -11.7837, recon_error: 0.0238, cov_diag: 515371.1875\n"
     ]
    },
    {
     "name": "stderr",
     "output_type": "stream",
     "text": [
      " 56%|█████▌    | 56/100 [04:18<03:15,  4.45s/it]"
     ]
    },
    {
     "name": "stdout",
     "output_type": "stream",
     "text": [
      "Epoch loss :: 2507.1882\n",
      " , total_loss: 2631.1465, sample_energy: -11.8314, recon_error: 0.0238, cov_diag: 526461.1875\n",
      " , total_loss: 2489.9883, sample_energy: -11.6714, recon_error: 0.0238, cov_diag: 498226.3125\n"
     ]
    },
    {
     "name": "stderr",
     "output_type": "stream",
     "text": [
      " 57%|█████▋    | 57/100 [04:22<03:08,  4.39s/it]"
     ]
    },
    {
     "name": "stdout",
     "output_type": "stream",
     "text": [
      "Epoch loss :: 2507.3716\n",
      " , total_loss: 2319.8193, sample_energy: -11.6862, recon_error: 0.0238, cov_diag: 464192.8438\n",
      " , total_loss: 2452.6724, sample_energy: -11.8732, recon_error: 0.0238, cov_diag: 490767.1875\n"
     ]
    },
    {
     "name": "stderr",
     "output_type": "stream",
     "text": [
      " 58%|█████▊    | 58/100 [04:27<03:04,  4.40s/it]"
     ]
    },
    {
     "name": "stdout",
     "output_type": "stream",
     "text": [
      "Epoch loss :: 2506.7078\n",
      " , total_loss: 2415.6650, sample_energy: -11.7619, recon_error: 0.0238, cov_diag: 483363.4688\n",
      " , total_loss: 2418.3918, sample_energy: -11.7542, recon_error: 0.0238, cov_diag: 483908.6875\n"
     ]
    },
    {
     "name": "stderr",
     "output_type": "stream",
     "text": [
      " 59%|█████▉    | 59/100 [04:31<03:06,  4.54s/it]"
     ]
    },
    {
     "name": "stdout",
     "output_type": "stream",
     "text": [
      "Epoch loss :: 2506.4836\n",
      " , total_loss: 2555.5413, sample_energy: -11.8450, recon_error: 0.0238, cov_diag: 511340.3750\n",
      " , total_loss: 2763.7678, sample_energy: -11.9838, recon_error: 0.0238, cov_diag: 552988.5000\n"
     ]
    },
    {
     "name": "stderr",
     "output_type": "stream",
     "text": [
      " 60%|██████    | 60/100 [04:36<02:57,  4.43s/it]"
     ]
    },
    {
     "name": "stdout",
     "output_type": "stream",
     "text": [
      "Epoch loss :: 2512.8481\n",
      " , total_loss: 2898.0679, sample_energy: -11.8633, recon_error: 0.0238, cov_diag: 579846.1250\n",
      " , total_loss: 2553.6240, sample_energy: -11.8568, recon_error: 0.0238, cov_diag: 510957.1875\n"
     ]
    },
    {
     "name": "stderr",
     "output_type": "stream",
     "text": [
      " 61%|██████    | 61/100 [04:41<03:02,  4.67s/it]"
     ]
    },
    {
     "name": "stdout",
     "output_type": "stream",
     "text": [
      "Epoch loss :: 2506.301\n",
      " , total_loss: 2446.8284, sample_energy: -11.8287, recon_error: 0.0238, cov_diag: 489597.5312\n",
      " , total_loss: 2854.0728, sample_energy: -11.8771, recon_error: 0.0238, cov_diag: 571047.3125\n"
     ]
    },
    {
     "name": "stderr",
     "output_type": "stream",
     "text": [
      " 62%|██████▏   | 62/100 [04:45<02:57,  4.66s/it]"
     ]
    },
    {
     "name": "stdout",
     "output_type": "stream",
     "text": [
      "Epoch loss :: 2513.6978\n",
      " , total_loss: 2216.3569, sample_energy: -11.7517, recon_error: 0.0238, cov_diag: 443501.6875\n",
      " , total_loss: 2603.9531, sample_energy: -11.8960, recon_error: 0.0238, cov_diag: 521023.8125\n"
     ]
    },
    {
     "name": "stderr",
     "output_type": "stream",
     "text": [
      " 63%|██████▎   | 63/100 [04:50<02:46,  4.51s/it]"
     ]
    },
    {
     "name": "stdout",
     "output_type": "stream",
     "text": [
      "Epoch loss :: 2510.0776\n",
      " , total_loss: 2553.9534, sample_energy: -11.7504, recon_error: 0.0238, cov_diag: 511020.9688\n",
      " , total_loss: 2641.4868, sample_energy: -11.8661, recon_error: 0.0238, cov_diag: 528529.9375\n"
     ]
    },
    {
     "name": "stderr",
     "output_type": "stream",
     "text": [
      " 64%|██████▍   | 64/100 [04:54<02:40,  4.45s/it]"
     ]
    },
    {
     "name": "stdout",
     "output_type": "stream",
     "text": [
      "Epoch loss :: 2508.468\n",
      " , total_loss: 2121.3511, sample_energy: -11.5920, recon_error: 0.0238, cov_diag: 424497.2812\n",
      " , total_loss: 2677.6604, sample_energy: -11.7593, recon_error: 0.0238, cov_diag: 535762.5000\n"
     ]
    },
    {
     "name": "stderr",
     "output_type": "stream",
     "text": [
      " 65%|██████▌   | 65/100 [04:58<02:31,  4.34s/it]"
     ]
    },
    {
     "name": "stdout",
     "output_type": "stream",
     "text": [
      "Epoch loss :: 2506.3586\n",
      " , total_loss: 2595.6877, sample_energy: -11.9818, recon_error: 0.0238, cov_diag: 519372.4375\n",
      " , total_loss: 2237.3860, sample_energy: -11.8414, recon_error: 0.0238, cov_diag: 447709.2812\n"
     ]
    },
    {
     "name": "stderr",
     "output_type": "stream",
     "text": [
      " 66%|██████▌   | 66/100 [05:02<02:29,  4.39s/it]"
     ]
    },
    {
     "name": "stdout",
     "output_type": "stream",
     "text": [
      "Epoch loss :: 2514.243\n",
      " , total_loss: 2320.5146, sample_energy: -11.7034, recon_error: 0.0238, cov_diag: 464332.2500\n",
      " , total_loss: 2696.0024, sample_energy: -11.9756, recon_error: 0.0238, cov_diag: 539435.2500\n"
     ]
    },
    {
     "name": "stderr",
     "output_type": "stream",
     "text": [
      " 67%|██████▋   | 67/100 [05:07<02:28,  4.51s/it]"
     ]
    },
    {
     "name": "stdout",
     "output_type": "stream",
     "text": [
      "Epoch loss :: 2513.4597\n",
      " , total_loss: 2610.3289, sample_energy: -11.6896, recon_error: 0.0238, cov_diag: 522294.7812\n",
      " , total_loss: 2343.5601, sample_energy: -11.7675, recon_error: 0.0238, cov_diag: 468942.5938\n"
     ]
    },
    {
     "name": "stderr",
     "output_type": "stream",
     "text": [
      " 68%|██████▊   | 68/100 [05:12<02:23,  4.48s/it]"
     ]
    },
    {
     "name": "stdout",
     "output_type": "stream",
     "text": [
      "Epoch loss :: 2510.1313\n",
      " , total_loss: 2675.2986, sample_energy: -11.8146, recon_error: 0.0238, cov_diag: 535291.2500\n",
      " , total_loss: 2349.2019, sample_energy: -11.7258, recon_error: 0.0238, cov_diag: 470070.1250\n"
     ]
    },
    {
     "name": "stderr",
     "output_type": "stream",
     "text": [
      " 69%|██████▉   | 69/100 [05:16<02:15,  4.39s/it]"
     ]
    },
    {
     "name": "stdout",
     "output_type": "stream",
     "text": [
      "Epoch loss :: 2510.9543\n",
      " , total_loss: 2380.3513, sample_energy: -11.7995, recon_error: 0.0238, cov_diag: 476301.5000\n",
      " , total_loss: 2363.4978, sample_energy: -11.7713, recon_error: 0.0238, cov_diag: 472930.2188\n"
     ]
    },
    {
     "name": "stderr",
     "output_type": "stream",
     "text": [
      " 70%|███████   | 70/100 [05:20<02:11,  4.39s/it]"
     ]
    },
    {
     "name": "stdout",
     "output_type": "stream",
     "text": [
      "Epoch loss :: 2507.5742\n",
      " , total_loss: 2517.9258, sample_energy: -11.7557, recon_error: 0.0238, cov_diag: 503815.5312\n",
      " , total_loss: 2526.9973, sample_energy: -11.7936, recon_error: 0.0238, cov_diag: 505630.5625\n"
     ]
    },
    {
     "name": "stderr",
     "output_type": "stream",
     "text": [
      " 71%|███████   | 71/100 [05:25<02:09,  4.47s/it]"
     ]
    },
    {
     "name": "stdout",
     "output_type": "stream",
     "text": [
      "Epoch loss :: 2510.1445\n",
      " , total_loss: 2391.7014, sample_energy: -11.7891, recon_error: 0.0238, cov_diag: 478571.3125\n",
      " , total_loss: 3037.9646, sample_energy: -11.8800, recon_error: 0.0238, cov_diag: 607825.8125\n"
     ]
    },
    {
     "name": "stderr",
     "output_type": "stream",
     "text": [
      " 72%|███████▏  | 72/100 [05:29<02:03,  4.41s/it]"
     ]
    },
    {
     "name": "stdout",
     "output_type": "stream",
     "text": [
      "Epoch loss :: 2512.9321\n",
      " , total_loss: 2476.6348, sample_energy: -11.8137, recon_error: 0.0238, cov_diag: 495558.5000\n",
      " , total_loss: 2256.4468, sample_energy: -11.6118, recon_error: 0.0238, cov_diag: 451516.8750\n"
     ]
    },
    {
     "name": "stderr",
     "output_type": "stream",
     "text": [
      " 73%|███████▎  | 73/100 [05:34<01:59,  4.41s/it]"
     ]
    },
    {
     "name": "stdout",
     "output_type": "stream",
     "text": [
      "Epoch loss :: 2510.7852\n",
      " , total_loss: 2674.6082, sample_energy: -11.8695, recon_error: 0.0238, cov_diag: 535154.2500\n",
      " , total_loss: 2458.8030, sample_energy: -11.7183, recon_error: 0.0238, cov_diag: 491990.1875\n"
     ]
    },
    {
     "name": "stderr",
     "output_type": "stream",
     "text": [
      " 74%|███████▍  | 74/100 [05:39<01:58,  4.57s/it]"
     ]
    },
    {
     "name": "stdout",
     "output_type": "stream",
     "text": [
      "Epoch loss :: 2507.084\n",
      " , total_loss: 2916.3005, sample_energy: -11.9163, recon_error: 0.0238, cov_diag: 583493.6875\n",
      " , total_loss: 2358.7300, sample_energy: -11.7058, recon_error: 0.0238, cov_diag: 471975.3438\n"
     ]
    },
    {
     "name": "stderr",
     "output_type": "stream",
     "text": [
      " 75%|███████▌  | 75/100 [05:43<01:52,  4.52s/it]"
     ]
    },
    {
     "name": "stdout",
     "output_type": "stream",
     "text": [
      "Epoch loss :: 2507.791\n",
      " , total_loss: 2460.1365, sample_energy: -11.8032, recon_error: 0.0238, cov_diag: 492258.6250\n",
      " , total_loss: 2634.5869, sample_energy: -11.8652, recon_error: 0.0238, cov_diag: 527149.9375\n"
     ]
    },
    {
     "name": "stderr",
     "output_type": "stream",
     "text": [
      " 76%|███████▌  | 76/100 [05:47<01:48,  4.52s/it]"
     ]
    },
    {
     "name": "stdout",
     "output_type": "stream",
     "text": [
      "Epoch loss :: 2510.5098\n",
      " , total_loss: 2307.9480, sample_energy: -11.8110, recon_error: 0.0238, cov_diag: 461821.0625\n",
      " , total_loss: 2123.8477, sample_energy: -11.6022, recon_error: 0.0238, cov_diag: 424996.8125\n"
     ]
    },
    {
     "name": "stderr",
     "output_type": "stream",
     "text": [
      " 77%|███████▋  | 77/100 [05:52<01:40,  4.39s/it]"
     ]
    },
    {
     "name": "stdout",
     "output_type": "stream",
     "text": [
      "Epoch loss :: 2512.0618\n",
      " , total_loss: 2522.0720, sample_energy: -11.8234, recon_error: 0.0238, cov_diag: 504646.1250\n",
      " , total_loss: 2574.5940, sample_energy: -11.8364, recon_error: 0.0238, cov_diag: 515150.8125\n"
     ]
    },
    {
     "name": "stderr",
     "output_type": "stream",
     "text": [
      " 78%|███████▊  | 78/100 [05:56<01:34,  4.31s/it]"
     ]
    },
    {
     "name": "stdout",
     "output_type": "stream",
     "text": [
      "Epoch loss :: 2507.5586\n",
      " , total_loss: 2350.8892, sample_energy: -11.8716, recon_error: 0.0238, cov_diag: 470410.5312\n",
      " , total_loss: 2732.1289, sample_energy: -11.9352, recon_error: 0.0238, cov_diag: 546659.7500\n"
     ]
    },
    {
     "name": "stderr",
     "output_type": "stream",
     "text": [
      " 79%|███████▉  | 79/100 [06:00<01:31,  4.36s/it]"
     ]
    },
    {
     "name": "stdout",
     "output_type": "stream",
     "text": [
      "Epoch loss :: 2505.4827\n",
      " , total_loss: 2163.1975, sample_energy: -11.6580, recon_error: 0.0238, cov_diag: 432867.8750\n",
      " , total_loss: 2513.9602, sample_energy: -11.6940, recon_error: 0.0238, cov_diag: 503021.1562\n"
     ]
    },
    {
     "name": "stderr",
     "output_type": "stream",
     "text": [
      " 80%|████████  | 80/100 [06:05<01:28,  4.42s/it]"
     ]
    },
    {
     "name": "stdout",
     "output_type": "stream",
     "text": [
      "Epoch loss :: 2512.9658\n",
      " , total_loss: 2299.0073, sample_energy: -11.8213, recon_error: 0.0238, cov_diag: 460033.1875\n",
      " , total_loss: 2465.0808, sample_energy: -11.7780, recon_error: 0.0238, cov_diag: 493246.9688\n"
     ]
    },
    {
     "name": "stderr",
     "output_type": "stream",
     "text": [
      " 81%|████████  | 81/100 [06:09<01:21,  4.30s/it]"
     ]
    },
    {
     "name": "stdout",
     "output_type": "stream",
     "text": [
      "Epoch loss :: 2509.0928\n",
      " , total_loss: 2120.7737, sample_energy: -11.6503, recon_error: 0.0238, cov_diag: 424383.0312\n",
      " , total_loss: 2327.4163, sample_energy: -11.6853, recon_error: 0.0238, cov_diag: 465712.2188\n"
     ]
    },
    {
     "name": "stderr",
     "output_type": "stream",
     "text": [
      " 82%|████████▏ | 82/100 [06:13<01:16,  4.24s/it]"
     ]
    },
    {
     "name": "stdout",
     "output_type": "stream",
     "text": [
      "Epoch loss :: 2507.3103\n",
      " , total_loss: 2536.8958, sample_energy: -11.9703, recon_error: 0.0238, cov_diag: 507613.8125\n",
      " , total_loss: 2242.1084, sample_energy: -11.7302, recon_error: 0.0238, cov_diag: 448651.5000\n"
     ]
    },
    {
     "name": "stderr",
     "output_type": "stream",
     "text": [
      " 83%|████████▎ | 83/100 [06:18<01:14,  4.37s/it]"
     ]
    },
    {
     "name": "stdout",
     "output_type": "stream",
     "text": [
      "Epoch loss :: 2516.9243\n",
      " , total_loss: 2505.1479, sample_energy: -11.8228, recon_error: 0.0238, cov_diag: 501261.2812\n",
      " , total_loss: 2359.3384, sample_energy: -11.6135, recon_error: 0.0238, cov_diag: 472095.1875\n"
     ]
    },
    {
     "name": "stderr",
     "output_type": "stream",
     "text": [
      " 84%|████████▍ | 84/100 [06:22<01:08,  4.30s/it]"
     ]
    },
    {
     "name": "stdout",
     "output_type": "stream",
     "text": [
      "Epoch loss :: 2503.4197\n",
      " , total_loss: 2322.8840, sample_energy: -11.9668, recon_error: 0.0238, cov_diag: 464811.4062\n",
      " , total_loss: 2660.5706, sample_energy: -11.8861, recon_error: 0.0238, cov_diag: 532347.0625\n"
     ]
    },
    {
     "name": "stderr",
     "output_type": "stream",
     "text": [
      " 85%|████████▌ | 85/100 [06:27<01:07,  4.48s/it]"
     ]
    },
    {
     "name": "stdout",
     "output_type": "stream",
     "text": [
      "Epoch loss :: 2510.1946\n",
      " , total_loss: 2409.0051, sample_energy: -11.7106, recon_error: 0.0238, cov_diag: 482030.5000\n",
      " , total_loss: 2525.4570, sample_energy: -11.8832, recon_error: 0.0238, cov_diag: 505324.3125\n"
     ]
    },
    {
     "name": "stderr",
     "output_type": "stream",
     "text": [
      " 86%|████████▌ | 86/100 [06:31<01:00,  4.35s/it]"
     ]
    },
    {
     "name": "stdout",
     "output_type": "stream",
     "text": [
      "Epoch loss :: 2513.9636\n",
      " , total_loss: 2676.1572, sample_energy: -11.8561, recon_error: 0.0238, cov_diag: 535463.8125\n",
      " , total_loss: 2369.3428, sample_energy: -11.7108, recon_error: 0.0238, cov_diag: 474098.0000\n"
     ]
    },
    {
     "name": "stderr",
     "output_type": "stream",
     "text": [
      " 87%|████████▋ | 87/100 [06:35<00:58,  4.49s/it]"
     ]
    },
    {
     "name": "stdout",
     "output_type": "stream",
     "text": [
      "Epoch loss :: 2511.1985\n",
      " , total_loss: 2370.3342, sample_energy: -11.7955, recon_error: 0.0238, cov_diag: 474298.0000\n",
      " , total_loss: 2351.3115, sample_energy: -11.7105, recon_error: 0.0238, cov_diag: 470491.7500\n"
     ]
    },
    {
     "name": "stderr",
     "output_type": "stream",
     "text": [
      " 88%|████████▊ | 88/100 [06:40<00:53,  4.48s/it]"
     ]
    },
    {
     "name": "stdout",
     "output_type": "stream",
     "text": [
      "Epoch loss :: 2508.6511\n",
      " , total_loss: 2310.6501, sample_energy: -11.8341, recon_error: 0.0238, cov_diag: 462361.9688\n",
      " , total_loss: 2209.1396, sample_energy: -11.7546, recon_error: 0.0238, cov_diag: 442058.2500\n"
     ]
    },
    {
     "name": "stderr",
     "output_type": "stream",
     "text": [
      " 89%|████████▉ | 89/100 [06:44<00:48,  4.44s/it]"
     ]
    },
    {
     "name": "stdout",
     "output_type": "stream",
     "text": [
      "Epoch loss :: 2507.1199\n",
      " , total_loss: 2417.8420, sample_energy: -11.8123, recon_error: 0.0238, cov_diag: 483799.9062\n",
      " , total_loss: 2595.4700, sample_energy: -11.8541, recon_error: 0.0238, cov_diag: 519326.3125\n"
     ]
    },
    {
     "name": "stderr",
     "output_type": "stream",
     "text": [
      " 90%|█████████ | 90/100 [06:49<00:44,  4.50s/it]"
     ]
    },
    {
     "name": "stdout",
     "output_type": "stream",
     "text": [
      "Epoch loss :: 2513.7183\n",
      " , total_loss: 2559.9712, sample_energy: -11.8427, recon_error: 0.0238, cov_diag: 512226.3125\n",
      " , total_loss: 2713.4590, sample_energy: -11.7203, recon_error: 0.0239, cov_diag: 542921.4375\n"
     ]
    },
    {
     "name": "stderr",
     "output_type": "stream",
     "text": [
      " 91%|█████████ | 91/100 [06:53<00:39,  4.41s/it]"
     ]
    },
    {
     "name": "stdout",
     "output_type": "stream",
     "text": [
      "Epoch loss :: 2507.7146\n",
      " , total_loss: 2441.5725, sample_energy: -11.9291, recon_error: 0.0238, cov_diag: 488548.3438\n",
      " , total_loss: 2317.5054, sample_energy: -11.7506, recon_error: 0.0238, cov_diag: 463731.3438\n"
     ]
    },
    {
     "name": "stderr",
     "output_type": "stream",
     "text": [
      " 92%|█████████▏| 92/100 [06:58<00:36,  4.53s/it]"
     ]
    },
    {
     "name": "stdout",
     "output_type": "stream",
     "text": [
      "Epoch loss :: 2508.823\n",
      " , total_loss: 2592.1831, sample_energy: -11.7987, recon_error: 0.0238, cov_diag: 518667.8125\n",
      " , total_loss: 2469.4163, sample_energy: -11.7495, recon_error: 0.0238, cov_diag: 494113.5000\n"
     ]
    },
    {
     "name": "stderr",
     "output_type": "stream",
     "text": [
      " 93%|█████████▎| 93/100 [07:03<00:32,  4.62s/it]"
     ]
    },
    {
     "name": "stdout",
     "output_type": "stream",
     "text": [
      "Epoch loss :: 2512.6777\n",
      " , total_loss: 2246.7625, sample_energy: -11.7639, recon_error: 0.0238, cov_diag: 449583.0312\n",
      " , total_loss: 2486.9495, sample_energy: -11.9241, recon_error: 0.0238, cov_diag: 497623.6250\n"
     ]
    },
    {
     "name": "stderr",
     "output_type": "stream",
     "text": [
      " 94%|█████████▍| 94/100 [07:07<00:27,  4.50s/it]"
     ]
    },
    {
     "name": "stdout",
     "output_type": "stream",
     "text": [
      "Epoch loss :: 2521.6343\n",
      " , total_loss: 2361.2776, sample_energy: -11.7164, recon_error: 0.0238, cov_diag: 472485.0625\n",
      " , total_loss: 2571.8367, sample_energy: -11.8773, recon_error: 0.0238, cov_diag: 514600.1250\n"
     ]
    },
    {
     "name": "stderr",
     "output_type": "stream",
     "text": [
      " 95%|█████████▌| 95/100 [07:12<00:23,  4.69s/it]"
     ]
    },
    {
     "name": "stdout",
     "output_type": "stream",
     "text": [
      "Epoch loss :: 2511.7007\n",
      " , total_loss: 2349.5537, sample_energy: -11.6323, recon_error: 0.0238, cov_diag: 470138.6250\n",
      " , total_loss: 2281.7295, sample_energy: -11.6528, recon_error: 0.0238, cov_diag: 456574.2500\n"
     ]
    },
    {
     "name": "stderr",
     "output_type": "stream",
     "text": [
      " 96%|█████████▌| 96/100 [07:17<00:18,  4.69s/it]"
     ]
    },
    {
     "name": "stdout",
     "output_type": "stream",
     "text": [
      "Epoch loss :: 2507.587\n",
      " , total_loss: 2158.1299, sample_energy: -11.6989, recon_error: 0.0238, cov_diag: 431855.1875\n",
      " , total_loss: 2294.7395, sample_energy: -11.7307, recon_error: 0.0238, cov_diag: 459177.7500\n"
     ]
    },
    {
     "name": "stderr",
     "output_type": "stream",
     "text": [
      " 97%|█████████▋| 97/100 [07:21<00:13,  4.58s/it]"
     ]
    },
    {
     "name": "stdout",
     "output_type": "stream",
     "text": [
      "Epoch loss :: 2514.8818\n",
      " , total_loss: 2474.9368, sample_energy: -11.5914, recon_error: 0.0238, cov_diag: 495214.4375\n",
      " , total_loss: 2332.9971, sample_energy: -11.8116, recon_error: 0.0238, cov_diag: 466830.9375\n"
     ]
    },
    {
     "name": "stderr",
     "output_type": "stream",
     "text": [
      " 98%|█████████▊| 98/100 [07:26<00:09,  4.74s/it]"
     ]
    },
    {
     "name": "stdout",
     "output_type": "stream",
     "text": [
      "Epoch loss :: 2509.854\n",
      " , total_loss: 2404.9192, sample_energy: -11.8058, recon_error: 0.0238, cov_diag: 481215.1875\n",
      " , total_loss: 2630.7295, sample_energy: -11.8547, recon_error: 0.0238, cov_diag: 526378.2500\n"
     ]
    },
    {
     "name": "stderr",
     "output_type": "stream",
     "text": [
      " 99%|█████████▉| 99/100 [07:31<00:04,  4.72s/it]"
     ]
    },
    {
     "name": "stdout",
     "output_type": "stream",
     "text": [
      "Epoch loss :: 2507.2358\n",
      " , total_loss: 2529.6880, sample_energy: -11.7194, recon_error: 0.0238, cov_diag: 506167.2500\n",
      " , total_loss: 2941.5254, sample_energy: -11.9066, recon_error: 0.0238, cov_diag: 588538.5000\n"
     ]
    },
    {
     "name": "stderr",
     "output_type": "stream",
     "text": [
      "100%|██████████| 100/100 [07:36<00:00,  4.56s/it]"
     ]
    },
    {
     "name": "stdout",
     "output_type": "stream",
     "text": [
      "Epoch loss :: 2512.6025\n"
     ]
    },
    {
     "name": "stderr",
     "output_type": "stream",
     "text": [
      "\n"
     ]
    }
   ],
   "source": [
    "dagmm_obj = train(\n",
    "    dagmm_obj,\n",
    "    train_X,\n",
    "    num_epochs=100,\n",
    "    batch_size=256\n",
    ")"
   ]
  },
  {
   "cell_type": "code",
   "execution_count": 9,
   "metadata": {
    "scrolled": true
   },
   "outputs": [
    {
     "name": "stdout",
     "output_type": "stream",
     "text": [
      "======================TEST MODE======================\n",
      "N: 37674\n",
      "phi : tensor([0.1436, 0.3131, 0.2388, 0.3045], device='cuda:0',\n",
      "       grad_fn=<DivBackward0>)\n",
      "mu :  tensor([[0.3158, 1.2629, 0.0186],\n",
      "        [0.3158, 1.2629, 0.0186],\n",
      "        [0.3158, 1.2629, 0.0186],\n",
      "        [0.3158, 1.2629, 0.0186]], device='cuda:0', grad_fn=<DivBackward0>)\n",
      "covariance : tensor([[[ 1.0155e-05, -1.6491e-06,  5.6245e-07],\n",
      "         [-1.6491e-06,  5.8238e-05, -7.4479e-05],\n",
      "         [ 5.6245e-07, -7.4479e-05,  1.1521e-04]],\n",
      "\n",
      "        [[ 1.0155e-05, -1.6497e-06,  5.6360e-07],\n",
      "         [-1.6497e-06,  5.8231e-05, -7.4472e-05],\n",
      "         [ 5.6360e-07, -7.4472e-05,  1.1520e-04]],\n",
      "\n",
      "        [[ 1.0156e-05, -1.6451e-06,  5.5858e-07],\n",
      "         [-1.6451e-06,  5.8244e-05, -7.4493e-05],\n",
      "         [ 5.5858e-07, -7.4493e-05,  1.1523e-04]],\n",
      "\n",
      "        [[ 1.0156e-05, -1.6469e-06,  5.6154e-07],\n",
      "         [-1.6469e-06,  5.8231e-05, -7.4484e-05],\n",
      "         [ 5.6154e-07, -7.4484e-05,  1.1522e-04]]], device='cuda:0',\n",
      "       grad_fn=<DivBackward0>)\n",
      "Size of test  16147\n",
      "test_energy (16147,)\n",
      "(3229,)\n",
      "(19376,) (19376,)\n",
      "AUC : 0.1705 \n"
     ]
    },
    {
     "data": {
      "image/png": "[encoded data removed]",
      "text/plain": [
       "<Figure size 432x288 with 1 Axes>"
      ]
     },
     "metadata": {
      "needs_background": "light"
     },
     "output_type": "display_data"
    },
    {
     "name": "stdout",
     "output_type": "stream",
     "text": [
      "(3229,)\n",
      "(19376,) (19376,)\n",
      "AUC : 0.1655 \n"
     ]
    },
    {
     "data": {
      "image/png": "[encoded data removed]",
      "text/plain": [
       "<Figure size 432x288 with 1 Axes>"
      ]
     },
     "metadata": {
      "needs_background": "light"
     },
     "output_type": "display_data"
    },
    {
     "name": "stdout",
     "output_type": "stream",
     "text": [
      "(3229,)\n",
      "(19376,) (19376,)\n",
      "AUC : 0.1611 \n"
     ]
    },
    {
     "data": {
      "image/png": "[encoded data removed]",
      "text/plain": [
       "<Figure size 432x288 with 1 Axes>"
      ]
     },
     "metadata": {
      "needs_background": "light"
     },
     "output_type": "display_data"
    }
   ],
   "source": [
    "test(\n",
    "    dagmm_obj,\n",
    "    data_dict\n",
    ")"
   ]
  },
  {
   "cell_type": "code",
   "execution_count": null,
   "metadata": {},
   "outputs": [],
   "source": []
  },
  {
   "cell_type": "code",
   "execution_count": null,
   "metadata": {},
   "outputs": [],
   "source": []
  }
 ],
 "metadata": {
  "kernelspec": {
   "display_name": "Python 3",
   "language": "python",
   "name": "python3"
  },
  "language_info": {
   "codemirror_mode": {
    "name": "ipython",
    "version": 3
   },
   "file_extension": ".py",
   "mimetype": "text/x-python",
   "name": "python",
   "nbconvert_exporter": "python",
   "pygments_lexer": "ipython3",
   "version": "3.7.6"
  }
 },
 "nbformat": 4,
 "nbformat_minor": 4
}
