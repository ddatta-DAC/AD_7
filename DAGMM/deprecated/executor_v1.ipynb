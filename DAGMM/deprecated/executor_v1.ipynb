{
 "cells": [
  {
   "cell_type": "code",
   "execution_count": 1,
   "metadata": {},
   "outputs": [],
   "source": [
    "%load_ext autoreload\n",
    "%autoreload 2"
   ]
  },
  {
   "cell_type": "code",
   "execution_count": 2,
   "metadata": {},
   "outputs": [],
   "source": [
    "%matplotlib inline"
   ]
  },
  {
   "cell_type": "code",
   "execution_count": 12,
   "metadata": {},
   "outputs": [
    {
     "name": "stdout",
     "output_type": "stream",
     "text": [
      "Current device  >>  cuda\n",
      "=========================== \n",
      "Current device  >>  cuda\n"
     ]
    }
   ],
   "source": [
    "import pandas as pd\n",
    "import numpy as np\n",
    "import os\n",
    "import sys\n",
    "from tqdm import tqdm\n",
    "\n",
    "try:\n",
    "    from . import data_fetcher\n",
    "except:\n",
    "    import data_fetcher\n",
    "from pathlib import Path\n",
    "import multiprocessing\n",
    "from pprint import pprint\n",
    "import torch\n",
    "\n",
    "DEVICE = torch.device(\"cuda\" if torch.cuda.is_available() else \"cpu\")\n",
    "# DEVICE = torch.device(\"cpu\")\n",
    "print('Current device  >> ', DEVICE)\n",
    "try:\n",
    "    from . import base_DAGMM\n",
    "except:\n",
    "    import base_DAGMM"
   ]
  },
  {
   "cell_type": "code",
   "execution_count": 133,
   "metadata": {},
   "outputs": [],
   "source": [
    "def visualize( model_obj, x1,x2 ):\n",
    "   \n",
    "    from sklearn.decomposition import TruncatedSVD\n",
    "    try :\n",
    "        %matplotlib inline\n",
    "    except:\n",
    "        pass\n",
    "    import matplotlib.pyplot as plt\n",
    "    \n",
    "    x1 = model_obj.get_compressed_embedding(x1)\n",
    "    x2 = model_obj.get_compressed_embedding(x2)\n",
    "    \n",
    "    svd = TruncatedSVD(n_components=2, n_iter=100, random_state=42)\n",
    "    x = np.vstack([x1,x2])\n",
    "    x3 = svd.fit_transform(x)\n",
    "\n",
    "    plt.figure(figsize=[10,10])\n",
    "    plt.scatter(x3[:len(x1),0], x3[:len(x1),1], c='g',alpha=0.95)\n",
    "    plt.scatter(x3[len(x1):,0], x3[len(x1):,1], c='r',alpha=0.35)\n",
    "    plt.show()\n",
    "    \n",
    "    svd = TruncatedSVD(n_components=3, n_iter=100, random_state=42)\n",
    "    x = np.vstack([x1,x2])\n",
    "    x3 = svd.fit_transform(x)\n",
    "    fig = plt.figure(figsize=[14,14])\n",
    "    ax = fig.add_subplot(111, projection='3d')\n",
    "    ax.scatter( x3[:len(x1),0], x3[:len(x1),1], x3[:len(x1),2], c ='g',alpha=0.95 , marker='o')\n",
    "    ax.scatter( x3[len(x1):,0], x3[len(x1):,1], x3[len(x1):,2], c ='r',alpha=0.35 , marker='o')\n",
    "\n",
    "    ax.set_xlabel('X Label')\n",
    "    ax.set_ylabel('Y Label')\n",
    "    ax.set_zlabel('Z Label')\n",
    "\n",
    "    plt.show()\n",
    "    return\n"
   ]
  },
  {
   "cell_type": "code",
   "execution_count": 122,
   "metadata": {},
   "outputs": [],
   "source": [
    "def create_config(\n",
    "        data_details_dict\n",
    "):\n",
    "    discrete_column_dims = data_details_dict['discrete_columns']\n",
    "    # discrete_columns : { column_name : num_categories }\n",
    "    real_columns = data_details_dict['real_columns']\n",
    "    num_real_columns = len(real_columns)\n",
    "    num_discrete_columns = len(discrete_column_dims)\n",
    "    discreet_column_names = list(discrete_column_dims.keys())\n",
    "\n",
    "    discrete_conversion_types = {\n",
    "        'Source_Port': 'onehot',\n",
    "        'Destination_Port': 'onehot',\n",
    "        'Source_IP': 'emb',\n",
    "        'Destination_IP': 'emb',\n",
    "        'Protocol': 'onehot'\n",
    "    }\n",
    "\n",
    "    encoder_field_layers = {\n",
    "        'Source_IP': 128,\n",
    "        'Destination_IP': 128,\n",
    "        'Source_Port': [64],\n",
    "        'Destination_Port': [64],\n",
    "        'Protocol': []\n",
    "    }\n",
    "\n",
    "    # ======================================================\n",
    "    # Set encoder structure\n",
    "    # =========\n",
    "    latent_dim = 8\n",
    "    encoder_real_FCN_structure = [64]\n",
    "    encoder_FCN_to_latent = [256, latent_dim]\n",
    "\n",
    "    encoder_structure_config = {\n",
    "        'num_discrete': num_discrete_columns,\n",
    "        'num_real': num_real_columns,\n",
    "        'ip_layers': {},\n",
    "        'FC_to_latent': encoder_FCN_to_latent  # FNN after concatenating\n",
    "    }\n",
    "\n",
    "    # ---------------\n",
    "    # encoder_structure_config['ip_layers']\n",
    "    # Format :\n",
    "    # [ 'emb|onehot', num_categories, [ embedding dimension ]\n",
    "    # ---------------\n",
    "    for i in range(num_discrete_columns):\n",
    "        col_name = discreet_column_names[i]\n",
    "        encoder_structure_config['ip_layers'][i] = [discrete_conversion_types[col_name]] + [\n",
    "            discrete_column_dims[col_name]] + [encoder_field_layers[col_name]]\n",
    "\n",
    "    encoder_structure_config['ip_layers']['real'] = encoder_real_FCN_structure\n",
    "\n",
    "    # ======================================================\n",
    "    # Set decoder structure\n",
    "    # =========\n",
    "\n",
    "    FC_from_latent = [64]\n",
    "    decoder_structure_config = {\n",
    "        \"num_discrete\": num_discrete_columns,\n",
    "        \"num_real\": num_real_columns,\n",
    "        \"FC_from_latent\": FC_from_latent,\n",
    "        \"op_FC_layers\": {}\n",
    "    }\n",
    "\n",
    "    # ================\n",
    "    # Format decoder_field_layers:\n",
    "    # { idx : [[dim1,dim2], op_activation ]\n",
    "    # ================\n",
    "\n",
    "    decoder_field_layers = {\n",
    "        'Source_IP': [128, 512] + [discrete_column_dims['Source_IP']],\n",
    "        'Destination_IP': [128, 512] + [discrete_column_dims['Destination_IP']],\n",
    "        'Source_Port': [64] + [discrete_column_dims['Source_Port']],\n",
    "        'Destination_Port': [64] + [discrete_column_dims['Destination_Port']],\n",
    "        'Protocol': [8] + [discrete_column_dims['Protocol']]\n",
    "    }\n",
    "\n",
    "    for i in range(num_discrete_columns):\n",
    "        col_name = discreet_column_names[i]\n",
    "        decoder_structure_config['op_FC_layers'][i] = [decoder_field_layers[col_name], None]\n",
    "\n",
    "    # =========\n",
    "    # Set decoder structure for real op\n",
    "    # =========\n",
    "    decoder_structure_config['op_FC_layers']['real'] = [[128] + [num_real_columns]] + ['tanh']\n",
    "\n",
    "    # ===\n",
    "    # Each entry ::\n",
    "    # { 'dim': <>, 'loss': <bce|mse|smooth_l1>, 'type' : <onehot|real> }\n",
    "    # ===\n",
    "    loss_structure_config = []\n",
    "\n",
    "    for i in range(num_discrete_columns):\n",
    "        col_name = discreet_column_names[i]\n",
    "        loss_structure_config.append(\n",
    "            {\n",
    "                'dim': discrete_column_dims[col_name],\n",
    "                'loss': 'bce',\n",
    "                'type': 'onehot'\n",
    "            }\n",
    "        )\n",
    "    loss_structure_config.append(\n",
    "        {\n",
    "            'dim': num_real_columns,\n",
    "            'loss': 'smooth_l1',\n",
    "            'type': 'real'\n",
    "        }\n",
    "    )\n",
    "\n",
    "    return encoder_structure_config, decoder_structure_config, loss_structure_config, latent_dim"
   ]
  },
  {
   "cell_type": "code",
   "execution_count": 5,
   "metadata": {},
   "outputs": [],
   "source": [
    "def viz_loss(losses):\n",
    "    import matplotlib.pyplot as plt\n",
    "    plt.figure(figsize=[8,6])\n",
    "    plt.plot(list(range(len(losses[5:]))),losses[5:])\n",
    "    plt.show()\n",
    "    return\n"
   ]
  },
  {
   "cell_type": "code",
   "execution_count": 6,
   "metadata": {},
   "outputs": [
    {
     "name": "stderr",
     "output_type": "stream",
     "text": [
      "100%|██████████| 77/77 [00:39<00:00,  1.97it/s]\n"
     ]
    }
   ],
   "source": [
    "data_details_dict = data_fetcher.get_data_v1()\n",
    "data = data_details_dict['data_dict']\n",
    "train_df = data['train']\n",
    "train_X = train_df.values"
   ]
  },
  {
   "cell_type": "code",
   "execution_count": 123,
   "metadata": {},
   "outputs": [
    {
     "name": "stdout",
     "output_type": "stream",
     "text": [
      "{'FC_to_latent': [256, 8],\n",
      " 'ip_layers': {0: ['onehot', 71, [64]],\n",
      "               1: ['emb', 1027, 128],\n",
      "               2: ['emb', 2128, 128],\n",
      "               3: ['onehot', 160, [64]],\n",
      "               4: ['onehot', 3, []],\n",
      "               'real': [64]},\n",
      " 'num_discrete': 5,\n",
      " 'num_real': 77}\n",
      "{'FC_from_latent': [64],\n",
      " 'num_discrete': 5,\n",
      " 'num_real': 77,\n",
      " 'op_FC_layers': {0: [[64, 71], None],\n",
      "                  1: [[128, 512, 1027], None],\n",
      "                  2: [[128, 512, 2128], None],\n",
      "                  3: [[64, 160], None],\n",
      "                  4: [[8, 3], None],\n",
      "                  'real': [[128, 77], 'tanh']}}\n"
     ]
    }
   ],
   "source": [
    "encoder_structure_config, decoder_structure_config, loss_structure_config, latent_dim = create_config(\n",
    "    data_details_dict\n",
    ")\n",
    "pprint(encoder_structure_config)\n",
    "pprint(decoder_structure_config)"
   ]
  },
  {
   "cell_type": "code",
   "execution_count": 125,
   "metadata": {
    "scrolled": true
   },
   "outputs": [
    {
     "name": "stderr",
     "output_type": "stream",
     "text": [
      "  0%|          | 0/25 [00:00<?, ?it/s]"
     ]
    },
    {
     "name": "stdout",
     "output_type": "stream",
     "text": [
      "[Concatenated input ...] 451\n",
      "Loss structure config [{'dim': 71, 'loss': 'bce', 'type': 'onehot'}, {'dim': 1027, 'loss': 'bce', 'type': 'onehot'}, {'dim': 2128, 'loss': 'bce', 'type': 'onehot'}, {'dim': 160, 'loss': 'bce', 'type': 'onehot'}, {'dim': 3, 'loss': 'bce', 'type': 'onehot'}, {'dim': 77, 'loss': 'smooth_l1', 'type': 'real'}]\n",
      " Epoch 0 Batch 0 Loss 2364.6243 [ AE 2364.6243 GMM 0.0000\n",
      " Epoch 0 Batch 100 Loss 26.6895 [ AE 26.6895 GMM 0.0000\n",
      " Epoch 0 Batch 200 Loss 29.1960 [ AE 29.1960 GMM 0.0000\n",
      " Epoch 0 Batch 300 Loss 20.8845 [ AE 20.8845 GMM 0.0000\n",
      " Epoch 0 Batch 400 Loss 22.4259 [ AE 22.4259 GMM 0.0000\n",
      " Epoch 0 Batch 500 Loss 19.8173 [ AE 19.8173 GMM 0.0000\n",
      " Epoch 0 Batch 600 Loss 22.7677 [ AE 22.7677 GMM 0.0000\n",
      " Epoch 0 Batch 700 Loss 18.6351 [ AE 18.6351 GMM 0.0000\n",
      " Epoch 0 Batch 800 Loss 20.7194 [ AE 20.7194 GMM 0.0000\n",
      " Epoch 0 Batch 900 Loss 22.9795 [ AE 22.9795 GMM 0.0000\n",
      " Epoch 0 Batch 1000 Loss 21.4503 [ AE 21.4503 GMM 0.0000\n"
     ]
    },
    {
     "name": "stderr",
     "output_type": "stream",
     "text": [
      "  4%|▍         | 1/25 [00:28<11:14, 28.11s/it]"
     ]
    },
    {
     "name": "stdout",
     "output_type": "stream",
     "text": [
      "Epoch loss :: 26.301977\n",
      " Epoch 1 Batch 0 Loss 20.5928 [ AE 20.5928 GMM 0.0000\n",
      " Epoch 1 Batch 100 Loss 18.0139 [ AE 18.0139 GMM 0.0000\n",
      " Epoch 1 Batch 200 Loss 22.7231 [ AE 22.7231 GMM 0.0000\n",
      " Epoch 1 Batch 300 Loss 20.1175 [ AE 20.1175 GMM 0.0000\n",
      " Epoch 1 Batch 400 Loss 20.4069 [ AE 20.4069 GMM 0.0000\n",
      " Epoch 1 Batch 500 Loss 19.9356 [ AE 19.9356 GMM 0.0000\n",
      " Epoch 1 Batch 600 Loss 16.9962 [ AE 16.9962 GMM 0.0000\n",
      " Epoch 1 Batch 700 Loss 19.8099 [ AE 19.8099 GMM 0.0000\n",
      " Epoch 1 Batch 800 Loss 19.8684 [ AE 19.8684 GMM 0.0000\n",
      " Epoch 1 Batch 900 Loss 20.2624 [ AE 20.2624 GMM 0.0000\n",
      " Epoch 1 Batch 1000 Loss 19.3336 [ AE 19.3336 GMM 0.0000\n"
     ]
    },
    {
     "name": "stderr",
     "output_type": "stream",
     "text": [
      "  8%|▊         | 2/25 [00:56<10:48, 28.22s/it]"
     ]
    },
    {
     "name": "stdout",
     "output_type": "stream",
     "text": [
      "Epoch loss :: 19.43048\n",
      " Epoch 2 Batch 0 Loss 16.0108 [ AE 16.0108 GMM 0.0000\n",
      " Epoch 2 Batch 100 Loss 19.4525 [ AE 19.4525 GMM 0.0000\n",
      " Epoch 2 Batch 200 Loss 15.5039 [ AE 15.5039 GMM 0.0000\n",
      " Epoch 2 Batch 300 Loss 16.1122 [ AE 16.1122 GMM 0.0000\n",
      " Epoch 2 Batch 400 Loss 19.1309 [ AE 19.1309 GMM 0.0000\n",
      " Epoch 2 Batch 500 Loss 18.7192 [ AE 18.7192 GMM 0.0000\n",
      " Epoch 2 Batch 600 Loss 19.4077 [ AE 19.4077 GMM 0.0000\n",
      " Epoch 2 Batch 700 Loss 20.3114 [ AE 20.3114 GMM 0.0000\n",
      " Epoch 2 Batch 800 Loss 15.4149 [ AE 15.4149 GMM 0.0000\n",
      " Epoch 2 Batch 900 Loss 15.0810 [ AE 15.0810 GMM 0.0000\n",
      " Epoch 2 Batch 1000 Loss 20.8649 [ AE 20.8649 GMM 0.0000\n"
     ]
    },
    {
     "name": "stderr",
     "output_type": "stream",
     "text": [
      " 12%|█▏        | 3/25 [01:24<10:21, 28.24s/it]"
     ]
    },
    {
     "name": "stdout",
     "output_type": "stream",
     "text": [
      "Epoch loss :: 18.593618\n",
      " Epoch 3 Batch 0 Loss 18.8618 [ AE 18.8618 GMM 0.0000\n",
      " Epoch 3 Batch 100 Loss 16.5766 [ AE 16.5766 GMM 0.0000\n",
      " Epoch 3 Batch 200 Loss 21.9500 [ AE 21.9500 GMM 0.0000\n",
      " Epoch 3 Batch 300 Loss 21.3756 [ AE 21.3756 GMM 0.0000\n",
      " Epoch 3 Batch 400 Loss 21.2543 [ AE 21.2543 GMM 0.0000\n",
      " Epoch 3 Batch 500 Loss 19.8229 [ AE 19.8229 GMM 0.0000\n",
      " Epoch 3 Batch 600 Loss 29.6338 [ AE 29.6338 GMM 0.0000\n",
      " Epoch 3 Batch 700 Loss 21.9614 [ AE 21.9614 GMM 0.0000\n",
      " Epoch 3 Batch 800 Loss 30.7602 [ AE 30.7602 GMM 0.0000\n",
      " Epoch 3 Batch 900 Loss 25.6220 [ AE 25.6220 GMM 0.0000\n",
      " Epoch 3 Batch 1000 Loss 24.7370 [ AE 24.7370 GMM 0.0000\n"
     ]
    },
    {
     "name": "stderr",
     "output_type": "stream",
     "text": [
      " 16%|█▌        | 4/25 [01:53<09:53, 28.25s/it]"
     ]
    },
    {
     "name": "stdout",
     "output_type": "stream",
     "text": [
      "Epoch loss :: 21.336384\n",
      " Epoch 4 Batch 0 Loss 20.2478 [ AE 20.2478 GMM 0.0000\n",
      " Epoch 4 Batch 100 Loss 23.3884 [ AE 23.3884 GMM 0.0000\n",
      " Epoch 4 Batch 200 Loss 19.9571 [ AE 19.9571 GMM 0.0000\n",
      " Epoch 4 Batch 300 Loss 18.6226 [ AE 18.6226 GMM 0.0000\n",
      " Epoch 4 Batch 400 Loss 28.0047 [ AE 28.0047 GMM 0.0000\n",
      " Epoch 4 Batch 500 Loss 22.2432 [ AE 22.2432 GMM 0.0000\n",
      " Epoch 4 Batch 600 Loss 22.9397 [ AE 22.9397 GMM 0.0000\n",
      " Epoch 4 Batch 700 Loss 25.0142 [ AE 25.0142 GMM 0.0000\n",
      " Epoch 4 Batch 800 Loss 25.6052 [ AE 25.6052 GMM 0.0000\n",
      " Epoch 4 Batch 900 Loss 24.1796 [ AE 24.1796 GMM 0.0000\n",
      " Epoch 4 Batch 1000 Loss 24.0948 [ AE 24.0948 GMM 0.0000\n"
     ]
    },
    {
     "name": "stderr",
     "output_type": "stream",
     "text": [
      " 20%|██        | 5/25 [02:21<09:26, 28.31s/it]"
     ]
    },
    {
     "name": "stdout",
     "output_type": "stream",
     "text": [
      "Epoch loss :: 23.53665\n",
      " Epoch 5 Batch 0 Loss 27.8123 [ AE 27.8123 GMM 0.0000\n",
      " Epoch 5 Batch 100 Loss 23.0149 [ AE 23.0149 GMM 0.0000\n",
      " Epoch 5 Batch 200 Loss 30.8252 [ AE 30.8252 GMM 0.0000\n",
      " Epoch 5 Batch 300 Loss 22.8864 [ AE 22.8864 GMM 0.0000\n",
      " Epoch 5 Batch 400 Loss 24.8675 [ AE 24.8675 GMM 0.0000\n",
      " Epoch 5 Batch 500 Loss 31.0580 [ AE 31.0580 GMM 0.0000\n",
      " Epoch 5 Batch 600 Loss 23.9542 [ AE 23.9542 GMM 0.0000\n",
      " Epoch 5 Batch 700 Loss 25.1020 [ AE 25.1020 GMM 0.0000\n",
      " Epoch 5 Batch 800 Loss 21.6235 [ AE 21.6235 GMM 0.0000\n",
      " Epoch 5 Batch 900 Loss 25.4516 [ AE 25.4516 GMM 0.0000\n",
      " Epoch 5 Batch 1000 Loss 21.1081 [ AE 21.1081 GMM 0.0000\n"
     ]
    },
    {
     "name": "stderr",
     "output_type": "stream",
     "text": [
      " 24%|██▍       | 6/25 [02:49<08:56, 28.24s/it]"
     ]
    },
    {
     "name": "stdout",
     "output_type": "stream",
     "text": [
      "Epoch loss :: 23.651407\n",
      " Epoch 6 Batch 0 Loss 20.5529 [ AE 20.5529 GMM 0.0000\n",
      " Epoch 6 Batch 100 Loss 25.5802 [ AE 25.5802 GMM 0.0000\n",
      " Epoch 6 Batch 200 Loss 22.3179 [ AE 22.3179 GMM 0.0000\n",
      " Epoch 6 Batch 300 Loss 22.8935 [ AE 22.8935 GMM 0.0000\n",
      " Epoch 6 Batch 400 Loss 25.7155 [ AE 25.7155 GMM 0.0000\n",
      " Epoch 6 Batch 500 Loss 30.2750 [ AE 30.2750 GMM 0.0000\n",
      " Epoch 6 Batch 600 Loss 28.6015 [ AE 28.6015 GMM 0.0000\n",
      " Epoch 6 Batch 700 Loss 18.9534 [ AE 18.9534 GMM 0.0000\n",
      " Epoch 6 Batch 800 Loss 23.1498 [ AE 23.1498 GMM 0.0000\n",
      " Epoch 6 Batch 900 Loss 24.3326 [ AE 24.3326 GMM 0.0000\n",
      " Epoch 6 Batch 1000 Loss 21.3525 [ AE 21.3525 GMM 0.0000\n"
     ]
    },
    {
     "name": "stderr",
     "output_type": "stream",
     "text": [
      " 28%|██▊       | 7/25 [03:17<08:28, 28.24s/it]"
     ]
    },
    {
     "name": "stdout",
     "output_type": "stream",
     "text": [
      "Epoch loss :: 23.69319\n",
      " Epoch 7 Batch 0 Loss 21.1364 [ AE 21.1364 GMM 0.0000\n",
      " Epoch 7 Batch 100 Loss 26.5496 [ AE 26.5496 GMM 0.0000\n",
      " Epoch 7 Batch 200 Loss 21.5029 [ AE 21.5029 GMM 0.0000\n",
      " Epoch 7 Batch 300 Loss 22.4731 [ AE 22.4731 GMM 0.0000\n",
      " Epoch 7 Batch 400 Loss 22.6632 [ AE 22.6632 GMM 0.0000\n",
      " Epoch 7 Batch 500 Loss 25.5460 [ AE 25.5460 GMM 0.0000\n",
      " Epoch 7 Batch 600 Loss 21.5033 [ AE 21.5033 GMM 0.0000\n",
      " Epoch 7 Batch 700 Loss 21.7384 [ AE 21.7384 GMM 0.0000\n",
      " Epoch 7 Batch 800 Loss 32.0884 [ AE 32.0884 GMM 0.0000\n",
      " Epoch 7 Batch 900 Loss 29.4466 [ AE 29.4466 GMM 0.0000\n",
      " Epoch 7 Batch 1000 Loss 28.9163 [ AE 28.9163 GMM 0.0000\n"
     ]
    },
    {
     "name": "stderr",
     "output_type": "stream",
     "text": [
      " 32%|███▏      | 8/25 [03:46<08:01, 28.35s/it]"
     ]
    },
    {
     "name": "stdout",
     "output_type": "stream",
     "text": [
      "Epoch loss :: 24.365162\n",
      " Epoch 8 Batch 0 Loss 20.9765 [ AE 20.9765 GMM 0.0000\n",
      " Epoch 8 Batch 100 Loss 22.2960 [ AE 22.2960 GMM 0.0000\n",
      " Epoch 8 Batch 200 Loss 18.9483 [ AE 18.9483 GMM 0.0000\n",
      " Epoch 8 Batch 300 Loss 29.4884 [ AE 29.4884 GMM 0.0000\n",
      " Epoch 8 Batch 400 Loss 29.9317 [ AE 29.9317 GMM 0.0000\n",
      " Epoch 8 Batch 500 Loss 25.4218 [ AE 25.4218 GMM 0.0000\n",
      " Epoch 8 Batch 600 Loss 18.5913 [ AE 18.5913 GMM 0.0000\n",
      " Epoch 8 Batch 700 Loss 24.6808 [ AE 24.6808 GMM 0.0000\n",
      " Epoch 8 Batch 800 Loss 28.5293 [ AE 28.5293 GMM 0.0000\n",
      " Epoch 8 Batch 900 Loss 22.6926 [ AE 22.6926 GMM 0.0000\n",
      " Epoch 8 Batch 1000 Loss 26.2264 [ AE 26.2264 GMM 0.0000\n"
     ]
    },
    {
     "name": "stderr",
     "output_type": "stream",
     "text": [
      " 36%|███▌      | 9/25 [04:15<07:34, 28.41s/it]"
     ]
    },
    {
     "name": "stdout",
     "output_type": "stream",
     "text": [
      "Epoch loss :: 24.058222\n",
      " Epoch 9 Batch 0 Loss 21.7164 [ AE 21.7164 GMM 0.0000\n",
      " Epoch 9 Batch 100 Loss 28.1084 [ AE 28.1084 GMM 0.0000\n",
      " Epoch 9 Batch 200 Loss 26.8186 [ AE 26.8186 GMM 0.0000\n",
      " Epoch 9 Batch 300 Loss 24.9140 [ AE 24.9140 GMM 0.0000\n",
      " Epoch 9 Batch 400 Loss 18.1260 [ AE 18.1260 GMM 0.0000\n",
      " Epoch 9 Batch 500 Loss 24.1728 [ AE 24.1728 GMM 0.0000\n",
      " Epoch 9 Batch 600 Loss 24.5185 [ AE 24.5185 GMM 0.0000\n",
      " Epoch 9 Batch 700 Loss 25.4714 [ AE 25.4714 GMM 0.0000\n",
      " Epoch 9 Batch 800 Loss 23.7316 [ AE 23.7316 GMM 0.0000\n",
      " Epoch 9 Batch 900 Loss 19.6774 [ AE 19.6774 GMM 0.0000\n",
      " Epoch 9 Batch 1000 Loss 19.9953 [ AE 19.9953 GMM 0.0000\n"
     ]
    },
    {
     "name": "stderr",
     "output_type": "stream",
     "text": [
      " 40%|████      | 10/25 [04:43<07:08, 28.56s/it]"
     ]
    },
    {
     "name": "stdout",
     "output_type": "stream",
     "text": [
      "Epoch loss :: 24.09265\n",
      " Epoch 10 Batch 0 Loss 22.1800 [ AE 22.1800 GMM 0.0000\n",
      " Epoch 10 Batch 100 Loss 25.3502 [ AE 25.3502 GMM 0.0000\n",
      " Epoch 10 Batch 200 Loss 26.1281 [ AE 26.1281 GMM 0.0000\n",
      " Epoch 10 Batch 300 Loss 22.0369 [ AE 22.0369 GMM 0.0000\n",
      " Epoch 10 Batch 400 Loss 21.4300 [ AE 21.4300 GMM 0.0000\n",
      " Epoch 10 Batch 500 Loss 21.5546 [ AE 21.5546 GMM 0.0000\n",
      " Epoch 10 Batch 600 Loss 27.9915 [ AE 27.9915 GMM 0.0000\n",
      " Epoch 10 Batch 700 Loss 23.8496 [ AE 23.8496 GMM 0.0000\n",
      " Epoch 10 Batch 800 Loss 25.5664 [ AE 25.5664 GMM 0.0000\n",
      " Epoch 10 Batch 900 Loss 28.8136 [ AE 28.8136 GMM 0.0000\n",
      " Epoch 10 Batch 1000 Loss 25.3268 [ AE 25.3268 GMM 0.0000\n"
     ]
    },
    {
     "name": "stderr",
     "output_type": "stream",
     "text": [
      " 44%|████▍     | 11/25 [05:12<06:39, 28.50s/it]"
     ]
    },
    {
     "name": "stdout",
     "output_type": "stream",
     "text": [
      "Epoch loss :: 24.61932\n",
      " Epoch 11 Batch 0 Loss 23.4799 [ AE 23.4799 GMM 0.0000\n",
      " Epoch 11 Batch 100 Loss 22.3563 [ AE 22.3563 GMM 0.0000\n",
      " Epoch 11 Batch 200 Loss 26.4326 [ AE 26.4326 GMM 0.0000\n",
      " Epoch 11 Batch 300 Loss 29.0273 [ AE 29.0273 GMM 0.0000\n",
      " Epoch 11 Batch 400 Loss 24.4311 [ AE 24.4311 GMM 0.0000\n",
      " Epoch 11 Batch 500 Loss 28.6799 [ AE 28.6799 GMM 0.0000\n",
      " Epoch 11 Batch 600 Loss 30.4514 [ AE 30.4514 GMM 0.0000\n",
      " Epoch 11 Batch 700 Loss 22.8873 [ AE 22.8873 GMM 0.0000\n",
      " Epoch 11 Batch 800 Loss 22.4026 [ AE 22.4026 GMM 0.0000\n",
      " Epoch 11 Batch 900 Loss 26.5874 [ AE 26.5874 GMM 0.0000\n",
      " Epoch 11 Batch 1000 Loss 28.7522 [ AE 28.7522 GMM 0.0000\n"
     ]
    },
    {
     "name": "stderr",
     "output_type": "stream",
     "text": [
      " 48%|████▊     | 12/25 [05:40<06:10, 28.51s/it]"
     ]
    },
    {
     "name": "stdout",
     "output_type": "stream",
     "text": [
      "Epoch loss :: 25.65084\n",
      " Epoch 12 Batch 0 Loss 24.9203 [ AE 24.9203 GMM 0.0000\n",
      " Epoch 12 Batch 100 Loss 23.9546 [ AE 23.9546 GMM 0.0000\n",
      " Epoch 12 Batch 200 Loss 24.0717 [ AE 24.0717 GMM 0.0000\n",
      " Epoch 12 Batch 300 Loss 22.7531 [ AE 22.7531 GMM 0.0000\n",
      " Epoch 12 Batch 400 Loss 22.7101 [ AE 22.7101 GMM 0.0000\n",
      " Epoch 12 Batch 500 Loss 23.2132 [ AE 23.2132 GMM 0.0000\n",
      " Epoch 12 Batch 600 Loss 21.2056 [ AE 21.2056 GMM 0.0000\n",
      " Epoch 12 Batch 700 Loss 22.5025 [ AE 22.5025 GMM 0.0000\n",
      " Epoch 12 Batch 800 Loss 20.5704 [ AE 20.5704 GMM 0.0000\n",
      " Epoch 12 Batch 900 Loss 22.1392 [ AE 22.1392 GMM 0.0000\n",
      " Epoch 12 Batch 1000 Loss 21.6144 [ AE 21.6144 GMM 0.0000\n"
     ]
    },
    {
     "name": "stderr",
     "output_type": "stream",
     "text": [
      " 52%|█████▏    | 13/25 [06:09<05:43, 28.61s/it]"
     ]
    },
    {
     "name": "stdout",
     "output_type": "stream",
     "text": [
      "Epoch loss :: 24.803392\n",
      " Epoch 13 Batch 0 Loss 26.6541 [ AE 26.6541 GMM 0.0000\n",
      " Epoch 13 Batch 100 Loss 22.8123 [ AE 22.8123 GMM 0.0000\n",
      " Epoch 13 Batch 200 Loss 21.9645 [ AE 21.9645 GMM 0.0000\n",
      " Epoch 13 Batch 300 Loss 28.0671 [ AE 28.0671 GMM 0.0000\n",
      " Epoch 13 Batch 400 Loss 29.5796 [ AE 29.5796 GMM 0.0000\n",
      " Epoch 13 Batch 500 Loss 26.1322 [ AE 26.1322 GMM 0.0000\n",
      " Epoch 13 Batch 600 Loss 26.6069 [ AE 26.6069 GMM 0.0000\n",
      " Epoch 13 Batch 700 Loss 19.2464 [ AE 19.2464 GMM 0.0000\n",
      " Epoch 13 Batch 800 Loss 21.1874 [ AE 21.1874 GMM 0.0000\n",
      " Epoch 13 Batch 900 Loss 30.5214 [ AE 30.5214 GMM 0.0000\n",
      " Epoch 13 Batch 1000 Loss 22.1552 [ AE 22.1552 GMM 0.0000\n"
     ]
    },
    {
     "name": "stderr",
     "output_type": "stream",
     "text": [
      " 56%|█████▌    | 14/25 [06:38<05:15, 28.65s/it]"
     ]
    },
    {
     "name": "stdout",
     "output_type": "stream",
     "text": [
      "Epoch loss :: 24.308401\n",
      " Epoch 14 Batch 0 Loss 26.3448 [ AE 26.3448 GMM 0.0000\n",
      " Epoch 14 Batch 100 Loss 23.6252 [ AE 23.6252 GMM 0.0000\n",
      " Epoch 14 Batch 200 Loss 21.6718 [ AE 21.6718 GMM 0.0000\n",
      " Epoch 14 Batch 300 Loss 19.2066 [ AE 19.2066 GMM 0.0000\n",
      " Epoch 14 Batch 400 Loss 22.9765 [ AE 22.9765 GMM 0.0000\n",
      " Epoch 14 Batch 500 Loss 21.5320 [ AE 21.5320 GMM 0.0000\n",
      " Epoch 14 Batch 600 Loss 31.2732 [ AE 31.2732 GMM 0.0000\n",
      " Epoch 14 Batch 700 Loss 20.7506 [ AE 20.7506 GMM 0.0000\n",
      " Epoch 14 Batch 800 Loss 21.1310 [ AE 21.1310 GMM 0.0000\n",
      " Epoch 14 Batch 900 Loss 24.9573 [ AE 24.9573 GMM 0.0000\n",
      " Epoch 14 Batch 1000 Loss 25.2589 [ AE 25.2589 GMM 0.0000\n"
     ]
    },
    {
     "name": "stderr",
     "output_type": "stream",
     "text": [
      " 60%|██████    | 15/25 [07:07<04:46, 28.65s/it]"
     ]
    },
    {
     "name": "stdout",
     "output_type": "stream",
     "text": [
      "Epoch loss :: 25.348719\n",
      " Epoch 15 Batch 0 Loss 22.6916 [ AE 22.6916 GMM 0.0000\n",
      " Epoch 15 Batch 100 Loss 21.4804 [ AE 21.4804 GMM 0.0000\n",
      " Epoch 15 Batch 200 Loss 21.6662 [ AE 21.6662 GMM 0.0000\n",
      " Epoch 15 Batch 300 Loss 23.1435 [ AE 23.1435 GMM 0.0000\n",
      " Epoch 15 Batch 400 Loss 27.4879 [ AE 27.4879 GMM 0.0000\n",
      " Epoch 15 Batch 500 Loss 26.0556 [ AE 26.0556 GMM 0.0000\n",
      " Epoch 15 Batch 600 Loss 28.4483 [ AE 28.4483 GMM 0.0000\n",
      " Epoch 15 Batch 700 Loss 24.0245 [ AE 24.0245 GMM 0.0000\n",
      " Epoch 15 Batch 800 Loss 24.4755 [ AE 24.4755 GMM 0.0000\n",
      " Epoch 15 Batch 900 Loss 28.4257 [ AE 28.4257 GMM 0.0000\n",
      " Epoch 15 Batch 1000 Loss 27.1869 [ AE 27.1869 GMM 0.0000\n"
     ]
    },
    {
     "name": "stderr",
     "output_type": "stream",
     "text": [
      " 64%|██████▍   | 16/25 [07:35<04:17, 28.65s/it]"
     ]
    },
    {
     "name": "stdout",
     "output_type": "stream",
     "text": [
      "Epoch loss :: 24.092392\n",
      " Epoch 16 Batch 0 Loss 23.9833 [ AE 23.9833 GMM 0.0000\n",
      " Epoch 16 Batch 100 Loss 20.8225 [ AE 20.8225 GMM 0.0000\n",
      " Epoch 16 Batch 200 Loss 25.7842 [ AE 25.7842 GMM 0.0000\n",
      " Epoch 16 Batch 300 Loss 28.8715 [ AE 28.8715 GMM 0.0000\n",
      " Epoch 16 Batch 400 Loss 19.8184 [ AE 19.8184 GMM 0.0000\n",
      " Epoch 16 Batch 500 Loss 21.9615 [ AE 21.9615 GMM 0.0000\n",
      " Epoch 16 Batch 600 Loss 26.7523 [ AE 26.7523 GMM 0.0000\n",
      " Epoch 16 Batch 700 Loss 26.4319 [ AE 26.4319 GMM 0.0000\n",
      " Epoch 16 Batch 800 Loss 23.6264 [ AE 23.6264 GMM 0.0000\n",
      " Epoch 16 Batch 900 Loss 24.1844 [ AE 24.1844 GMM 0.0000\n",
      " Epoch 16 Batch 1000 Loss 18.0766 [ AE 18.0766 GMM 0.0000\n"
     ]
    },
    {
     "name": "stderr",
     "output_type": "stream",
     "text": [
      " 68%|██████▊   | 17/25 [08:04<03:49, 28.65s/it]"
     ]
    },
    {
     "name": "stdout",
     "output_type": "stream",
     "text": [
      "Epoch loss :: 24.044342\n",
      " Epoch 17 Batch 0 Loss 25.4247 [ AE 25.4247 GMM 0.0000\n",
      " Epoch 17 Batch 100 Loss 25.6255 [ AE 25.6255 GMM 0.0000\n",
      " Epoch 17 Batch 200 Loss 25.0834 [ AE 25.0834 GMM 0.0000\n",
      " Epoch 17 Batch 300 Loss 20.2473 [ AE 20.2473 GMM 0.0000\n",
      " Epoch 17 Batch 400 Loss 24.8245 [ AE 24.8245 GMM 0.0000\n",
      " Epoch 17 Batch 500 Loss 29.2338 [ AE 29.2338 GMM 0.0000\n",
      " Epoch 17 Batch 600 Loss 26.2253 [ AE 26.2253 GMM 0.0000\n",
      " Epoch 17 Batch 700 Loss 21.6727 [ AE 21.6727 GMM 0.0000\n",
      " Epoch 17 Batch 800 Loss 15.4446 [ AE 15.4446 GMM 0.0000\n",
      " Epoch 17 Batch 900 Loss 21.0443 [ AE 21.0443 GMM 0.0000\n",
      " Epoch 17 Batch 1000 Loss 22.8074 [ AE 22.8074 GMM 0.0000\n"
     ]
    },
    {
     "name": "stderr",
     "output_type": "stream",
     "text": [
      " 72%|███████▏  | 18/25 [08:32<03:19, 28.46s/it]"
     ]
    },
    {
     "name": "stdout",
     "output_type": "stream",
     "text": [
      "Epoch loss :: 24.459066\n",
      " Epoch 18 Batch 0 Loss 21.5432 [ AE 21.5432 GMM 0.0000\n",
      " Epoch 18 Batch 100 Loss 19.2126 [ AE 19.2126 GMM 0.0000\n",
      " Epoch 18 Batch 200 Loss 28.6782 [ AE 28.6782 GMM 0.0000\n",
      " Epoch 18 Batch 300 Loss 20.5891 [ AE 20.5891 GMM 0.0000\n",
      " Epoch 18 Batch 400 Loss 23.4668 [ AE 23.4668 GMM 0.0000\n",
      " Epoch 18 Batch 500 Loss 24.5582 [ AE 24.5582 GMM 0.0000\n",
      " Epoch 18 Batch 600 Loss 23.6636 [ AE 23.6636 GMM 0.0000\n",
      " Epoch 18 Batch 700 Loss 28.0621 [ AE 28.0621 GMM 0.0000\n",
      " Epoch 18 Batch 800 Loss 25.6218 [ AE 25.6218 GMM 0.0000\n",
      " Epoch 18 Batch 900 Loss 26.4991 [ AE 26.4991 GMM 0.0000\n",
      " Epoch 18 Batch 1000 Loss 22.2636 [ AE 22.2636 GMM 0.0000\n"
     ]
    },
    {
     "name": "stderr",
     "output_type": "stream",
     "text": [
      " 76%|███████▌  | 19/25 [09:01<02:51, 28.50s/it]"
     ]
    },
    {
     "name": "stdout",
     "output_type": "stream",
     "text": [
      "Epoch loss :: 23.636929\n",
      " Epoch 19 Batch 0 Loss 22.9943 [ AE 22.9943 GMM 0.0000\n",
      " Epoch 19 Batch 100 Loss 19.9567 [ AE 19.9567 GMM 0.0000\n",
      " Epoch 19 Batch 200 Loss 29.0809 [ AE 29.0809 GMM 0.0000\n",
      " Epoch 19 Batch 300 Loss 21.2120 [ AE 21.2120 GMM 0.0000\n",
      " Epoch 19 Batch 400 Loss 24.8781 [ AE 24.8781 GMM 0.0000\n",
      " Epoch 19 Batch 500 Loss 27.2690 [ AE 27.2690 GMM 0.0000\n",
      " Epoch 19 Batch 600 Loss 21.6229 [ AE 21.6229 GMM 0.0000\n",
      " Epoch 19 Batch 700 Loss 22.4757 [ AE 22.4757 GMM 0.0000\n",
      " Epoch 19 Batch 800 Loss 23.8483 [ AE 23.8483 GMM 0.0000\n",
      " Epoch 19 Batch 900 Loss 26.7007 [ AE 26.7007 GMM 0.0000\n",
      " Epoch 19 Batch 1000 Loss 21.2704 [ AE 21.2704 GMM 0.0000\n"
     ]
    },
    {
     "name": "stderr",
     "output_type": "stream",
     "text": [
      " 80%|████████  | 20/25 [09:29<02:22, 28.45s/it]"
     ]
    },
    {
     "name": "stdout",
     "output_type": "stream",
     "text": [
      "Epoch loss :: 23.694593\n",
      " Epoch 20 Batch 0 Loss 23.9322 [ AE 23.9322 GMM 0.0000\n",
      " Epoch 20 Batch 100 Loss 21.7057 [ AE 21.7057 GMM 0.0000\n",
      " Epoch 20 Batch 200 Loss 24.2286 [ AE 24.2286 GMM 0.0000\n",
      " Epoch 20 Batch 300 Loss 19.3559 [ AE 19.3559 GMM 0.0000\n",
      " Epoch 20 Batch 400 Loss 24.0140 [ AE 24.0140 GMM 0.0000\n",
      " Epoch 20 Batch 500 Loss 23.1934 [ AE 23.1934 GMM 0.0000\n",
      " Epoch 20 Batch 600 Loss 23.1277 [ AE 23.1277 GMM 0.0000\n",
      " Epoch 20 Batch 700 Loss 20.6244 [ AE 20.6244 GMM 0.0000\n",
      " Epoch 20 Batch 800 Loss 27.9980 [ AE 27.9980 GMM 0.0000\n",
      " Epoch 20 Batch 900 Loss 22.6114 [ AE 22.6114 GMM 0.0000\n",
      " Epoch 20 Batch 1000 Loss 22.6260 [ AE 22.6260 GMM 0.0000\n"
     ]
    },
    {
     "name": "stderr",
     "output_type": "stream",
     "text": [
      " 84%|████████▍ | 21/25 [09:57<01:53, 28.42s/it]"
     ]
    },
    {
     "name": "stdout",
     "output_type": "stream",
     "text": [
      "Epoch loss :: 23.979422\n",
      " Epoch 21 Batch 0 Loss 24.6494 [ AE 24.6494 GMM 0.0000\n",
      " Epoch 21 Batch 100 Loss 27.9814 [ AE 27.9814 GMM 0.0000\n",
      " Epoch 21 Batch 200 Loss 25.8634 [ AE 25.8634 GMM 0.0000\n",
      " Epoch 21 Batch 300 Loss 22.8819 [ AE 22.8819 GMM 0.0000\n",
      " Epoch 21 Batch 400 Loss 24.1327 [ AE 24.1327 GMM 0.0000\n",
      " Epoch 21 Batch 500 Loss 23.2304 [ AE 23.2304 GMM 0.0000\n",
      " Epoch 21 Batch 600 Loss 21.1882 [ AE 21.1882 GMM 0.0000\n",
      " Epoch 21 Batch 700 Loss 23.1403 [ AE 23.1403 GMM 0.0000\n",
      " Epoch 21 Batch 800 Loss 21.2832 [ AE 21.2832 GMM 0.0000\n",
      " Epoch 21 Batch 900 Loss 23.4422 [ AE 23.4422 GMM 0.0000\n",
      " Epoch 21 Batch 1000 Loss 25.6908 [ AE 25.6908 GMM 0.0000\n"
     ]
    },
    {
     "name": "stderr",
     "output_type": "stream",
     "text": [
      " 88%|████████▊ | 22/25 [10:26<01:25, 28.41s/it]"
     ]
    },
    {
     "name": "stdout",
     "output_type": "stream",
     "text": [
      "Epoch loss :: 23.76791\n",
      " Epoch 22 Batch 0 Loss 24.8640 [ AE 24.8640 GMM 0.0000\n",
      " Epoch 22 Batch 100 Loss 28.2221 [ AE 28.2221 GMM 0.0000\n",
      " Epoch 22 Batch 200 Loss 23.4315 [ AE 23.4315 GMM 0.0000\n",
      " Epoch 22 Batch 300 Loss 26.3085 [ AE 26.3085 GMM 0.0000\n",
      " Epoch 22 Batch 400 Loss 22.8193 [ AE 22.8193 GMM 0.0000\n",
      " Epoch 22 Batch 500 Loss 29.6479 [ AE 29.6479 GMM 0.0000\n",
      " Epoch 22 Batch 600 Loss 25.9472 [ AE 25.9472 GMM 0.0000\n",
      " Epoch 22 Batch 700 Loss 24.4103 [ AE 24.4103 GMM 0.0000\n",
      " Epoch 22 Batch 800 Loss 23.2549 [ AE 23.2549 GMM 0.0000\n",
      " Epoch 22 Batch 900 Loss 25.4492 [ AE 25.4492 GMM 0.0000\n",
      " Epoch 22 Batch 1000 Loss 20.6390 [ AE 20.6390 GMM 0.0000\n"
     ]
    },
    {
     "name": "stderr",
     "output_type": "stream",
     "text": [
      " 92%|█████████▏| 23/25 [10:54<00:56, 28.43s/it]"
     ]
    },
    {
     "name": "stdout",
     "output_type": "stream",
     "text": [
      "Epoch loss :: 24.296486\n",
      " Epoch 23 Batch 0 Loss 22.8163 [ AE 22.8163 GMM 0.0000\n",
      " Epoch 23 Batch 100 Loss 20.2422 [ AE 20.2422 GMM 0.0000\n",
      " Epoch 23 Batch 200 Loss 21.5842 [ AE 21.5842 GMM 0.0000\n",
      " Epoch 23 Batch 300 Loss 21.4242 [ AE 21.4242 GMM 0.0000\n",
      " Epoch 23 Batch 400 Loss 27.0806 [ AE 27.0806 GMM 0.0000\n",
      " Epoch 23 Batch 500 Loss 27.0607 [ AE 27.0607 GMM 0.0000\n",
      " Epoch 23 Batch 600 Loss 25.8123 [ AE 25.8123 GMM 0.0000\n",
      " Epoch 23 Batch 700 Loss 24.0225 [ AE 24.0225 GMM 0.0000\n",
      " Epoch 23 Batch 800 Loss 27.3492 [ AE 27.3492 GMM 0.0000\n",
      " Epoch 23 Batch 900 Loss 20.6005 [ AE 20.6005 GMM 0.0000\n",
      " Epoch 23 Batch 1000 Loss 23.1933 [ AE 23.1933 GMM 0.0000\n"
     ]
    },
    {
     "name": "stderr",
     "output_type": "stream",
     "text": [
      " 96%|█████████▌| 24/25 [11:23<00:28, 28.57s/it]"
     ]
    },
    {
     "name": "stdout",
     "output_type": "stream",
     "text": [
      "Epoch loss :: 24.013334\n",
      " Epoch 24 Batch 0 Loss 22.9266 [ AE 22.9266 GMM 0.0000\n",
      " Epoch 24 Batch 100 Loss 26.8992 [ AE 26.8992 GMM 0.0000\n",
      " Epoch 24 Batch 200 Loss 24.2914 [ AE 24.2914 GMM 0.0000\n",
      " Epoch 24 Batch 300 Loss 23.4175 [ AE 23.4175 GMM 0.0000\n",
      " Epoch 24 Batch 400 Loss 21.4322 [ AE 21.4322 GMM 0.0000\n",
      " Epoch 24 Batch 500 Loss 21.6064 [ AE 21.6064 GMM 0.0000\n",
      " Epoch 24 Batch 600 Loss 21.9450 [ AE 21.9450 GMM 0.0000\n",
      " Epoch 24 Batch 700 Loss 23.1565 [ AE 23.1565 GMM 0.0000\n",
      " Epoch 24 Batch 800 Loss 23.1709 [ AE 23.1709 GMM 0.0000\n",
      " Epoch 24 Batch 900 Loss 21.9341 [ AE 21.9341 GMM 0.0000\n",
      " Epoch 24 Batch 1000 Loss 22.0079 [ AE 22.0079 GMM 0.0000\n"
     ]
    },
    {
     "name": "stderr",
     "output_type": "stream",
     "text": [
      "100%|██████████| 25/25 [11:52<00:00, 28.50s/it]"
     ]
    },
    {
     "name": "stdout",
     "output_type": "stream",
     "text": [
      "Epoch loss :: 23.595654\n"
     ]
    },
    {
     "name": "stderr",
     "output_type": "stream",
     "text": [
      "\n"
     ]
    }
   ],
   "source": [
    "ae_model = base_DAGMM.AE_model(\n",
    "    DEVICE,\n",
    "    latent_dim,\n",
    "    encoder_structure_config,\n",
    "    decoder_structure_config,\n",
    "    loss_structure_config,\n",
    "    num_gmm_components = 8,\n",
    "    optimizer='Adam',\n",
    "    batch_size=128,\n",
    "    num_epochs=25,\n",
    "    learning_rate=0.01,\n",
    "    l2_regularizer=0.05\n",
    ")\n",
    "\n",
    "losses = ae_model.train_model(\n",
    "    train_X\n",
    ")"
   ]
  },
  {
   "cell_type": "code",
   "execution_count": 126,
   "metadata": {},
   "outputs": [
    {
     "data": {
      "image/png": "[encoded data removed]",
      "text/plain": [
       "<Figure size 576x432 with 1 Axes>"
      ]
     },
     "metadata": {
      "needs_background": "light"
     },
     "output_type": "display_data"
    }
   ],
   "source": [
    "viz_loss(losses)"
   ]
  },
  {
   "cell_type": "code",
   "execution_count": null,
   "metadata": {},
   "outputs": [],
   "source": []
  },
  {
   "cell_type": "code",
   "execution_count": 134,
   "metadata": {},
   "outputs": [],
   "source": [
    "test_norm_df = data['test_norm']\n",
    "test_norm_X = test_norm_df.values\n",
    "\n",
    "test_anom_df = data['test_anom']\n",
    "test_anom_X = test_anom_df.values\n",
    "x1 = test_norm_X\n",
    "x2 = test_anom_X"
   ]
  },
  {
   "cell_type": "code",
   "execution_count": 131,
   "metadata": {},
   "outputs": [],
   "source": [
    "# x1 = ae_model.get_compressed_embedding(test_norm_X)\n",
    "# x2 = ae_model.get_compressed_embedding(test_anom_X)"
   ]
  },
  {
   "cell_type": "code",
   "execution_count": 135,
   "metadata": {},
   "outputs": [
    {
     "data": {
      "image/png": "[encoded data removed]",
      "text/plain": [
       "<Figure size 720x720 with 1 Axes>"
      ]
     },
     "metadata": {
      "needs_background": "light"
     },
     "output_type": "display_data"
    },
    {
     "data": {
      "image/png": "[encoded data removed]",
      "text/plain": [
       "<Figure size 1008x1008 with 1 Axes>"
      ]
     },
     "metadata": {
      "needs_background": "light"
     },
     "output_type": "display_data"
    }
   ],
   "source": [
    "visualize( ae_model, x1,x2)"
   ]
  },
  {
   "cell_type": "code",
   "execution_count": 70,
   "metadata": {},
   "outputs": [],
   "source": [
    "from sklearn import mixture\n",
    "X = ae_model.get_compressed_embedding(train_X)"
   ]
  },
  {
   "cell_type": "code",
   "execution_count": 76,
   "metadata": {},
   "outputs": [
    {
     "data": {
      "text/plain": [
       "(134986, 16)"
      ]
     },
     "execution_count": 76,
     "metadata": {},
     "output_type": "execute_result"
    }
   ],
   "source": [
    "X = np.array(X)\n",
    "X.shape"
   ]
  },
  {
   "cell_type": "code",
   "execution_count": 72,
   "metadata": {},
   "outputs": [
    {
     "name": "stdout",
     "output_type": "stream",
     "text": [
      "Initialization 0\n",
      "  Iteration 10\n",
      "  Iteration 20\n",
      "Initialization converged: True\n"
     ]
    }
   ],
   "source": [
    " \n"
   ]
  },
  {
   "cell_type": "code",
   "execution_count": 105,
   "metadata": {},
   "outputs": [],
   "source": [
    "import itertools\n",
    "import numpy as np\n",
    "from scipy import linalg\n",
    "import matplotlib.pyplot as plt\n",
    "import matplotlib as mpl\n",
    "from sklearn import mixture\n",
    "\n",
    "color_iter = itertools.cycle(['navy', 'c', 'cornflowerblue', 'gold',\n",
    "                              'darkorange','red','magenta','yellow'])\n",
    "\n",
    "\n",
    "def plot_results(X, Y_, means, covariances, index, title):\n",
    "    \n",
    "    plt.figure( figsize=[8,6])\n",
    "    splot = plt.subplot(1, 1, 1)\n",
    "    component_count = 0\n",
    "    for i, (mean, covar, color) in enumerate(zip(\n",
    "            means, covariances, color_iter)):\n",
    "        v, w = linalg.eigh(np.diag(covar))\n",
    "        v = 2. * np.sqrt(2.) * np.sqrt(v)\n",
    "        u = w[0] / linalg.norm(w[0])\n",
    "        \n",
    "        # as the DP will not use every component it has access to\n",
    "        # unless it needs it, we shouldn't plot the redundant\n",
    "        # components.\n",
    "          \n",
    "        if not np.any(Y_ == i):\n",
    "            continue\n",
    "        else:\n",
    "            c = np.nonzero(np.where(Y_ == 2, Y_, 0))[0].shape[0]\n",
    "            component_count += 1\n",
    "            print('component :', component_count, c )\n",
    "        plt.scatter(X[Y_ == i, 0], X[Y_ == i, 1], .8, color=color)\n",
    "\n",
    "        # Plot an ellipse to show the Gaussian component\n",
    "        angle = np.arctan(u[1] / u[0])\n",
    "        angle = 180. * angle / np.pi  # convert to degrees\n",
    "        ell = mpl.patches.Ellipse(mean, v[0], v[1], 180. + angle, color=color)\n",
    "        ell.set_clip_box(splot.bbox)\n",
    "        ell.set_alpha(0.5)\n",
    "        splot.add_artist(ell)\n",
    "        \n",
    "    plt.title(title)\n",
    "    plt.show()"
   ]
  },
  {
   "cell_type": "code",
   "execution_count": 136,
   "metadata": {},
   "outputs": [
    {
     "name": "stdout",
     "output_type": "stream",
     "text": [
      "Initialization 0\n",
      "  Iteration 10\n",
      "  Iteration 20\n",
      "  Iteration 30\n",
      "Initialization converged: True\n"
     ]
    }
   ],
   "source": [
    "# Number of samples per component\n",
    "n_samples = X.shape[0]\n",
    "dpgmm = mixture.BayesianGaussianMixture(\n",
    "    n_components = 20,\n",
    "    covariance_type='diag',\n",
    "    verbose=1,\n",
    "    max_iter = 100\n",
    ").fit(X)"
   ]
  },
  {
   "cell_type": "code",
   "execution_count": 137,
   "metadata": {},
   "outputs": [
    {
     "name": "stdout",
     "output_type": "stream",
     "text": [
      "component : 1 6514\n",
      "component : 2 6514\n",
      "component : 3 6514\n",
      "component : 4 6514\n",
      "component : 5 6514\n",
      "component : 6 6514\n",
      "component : 7 6514\n",
      "component : 8 6514\n",
      "component : 9 6514\n",
      "component : 10 6514\n",
      "component : 11 6514\n",
      "component : 12 6514\n",
      "component : 13 6514\n",
      "component : 14 6514\n",
      "component : 15 6514\n",
      "component : 16 6514\n",
      "component : 17 6514\n",
      "component : 18 6514\n",
      "component : 19 6514\n",
      "component : 20 6514\n"
     ]
    },
    {
     "name": "stderr",
     "output_type": "stream",
     "text": [
      "/home/ddatta/anaconda3/envs/SG/lib/python3.7/site-packages/ipykernel_launcher.py:36: RuntimeWarning: invalid value encountered in double_scalars\n"
     ]
    },
    {
     "data": {
      "image/png": "[encoded data removed]",
      "text/plain": [
       "<Figure size 576x432 with 1 Axes>"
      ]
     },
     "metadata": {
      "needs_background": "light"
     },
     "output_type": "display_data"
    }
   ],
   "source": [
    "plot_results(\n",
    "    X, \n",
    "    dpgmm.predict(X), \n",
    "    dpgmm.means_, \n",
    "    dpgmm.covariances_, \n",
    "    1,\n",
    "    'Bayesian Gaussian Mixture with a Dirichlet process prior'\n",
    ")\n",
    "\n",
    "plt.show()"
   ]
  },
  {
   "cell_type": "code",
   "execution_count": 146,
   "metadata": {},
   "outputs": [
    {
     "data": {
      "text/plain": [
       "<matplotlib.collections.PathCollection at 0x7f71131609d0>"
      ]
     },
     "execution_count": 146,
     "metadata": {},
     "output_type": "execute_result"
    },
    {
     "data": {
      "image/png": "[encoded data removed]",
      "text/plain": [
       "<Figure size 432x288 with 1 Axes>"
      ]
     },
     "metadata": {
      "needs_background": "light"
     },
     "output_type": "display_data"
    }
   ],
   "source": [
    "from sklearn.decomposition import TruncatedSVD\n",
    "svd = TruncatedSVD()\n",
    "z = svd.fit_transform(dpgmm.means_)\n",
    "plt.scatter(z[:,0],z[:,1])"
   ]
  },
  {
   "cell_type": "code",
   "execution_count": 23,
   "metadata": {
    "scrolled": true
   },
   "outputs": [
    {
     "data": {
      "text/plain": [
       "tensor(5.8142e+14)"
      ]
     },
     "execution_count": 23,
     "metadata": {},
     "output_type": "execute_result"
    }
   ],
   "source": [
    "sigma_k = torch.FloatTensor(np.random.random([16]))\n",
    "torch.reciprocal(torch.pow(torch.prod(sigma_k, dim=0),2))\n",
    "                           "
   ]
  },
  {
   "cell_type": "code",
   "execution_count": 55,
   "metadata": {
    "scrolled": true
   },
   "outputs": [],
   "source": [
    "a =  torch.FloatTensor(np.random.random([128,16]))\n",
    "b =  torch.FloatTensor(np.random.random([128]))"
   ]
  },
  {
   "cell_type": "code",
   "execution_count": 104,
   "metadata": {},
   "outputs": [
    {
     "data": {
      "text/plain": [
       "2"
      ]
     },
     "execution_count": 104,
     "metadata": {},
     "output_type": "execute_result"
    }
   ],
   "source": [
    "a = np.array([1,2,3,1,2,3])\n",
    "np.nonzero(np.where(a == 2, a, 0))[0].shape[0]"
   ]
  },
  {
   "cell_type": "code",
   "execution_count": null,
   "metadata": {},
   "outputs": [],
   "source": []
  },
  {
   "cell_type": "code",
   "execution_count": null,
   "metadata": {},
   "outputs": [],
   "source": []
  }
 ],
 "metadata": {
  "kernelspec": {
   "display_name": "Python 3",
   "language": "python",
   "name": "python3"
  },
  "language_info": {
   "codemirror_mode": {
    "name": "ipython",
    "version": 3
   },
   "file_extension": ".py",
   "mimetype": "text/x-python",
   "name": "python",
   "nbconvert_exporter": "python",
   "pygments_lexer": "ipython3",
   "version": "3.7.6"
  }
 },
 "nbformat": 4,
 "nbformat_minor": 4
}
