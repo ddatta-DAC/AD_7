{
 "cells": [
  {
   "cell_type": "code",
   "execution_count": 10,
   "metadata": {},
   "outputs": [
    {
     "name": "stdout",
     "output_type": "stream",
     "text": [
      "2.822118800390509\n",
      "2.8964808793049515\n",
      "2.9738777322304477\n",
      "3.0544332106438876\n",
      "3.1382762204968184\n",
      "3.225540928492468\n",
      "3.3163669767810915\n",
      "3.4108997064172097\n",
      "3.509290389936298\n",
      "3.611696473423118\n",
      "3.718281828459045\n",
      "3.82921701435156\n",
      "3.944679551065524\n",
      "4.064854203293002\n",
      "4.189933276116184\n",
      "4.320116922736547\n",
      "4.455613464762676\n",
      "4.596639725569282\n",
      "4.743421377260862\n",
      "4.896193301795214\n",
      "5.0551999668446745\n",
      "5.220695816996552\n",
      "5.392945680918757\n",
      "5.572225195142159\n",
      "5.758821245137854\n",
      "5.953032424395115\n",
      "6.155169512234682\n",
      "6.365555971121975\n",
      "6.584528464276054\n",
      "6.812437394402589\n",
      "7.0496474644129465\n",
      "7.296538261026656\n",
      "7.553504862191148\n",
      "7.8209584692907494\n",
      "8.099327065156633\n",
      "8.38905609893065\n",
      "8.690609198878999\n",
      "9.004468914296353\n",
      "9.331137487687693\n",
      "9.671137658463456\n",
      "10\n",
      "10\n",
      "10\n",
      "10\n",
      "10\n"
     ]
    },
    {
     "data": {
      "text/plain": [
       "[<matplotlib.lines.Line2D at 0x7f02d71cd790>]"
      ]
     },
     "execution_count": 10,
     "metadata": {},
     "output_type": "execute_result"
    },
    {
     "data": {
      "image/png": "[encoded data removed]",
      "text/plain": [
       "<Figure size 432x288 with 1 Axes>"
      ]
     },
     "metadata": {
      "needs_background": "light"
     },
     "output_type": "display_data"
    }
   ],
   "source": [
    "import numpy as np\n",
    "t_max = 35\n",
    "max_gamma = 10\n",
    "vals = []\n",
    "for e in range(10+15+20):\n",
    "    t_start = 10 \n",
    "    t = e\n",
    "    gamma = min(1 + np.exp((t - t_start) / (t_max - t_start) + 1), max_gamma)\n",
    "    print(gamma)\n",
    "    if e >=10:\n",
    "        vals.append(gamma)\n",
    "from matplotlib import pyplot as plt\n",
    "\n",
    "plt.plot(list(range(len(vals))),vals)"
   ]
  },
  {
   "cell_type": "code",
   "execution_count": 11,
   "metadata": {},
   "outputs": [],
   "source": [
    "import numpy as np\n",
    "\n",
    "from scipy.signal import argrelextrema"
   ]
  },
  {
   "cell_type": "code",
   "execution_count": 17,
   "metadata": {},
   "outputs": [],
   "source": [
    "x1 = [1.1170886, 0.38239166, 0.35065264, 0.25881845, 0.31791702, 0.17749439, 0.18350706, 0.1721346, 0.15712345, 0.12921825, 0.12178189, 0.11433147, 0.121045634, 0.08443505, 0.0843844, 0.06832042, 0.0925267]"
   ]
  },
  {
   "cell_type": "code",
   "execution_count": 18,
   "metadata": {},
   "outputs": [],
   "source": [
    "x2 = [1.3922305, 0.3797683, 0.34272987, 0.3108083, 0.2775474, 0.23397645, 0.20254305, 0.18073916, 0.21060568, 0.15207157, 0.11144153, 0.11073485, 0.14062895, 0.0810113, 0.070876434, 0.10576465, 0.0989345]"
   ]
  },
  {
   "cell_type": "code",
   "execution_count": 27,
   "metadata": {},
   "outputs": [],
   "source": [
    "x = x2"
   ]
  },
  {
   "cell_type": "code",
   "execution_count": 32,
   "metadata": {},
   "outputs": [
    {
     "data": {
      "text/plain": [
       "17"
      ]
     },
     "execution_count": 32,
     "metadata": {},
     "output_type": "execute_result"
    }
   ],
   "source": [
    "len(x)"
   ]
  },
  {
   "cell_type": "code",
   "execution_count": 28,
   "metadata": {},
   "outputs": [
    {
     "data": {
      "text/plain": [
       "[<matplotlib.lines.Line2D at 0x7f02d4fc2f50>]"
      ]
     },
     "execution_count": 28,
     "metadata": {},
     "output_type": "execute_result"
    },
    {
     "data": {
      "image/png": "[encoded data removed]",
      "text/plain": [
       "<Figure size 432x288 with 1 Axes>"
      ]
     },
     "metadata": {
      "needs_background": "light"
     },
     "output_type": "display_data"
    }
   ],
   "source": [
    "from matplotlib import pyplot as plt\n",
    "\n",
    "plt.plot(list(range(len(x))),x)"
   ]
  },
  {
   "cell_type": "code",
   "execution_count": 29,
   "metadata": {},
   "outputs": [],
   "source": [
    "x = np.array(x)"
   ]
  },
  {
   "cell_type": "code",
   "execution_count": 31,
   "metadata": {},
   "outputs": [
    {
     "data": {
      "text/plain": [
       "array([0.18073916, 0.11073485, 0.07087643])"
      ]
     },
     "execution_count": 31,
     "metadata": {},
     "output_type": "execute_result"
    }
   ],
   "source": [
    "x[argrelextrema(x, np.less)[0]]"
   ]
  },
  {
   "cell_type": "code",
   "execution_count": 35,
   "metadata": {},
   "outputs": [
    {
     "data": {
      "text/plain": [
       "array([[1, 2, 3],\n",
       "       [4, 2, 1],\n",
       "       [4, 8, 2]])"
      ]
     },
     "execution_count": 35,
     "metadata": {},
     "output_type": "execute_result"
    }
   ],
   "source": [
    "a = [[1,2,3],[4,2,1],[4,8,2]]\n",
    "b =np.array(a)\n",
    "b"
   ]
  },
  {
   "cell_type": "code",
   "execution_count": 36,
   "metadata": {},
   "outputs": [
    {
     "data": {
      "text/plain": [
       "array([1, 4, 4])"
      ]
     },
     "execution_count": 36,
     "metadata": {},
     "output_type": "execute_result"
    }
   ],
   "source": [
    "b[:,0]"
   ]
  },
  {
   "cell_type": "code",
   "execution_count": null,
   "metadata": {},
   "outputs": [],
   "source": []
  }
 ],
 "metadata": {
  "kernelspec": {
   "display_name": "Python 3",
   "language": "python",
   "name": "python3"
  },
  "language_info": {
   "codemirror_mode": {
    "name": "ipython",
    "version": 3
   },
   "file_extension": ".py",
   "mimetype": "text/x-python",
   "name": "python",
   "nbconvert_exporter": "python",
   "pygments_lexer": "ipython3",
   "version": "3.7.6"
  }
 },
 "nbformat": 4,
 "nbformat_minor": 4
}
