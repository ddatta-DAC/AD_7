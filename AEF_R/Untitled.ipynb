{
 "cells": [
  {
   "cell_type": "code",
   "execution_count": 1,
   "metadata": {},
   "outputs": [],
   "source": [
    "%load_ext autoreload\n",
    "%autoreload 2"
   ]
  },
  {
   "cell_type": "code",
   "execution_count": 2,
   "metadata": {},
   "outputs": [
    {
     "name": "stdout",
     "output_type": "stream",
     "text": [
      "Current device  >>  cuda\n",
      "INFO: Pandarallel will run on 40 workers.\n",
      "INFO: Pandarallel will use Memory file system to transfer data between the main process and workers.\n",
      "Current device  >>  cuda\n",
      "=========================== \n"
     ]
    }
   ],
   "source": [
    "import sys\n",
    "import os\n",
    "import pandas as pd\n",
    "import numpy as np\n",
    "\n",
    "sys.path.append('./..')\n",
    "sys.path.append('./../..')\n",
    "import torch\n",
    "import math\n",
    "import yaml\n",
    "from sklearn.metrics import auc\n",
    "from tqdm import tqdm\n",
    "from collections import OrderedDict\n",
    "from matplotlib import pyplot as plt\n",
    "from pathlib import Path\n",
    "import argparse\n",
    "import multiprocessing\n",
    "from pprint import pprint\n",
    "from time import time\n",
    "from datetime import datetime\n",
    "DEVICE = torch.device(\"cuda\" if torch.cuda.is_available() else \"cpu\")\n",
    "# DEVICE = torch.device(\"cpu\")\n",
    "print('Current device  >> ', DEVICE)\n",
    "# ===============================================\n",
    "try:\n",
    "    from data_fetcher import data_fetcher\n",
    "except:\n",
    "    from .data_fetcher import data_fetcher\n",
    "try:\n",
    "    from model_aef_r import model_FAER_container as Model\n",
    "except:\n",
    "    from .model_aef_r import model_FAER_container as Model\n",
    "try:\n",
    "    from utils import create_config\n",
    "except:\n",
    "    from .utils import create_config\n",
    "try:\n",
    "    import utils\n",
    "except:\n",
    "    from . import utils"
   ]
  },
  {
   "cell_type": "code",
   "execution_count": 31,
   "metadata": {},
   "outputs": [],
   "source": [
    "DATA_SET = 'nb15'"
   ]
  },
  {
   "cell_type": "code",
   "execution_count": 32,
   "metadata": {},
   "outputs": [
    {
     "name": "stdout",
     "output_type": "stream",
     "text": [
      "Size:  train_df 39200 , test_df 16800, anomaly data 5009, Req anomalies 3360\n",
      "split schema  [133, 11, 9, 3, 1, 37]\n",
      "Loss structure config {'discrete_dims': OrderedDict([('proto', 133), ('service', 11), ('state', 9), ('is_ftp_login', 3), ('is_sm_ips_ports', 2)]), 'real_loss_func': 'smooth_l1', 'real_dims': 37}\n",
      " Loss module split schema  [133, 11, 9, 3, 1, 37]\n"
     ]
    }
   ],
   "source": [
    "encoder_structure_config, decoder_structure_config, loss_structure_config, latent_dim = create_config(DATA_SET)\n",
    "anomaly_ratio = -1\n",
    "ae_model = None\n",
    "if DATA_SET == 'kddcup':\n",
    "    anomaly_ratio = 0.2\n",
    "    ae_model = Model(\n",
    "        DEVICE,\n",
    "        latent_dim,\n",
    "        encoder_structure_config,\n",
    "        decoder_structure_config,\n",
    "        loss_structure_config,\n",
    "        optimizer='Adam',\n",
    "        batch_size=256,\n",
    "        num_epochs=25,\n",
    "        learning_rate=0.05,\n",
    "    )\n",
    "elif DATA_SET == 'kddcup_neptune':\n",
    "    anomaly_ratio = 0.2\n",
    "    ae_model = Model(\n",
    "        DEVICE,\n",
    "        latent_dim,\n",
    "        encoder_structure_config,\n",
    "        decoder_structure_config,\n",
    "        loss_structure_config,\n",
    "        optimizer='Adam',\n",
    "        batch_size=256,\n",
    "        num_epochs=25,\n",
    "        learning_rate=0.001,\n",
    "        \n",
    "    )\n",
    "\n",
    "\n",
    "elif DATA_SET == 'nsl_kdd':\n",
    "    anomaly_ratio = 0.1\n",
    "    ae_model = Model(\n",
    "        DEVICE,\n",
    "        latent_dim,\n",
    "        encoder_structure_config,\n",
    "        decoder_structure_config,\n",
    "        loss_structure_config,\n",
    "        optimizer='Adam',\n",
    "        batch_size=256,\n",
    "        num_epochs=20,\n",
    "        learning_rate=0.0005,\n",
    "    )\n",
    "\n",
    "elif DATA_SET == 'nb15':\n",
    "    anomaly_ratio = 0.1\n",
    "    ae_model = Model(\n",
    "        DEVICE,\n",
    "        latent_dim,\n",
    "        encoder_structure_config,\n",
    "        decoder_structure_config,\n",
    "        loss_structure_config,\n",
    "        optimizer='Adam',\n",
    "        batch_size=128,\n",
    "        num_epochs=25,\n",
    "        learning_rate=0.001,\n",
    "        \n",
    "    )"
   ]
  },
  {
   "cell_type": "code",
   "execution_count": 33,
   "metadata": {},
   "outputs": [
    {
     "name": "stdout",
     "output_type": "stream",
     "text": [
      "model_FAER(\n",
      "  (ae_module): AE(\n",
      "    (encoder): AE_encoder(\n",
      "      (input_x_form_layers): ModuleList(\n",
      "        (0): Sequential(\n",
      "          (0): Linear(in_features=133, out_features=10, bias=True)\n",
      "          (1): Identity()\n",
      "        )\n",
      "        (1): Identity()\n",
      "        (2): Identity()\n",
      "        (3): Identity()\n",
      "        (4): Identity()\n",
      "        (5): Sequential(\n",
      "          (0): Linear(in_features=37, out_features=16, bias=True)\n",
      "          (1): Tanh()\n",
      "        )\n",
      "      )\n",
      "      (FC_z): Sequential(\n",
      "        (0): Linear(in_features=50, out_features=32, bias=True)\n",
      "        (1): Dropout(p=0.1, inplace=False)\n",
      "        (2): Tanh()\n",
      "        (3): Linear(in_features=32, out_features=16, bias=True)\n",
      "        (4): Dropout(p=0.1, inplace=False)\n",
      "        (5): Tanh()\n",
      "        (6): Linear(in_features=16, out_features=8, bias=True)\n",
      "        (7): Dropout(p=0.1, inplace=False)\n",
      "        (8): Tanh()\n",
      "      )\n",
      "    )\n",
      "    (decoder): AE_decoder(\n",
      "      (FC_z): Sequential(\n",
      "        (0): Linear(in_features=8, out_features=16, bias=True)\n",
      "        (1): Dropout(p=0.1, inplace=False)\n",
      "        (2): Tanh()\n",
      "        (3): Linear(in_features=16, out_features=32, bias=True)\n",
      "        (4): Dropout(p=0.1, inplace=False)\n",
      "        (5): Tanh()\n",
      "        (6): Linear(in_features=32, out_features=194, bias=True)\n",
      "        (7): Sigmoid()\n",
      "      )\n",
      "    )\n",
      "  )\n",
      "  (ae_loss_module): AE_loss_module()\n",
      ")\n"
     ]
    }
   ],
   "source": [
    "print(ae_model.network_module)"
   ]
  },
  {
   "cell_type": "code",
   "execution_count": 34,
   "metadata": {},
   "outputs": [
    {
     "name": "stdout",
     "output_type": "stream",
     "text": [
      "Size:  train_df 39200 , test_df 16800, anomaly data 5009, Req anomalies 1680\n"
     ]
    }
   ],
   "source": [
    "num_anomaly_sets = 5\n",
    "data_dict, _ = data_fetcher.get_data(\n",
    "    DATA_SET,\n",
    "    one_hot=True,\n",
    "    num_anom_sets= num_anomaly_sets,\n",
    "    anomaly_ratio= anomaly_ratio\n",
    ")\n",
    "\n",
    "train_df = data_dict['train']\n",
    "train_X = train_df.values"
   ]
  },
  {
   "cell_type": "code",
   "execution_count": 35,
   "metadata": {
    "scrolled": true
   },
   "outputs": [
    {
     "name": "stderr",
     "output_type": "stream",
     "text": [
      "  0%|          | 0/25 [00:00<?, ?it/s]"
     ]
    },
    {
     "name": "stdout",
     "output_type": "stream",
     "text": [
      " Epoch 1 Batch 0 Loss 155.0358 \n",
      " Epoch 1 Batch 100 Loss 113.7062 \n",
      " Epoch 1 Batch 200 Loss 109.6203 \n"
     ]
    },
    {
     "name": "stderr",
     "output_type": "stream",
     "text": [
      "  4%|▍         | 1/25 [00:02<00:53,  2.23s/it]"
     ]
    },
    {
     "name": "stdout",
     "output_type": "stream",
     "text": [
      " Epoch 1 Batch 300 Loss 109.2864 \n",
      "Epoch loss :: 117.9725\n",
      " Epoch 2 Batch 0 Loss 109.2134 \n",
      " Epoch 2 Batch 100 Loss 109.1133 \n",
      " Epoch 2 Batch 200 Loss 109.0399 \n"
     ]
    },
    {
     "name": "stderr",
     "output_type": "stream",
     "text": [
      "  8%|▊         | 2/25 [00:04<00:48,  2.13s/it]"
     ]
    },
    {
     "name": "stdout",
     "output_type": "stream",
     "text": [
      " Epoch 2 Batch 300 Loss 109.1054 \n",
      "Epoch loss :: 109.043976\n",
      " Epoch 3 Batch 0 Loss 108.9168 \n",
      " Epoch 3 Batch 100 Loss 108.8947 \n",
      " Epoch 3 Batch 200 Loss 108.7567 \n"
     ]
    },
    {
     "name": "stderr",
     "output_type": "stream",
     "text": [
      " 12%|█▏        | 3/25 [00:06<00:46,  2.09s/it]"
     ]
    },
    {
     "name": "stdout",
     "output_type": "stream",
     "text": [
      " Epoch 3 Batch 300 Loss 108.8892 \n",
      "Epoch loss :: 108.94292\n",
      " Epoch 4 Batch 0 Loss 108.9003 \n",
      " Epoch 4 Batch 100 Loss 108.8741 \n",
      " Epoch 4 Batch 200 Loss 108.9069 \n"
     ]
    },
    {
     "name": "stderr",
     "output_type": "stream",
     "text": [
      " 16%|█▌        | 4/25 [00:08<00:42,  2.03s/it]"
     ]
    },
    {
     "name": "stdout",
     "output_type": "stream",
     "text": [
      " Epoch 4 Batch 300 Loss 108.9130 \n",
      "Epoch loss :: 108.91017\n",
      " Epoch 5 Batch 0 Loss 108.9331 \n",
      " Epoch 5 Batch 100 Loss 108.8823 \n",
      " Epoch 5 Batch 200 Loss 108.9312 \n"
     ]
    },
    {
     "name": "stderr",
     "output_type": "stream",
     "text": [
      " 20%|██        | 5/25 [00:10<00:43,  2.18s/it]"
     ]
    },
    {
     "name": "stdout",
     "output_type": "stream",
     "text": [
      " Epoch 5 Batch 300 Loss 108.9279 \n",
      "Epoch loss :: 108.894775\n",
      " Epoch 6 Batch 0 Loss 108.7848 \n",
      " Epoch 6 Batch 100 Loss 108.9308 \n",
      " Epoch 6 Batch 200 Loss 108.9332 \n"
     ]
    },
    {
     "name": "stderr",
     "output_type": "stream",
     "text": [
      " 24%|██▍       | 6/25 [00:12<00:41,  2.17s/it]"
     ]
    },
    {
     "name": "stdout",
     "output_type": "stream",
     "text": [
      " Epoch 6 Batch 300 Loss 108.8020 \n",
      "Epoch loss :: 108.886284\n",
      " Epoch 7 Batch 0 Loss 108.8567 \n",
      " Epoch 7 Batch 100 Loss 108.9546 \n",
      " Epoch 7 Batch 200 Loss 108.8566 \n"
     ]
    },
    {
     "name": "stderr",
     "output_type": "stream",
     "text": [
      " 28%|██▊       | 7/25 [00:14<00:38,  2.12s/it]"
     ]
    },
    {
     "name": "stdout",
     "output_type": "stream",
     "text": [
      " Epoch 7 Batch 300 Loss 108.9976 \n",
      "Epoch loss :: 108.88022\n",
      " Epoch 8 Batch 0 Loss 108.9653 \n",
      " Epoch 8 Batch 100 Loss 108.9485 \n",
      " Epoch 8 Batch 200 Loss 108.9078 \n"
     ]
    },
    {
     "name": "stderr",
     "output_type": "stream",
     "text": [
      " 32%|███▏      | 8/25 [00:16<00:35,  2.10s/it]"
     ]
    },
    {
     "name": "stdout",
     "output_type": "stream",
     "text": [
      " Epoch 8 Batch 300 Loss 108.8239 \n",
      "Epoch loss :: 108.877815\n",
      " Epoch 9 Batch 0 Loss 108.9087 \n",
      " Epoch 9 Batch 100 Loss 108.8328 \n",
      " Epoch 9 Batch 200 Loss 108.7701 \n"
     ]
    },
    {
     "name": "stderr",
     "output_type": "stream",
     "text": [
      " 36%|███▌      | 9/25 [00:18<00:33,  2.09s/it]"
     ]
    },
    {
     "name": "stdout",
     "output_type": "stream",
     "text": [
      " Epoch 9 Batch 300 Loss 108.8347 \n",
      "Epoch loss :: 108.874596\n",
      " Epoch 10 Batch 0 Loss 108.8971 \n",
      " Epoch 10 Batch 100 Loss 108.8688 \n",
      " Epoch 10 Batch 200 Loss 108.9147 \n"
     ]
    },
    {
     "name": "stderr",
     "output_type": "stream",
     "text": [
      " 40%|████      | 10/25 [00:21<00:32,  2.14s/it]"
     ]
    },
    {
     "name": "stdout",
     "output_type": "stream",
     "text": [
      " Epoch 10 Batch 300 Loss 108.8724 \n",
      "Epoch loss :: 108.87207\n",
      " Epoch 11 Batch 0 Loss 108.8784 \n",
      " Epoch 11 Batch 100 Loss 108.7905 \n",
      " Epoch 11 Batch 200 Loss 108.8564 \n"
     ]
    },
    {
     "name": "stderr",
     "output_type": "stream",
     "text": [
      " 44%|████▍     | 11/25 [00:23<00:29,  2.11s/it]"
     ]
    },
    {
     "name": "stdout",
     "output_type": "stream",
     "text": [
      " Epoch 11 Batch 300 Loss 108.9507 \n",
      "Epoch loss :: 108.87062\n",
      " Epoch 12 Batch 0 Loss 108.8856 \n",
      " Epoch 12 Batch 100 Loss 109.0498 \n",
      " Epoch 12 Batch 200 Loss 108.9250 \n"
     ]
    },
    {
     "name": "stderr",
     "output_type": "stream",
     "text": [
      " 48%|████▊     | 12/25 [00:25<00:27,  2.10s/it]"
     ]
    },
    {
     "name": "stdout",
     "output_type": "stream",
     "text": [
      " Epoch 12 Batch 300 Loss 108.8308 \n",
      "Epoch loss :: 108.86955\n",
      " Epoch 13 Batch 0 Loss 108.9158 \n",
      " Epoch 13 Batch 100 Loss 108.7862 \n",
      " Epoch 13 Batch 200 Loss 108.7710 \n"
     ]
    },
    {
     "name": "stderr",
     "output_type": "stream",
     "text": [
      " 52%|█████▏    | 13/25 [00:27<00:25,  2.13s/it]"
     ]
    },
    {
     "name": "stdout",
     "output_type": "stream",
     "text": [
      " Epoch 13 Batch 300 Loss 108.7574 \n",
      "Epoch loss :: 108.86944\n",
      " Epoch 14 Batch 0 Loss 108.8092 \n",
      " Epoch 14 Batch 100 Loss 108.9166 \n",
      " Epoch 14 Batch 200 Loss 108.8801 \n"
     ]
    },
    {
     "name": "stderr",
     "output_type": "stream",
     "text": [
      " 56%|█████▌    | 14/25 [00:29<00:22,  2.07s/it]"
     ]
    },
    {
     "name": "stdout",
     "output_type": "stream",
     "text": [
      " Epoch 14 Batch 300 Loss 108.8718 \n",
      "Epoch loss :: 108.86907\n",
      " Epoch 15 Batch 0 Loss 108.9248 \n",
      " Epoch 15 Batch 100 Loss 108.7727 \n",
      " Epoch 15 Batch 200 Loss 108.8631 \n"
     ]
    },
    {
     "name": "stderr",
     "output_type": "stream",
     "text": [
      " 60%|██████    | 15/25 [00:31<00:20,  2.01s/it]"
     ]
    },
    {
     "name": "stdout",
     "output_type": "stream",
     "text": [
      " Epoch 15 Batch 300 Loss 108.8158 \n",
      "Epoch loss :: 108.868484\n",
      " Epoch 16 Batch 0 Loss 108.8454 \n",
      " Epoch 16 Batch 100 Loss 108.7874 \n",
      " Epoch 16 Batch 200 Loss 108.9411 \n"
     ]
    },
    {
     "name": "stderr",
     "output_type": "stream",
     "text": [
      " 64%|██████▍   | 16/25 [00:33<00:17,  1.96s/it]"
     ]
    },
    {
     "name": "stdout",
     "output_type": "stream",
     "text": [
      " Epoch 16 Batch 300 Loss 109.0242 \n",
      "Epoch loss :: 108.867546\n",
      " Epoch 17 Batch 0 Loss 108.7530 \n",
      " Epoch 17 Batch 100 Loss 108.8025 \n",
      " Epoch 17 Batch 200 Loss 108.7910 \n"
     ]
    },
    {
     "name": "stderr",
     "output_type": "stream",
     "text": [
      " 68%|██████▊   | 17/25 [00:34<00:15,  1.93s/it]"
     ]
    },
    {
     "name": "stdout",
     "output_type": "stream",
     "text": [
      " Epoch 17 Batch 300 Loss 108.9432 \n",
      "Epoch loss :: 108.867226\n",
      " Epoch 18 Batch 0 Loss 109.0247 \n",
      " Epoch 18 Batch 100 Loss 108.8996 \n",
      " Epoch 18 Batch 200 Loss 108.9381 \n"
     ]
    },
    {
     "name": "stderr",
     "output_type": "stream",
     "text": [
      " 72%|███████▏  | 18/25 [00:36<00:13,  1.91s/it]"
     ]
    },
    {
     "name": "stdout",
     "output_type": "stream",
     "text": [
      " Epoch 18 Batch 300 Loss 108.7816 \n",
      "Epoch loss :: 108.867035\n",
      " Epoch 19 Batch 0 Loss 108.9873 \n",
      " Epoch 19 Batch 100 Loss 108.8891 \n",
      " Epoch 19 Batch 200 Loss 108.7691 \n"
     ]
    },
    {
     "name": "stderr",
     "output_type": "stream",
     "text": [
      " 76%|███████▌  | 19/25 [00:38<00:11,  1.90s/it]"
     ]
    },
    {
     "name": "stdout",
     "output_type": "stream",
     "text": [
      " Epoch 19 Batch 300 Loss 108.8180 \n",
      "Epoch loss :: 108.866905\n",
      " Epoch 20 Batch 0 Loss 108.8675 \n",
      " Epoch 20 Batch 100 Loss 108.8716 \n",
      " Epoch 20 Batch 200 Loss 108.7686 \n"
     ]
    },
    {
     "name": "stderr",
     "output_type": "stream",
     "text": [
      " 80%|████████  | 20/25 [00:40<00:09,  1.89s/it]"
     ]
    },
    {
     "name": "stdout",
     "output_type": "stream",
     "text": [
      " Epoch 20 Batch 300 Loss 108.8771 \n",
      "Epoch loss :: 108.86627\n",
      " Epoch 21 Batch 0 Loss 108.8608 \n",
      " Epoch 21 Batch 100 Loss 108.9034 \n",
      " Epoch 21 Batch 200 Loss 108.9127 \n"
     ]
    },
    {
     "name": "stderr",
     "output_type": "stream",
     "text": [
      " 84%|████████▍ | 21/25 [00:42<00:07,  1.88s/it]"
     ]
    },
    {
     "name": "stdout",
     "output_type": "stream",
     "text": [
      " Epoch 21 Batch 300 Loss 108.9304 \n",
      "Epoch loss :: 108.86637\n",
      " Epoch 22 Batch 0 Loss 108.8765 \n",
      " Epoch 22 Batch 100 Loss 108.8447 \n",
      " Epoch 22 Batch 200 Loss 108.8958 \n"
     ]
    },
    {
     "name": "stderr",
     "output_type": "stream",
     "text": [
      " 88%|████████▊ | 22/25 [00:44<00:05,  1.87s/it]"
     ]
    },
    {
     "name": "stdout",
     "output_type": "stream",
     "text": [
      " Epoch 22 Batch 300 Loss 108.9000 \n",
      "Epoch loss :: 108.86589\n",
      " Epoch 23 Batch 0 Loss 108.9900 \n",
      " Epoch 23 Batch 100 Loss 108.8200 \n",
      " Epoch 23 Batch 200 Loss 108.8591 \n"
     ]
    },
    {
     "name": "stderr",
     "output_type": "stream",
     "text": [
      " 92%|█████████▏| 23/25 [00:46<00:03,  1.87s/it]"
     ]
    },
    {
     "name": "stdout",
     "output_type": "stream",
     "text": [
      " Epoch 23 Batch 300 Loss 108.8000 \n",
      "Epoch loss :: 108.86738\n",
      " Epoch 24 Batch 0 Loss 108.9961 \n",
      " Epoch 24 Batch 100 Loss 109.1121 \n",
      " Epoch 24 Batch 200 Loss 108.7776 \n"
     ]
    },
    {
     "name": "stderr",
     "output_type": "stream",
     "text": [
      " 96%|█████████▌| 24/25 [00:48<00:01,  1.91s/it]"
     ]
    },
    {
     "name": "stdout",
     "output_type": "stream",
     "text": [
      " Epoch 24 Batch 300 Loss 108.8076 \n",
      "Epoch loss :: 108.86566\n",
      " Epoch 25 Batch 0 Loss 108.8712 \n",
      " Epoch 25 Batch 100 Loss 108.8047 \n",
      " Epoch 25 Batch 200 Loss 108.7727 \n"
     ]
    },
    {
     "name": "stderr",
     "output_type": "stream",
     "text": [
      "100%|██████████| 25/25 [00:50<00:00,  2.01s/it]"
     ]
    },
    {
     "name": "stdout",
     "output_type": "stream",
     "text": [
      " Epoch 25 Batch 300 Loss 108.9819 \n",
      "Epoch loss :: 108.86641\n"
     ]
    },
    {
     "name": "stderr",
     "output_type": "stream",
     "text": [
      "\n"
     ]
    }
   ],
   "source": [
    "losses = ae_model.train_model(\n",
    "    train_X\n",
    ")"
   ]
  },
  {
   "cell_type": "code",
   "execution_count": null,
   "metadata": {},
   "outputs": [
    {
     "name": "stdout",
     "output_type": "stream",
     "text": [
      "0.99 0.19033862943347776 0.705952380952381 6231 1186\n",
      "0.98 0.19033862943347776 0.705952380952381 6231 1186\n",
      "0.97 0.19033862943347776 0.705952380952381 6231 1186\n",
      "0.96 0.19033862943347776 0.705952380952381 6231 1186\n",
      "0.95 0.19033862943347776 0.705952380952381 6231 1186\n",
      "0.94 0.19033862943347776 0.705952380952381 6231 1186\n",
      "0.93 0.19033862943347776 0.705952380952381 6231 1186\n",
      "0.92 0.19033862943347776 0.705952380952381 6231 1186\n",
      "0.91 0.19033862943347776 0.705952380952381 6231 1186\n",
      "0.9 0.19033862943347776 0.705952380952381 6231 1186\n",
      "0.89 0.19033862943347776 0.705952380952381 6231 1186\n",
      "0.88 0.19033862943347776 0.705952380952381 6231 1186\n",
      "0.87 0.19033862943347776 0.705952380952381 6231 1186\n",
      "0.86 0.19033862943347776 0.705952380952381 6231 1186\n",
      "0.85 0.19033862943347776 0.705952380952381 6231 1186\n",
      "0.84 0.19033862943347776 0.705952380952381 6231 1186\n",
      "0.83 0.19033862943347776 0.705952380952381 6231 1186\n",
      "0.82 0.19033862943347776 0.705952380952381 6231 1186\n",
      "0.81 0.19033862943347776 0.705952380952381 6231 1186\n",
      "0.8 0.19033862943347776 0.705952380952381 6231 1186\n",
      "0.79 0.19033862943347776 0.705952380952381 6231 1186\n",
      "0.78 0.19033862943347776 0.705952380952381 6231 1186\n",
      "0.77 0.19033862943347776 0.705952380952381 6231 1186\n",
      "0.76 0.19033862943347776 0.705952380952381 6231 1186\n",
      "0.75 0.19033862943347776 0.705952380952381 6231 1186\n",
      "0.74 0.19033862943347776 0.705952380952381 6231 1186\n",
      "0.73 0.19033862943347776 0.705952380952381 6231 1186\n",
      "0.72 0.19033862943347776 0.705952380952381 6231 1186\n",
      "0.71 0.19033862943347776 0.705952380952381 6231 1186\n",
      "0.7 0.19033862943347776 0.705952380952381 6231 1186\n",
      "0.69 0.19033862943347776 0.705952380952381 6231 1186\n",
      "0.68 0.19033862943347776 0.705952380952381 6231 1186\n",
      "0.67 0.19033862943347776 0.705952380952381 6231 1186\n",
      "0.66 0.19033862943347776 0.705952380952381 6231 1186\n",
      "0.65 0.19033862943347776 0.705952380952381 6231 1186\n",
      "0.64 0.19033862943347776 0.705952380952381 6231 1186\n",
      "0.63 0.19033862943347776 0.705952380952381 6231 1186\n",
      "0.62 0.19033862943347776 0.705952380952381 6231 1186\n",
      "0.61 0.19033862943347776 0.705952380952381 6231 1186\n",
      "0.6 0.19033862943347776 0.705952380952381 6231 1186\n",
      "0.59 0.19033862943347776 0.705952380952381 6231 1186\n",
      "0.58 0.19033862943347776 0.705952380952381 6231 1186\n",
      "0.57 0.19033862943347776 0.705952380952381 6231 1186\n",
      "0.56 0.19033862943347776 0.705952380952381 6231 1186\n",
      "0.55 0.19033862943347776 0.705952380952381 6231 1186\n",
      "0.54 0.19033862943347776 0.705952380952381 6231 1186\n",
      "0.53 0.19033862943347776 0.705952380952381 6231 1186\n",
      "0.52 0.19033862943347776 0.705952380952381 6231 1186\n",
      "0.51 0.19033862943347776 0.705952380952381 6231 1186\n",
      "0.5 0.19033862943347776 0.705952380952381 6231 1186\n",
      "0.49 0.19033862943347776 0.705952380952381 6231 1186\n",
      "0.48 0.19033862943347776 0.705952380952381 6231 1186\n",
      "0.47 0.19033862943347776 0.705952380952381 6231 1186\n",
      "0.46 0.19033862943347776 0.705952380952381 6231 1186\n",
      "0.45 0.19033862943347776 0.705952380952381 6231 1186\n",
      "0.44 0.19033862943347776 0.705952380952381 6231 1186\n",
      "0.43 0.19033862943347776 0.705952380952381 6231 1186\n",
      "0.42 0.19033862943347776 0.705952380952381 6231 1186\n",
      "0.41 0.19033862943347776 0.705952380952381 6231 1186\n",
      "0.4 0.19033862943347776 0.705952380952381 6231 1186\n",
      "0.39 0.19033862943347776 0.705952380952381 6231 1186\n",
      "0.38 0.19033862943347776 0.705952380952381 6231 1186\n",
      "0.37 0.19033862943347776 0.705952380952381 6231 1186\n",
      "0.36 0.19033862943347776 0.705952380952381 6231 1186\n",
      "0.35 0.19033862943347776 0.705952380952381 6231 1186\n",
      "0.34 0.19033862943347776 0.705952380952381 6231 1186\n",
      "0.33 0.19033862943347776 0.705952380952381 6231 1186\n",
      "0.32 0.19033862943347776 0.705952380952381 6231 1186\n",
      "0.31 0.19033862943347776 0.705952380952381 6231 1186\n",
      "0.3 0.19033862943347776 0.705952380952381 6231 1186\n",
      "0.29 0.19033862943347776 0.705952380952381 6231 1186\n",
      "0.28 0.19033862943347776 0.705952380952381 6231 1186\n",
      "0.27 0.19033862943347776 0.705952380952381 6231 1186\n",
      "0.26 0.19033862943347776 0.705952380952381 6231 1186\n",
      "0.25 0.19033862943347776 0.705952380952381 6231 1186\n",
      "0.24 0.19033862943347776 0.705952380952381 6231 1186\n",
      "0.23 0.19033862943347776 0.705952380952381 6231 1186\n",
      "0.22 0.19033862943347776 0.705952380952381 6231 1186\n",
      "0.21 0.19033862943347776 0.705952380952381 6231 1186\n",
      "0.2 0.19033862943347776 0.705952380952381 6231 1186\n",
      "0.19 0.19033862943347776 0.705952380952381 6231 1186\n",
      "0.18 0.19033862943347776 0.705952380952381 6231 1186\n",
      "0.17 0.19033862943347776 0.705952380952381 6231 1186\n",
      "0.16 0.19033862943347776 0.705952380952381 6231 1186\n",
      "0.15 0.19033862943347776 0.705952380952381 6231 1186\n",
      "0.14 0.19033862943347776 0.705952380952381 6231 1186\n",
      "0.13 0.19033862943347776 0.705952380952381 6231 1186\n",
      "0.12 0.19033862943347776 0.705952380952381 6231 1186\n",
      "0.11 0.19033862943347776 0.705952380952381 6231 1186\n",
      "0.1 0.19033862943347776 0.705952380952381 6231 1186\n",
      "0.09 0.19033862943347776 0.705952380952381 6231 1186\n",
      "0.08 0.19033862943347776 0.705952380952381 6231 1186\n",
      "0.07 0.19033862943347776 0.705952380952381 6231 1186\n",
      "0.06 0.19033862943347776 0.705952380952381 6231 1186\n",
      "0.05 0.19033862943347776 0.705952380952381 6231 1186\n",
      "0.04 0.19033862943347776 0.705952380952381 6231 1186\n",
      "0.03 0.19033862943347776 0.705952380952381 6231 1186\n",
      "0.02 0.19033862943347776 0.705952380952381 6231 1186\n",
      "0.01 0.19033862943347776 0.705952380952381 6231 1186\n",
      "0.0 0.09090909090909091 1.0 18480 1680\n"
     ]
    },
    {
     "data": {
      "image/png": "[encoded data removed]",
      "text/plain": [
       "<Figure size 432x288 with 1 Axes>"
      ]
     },
     "metadata": {
      "needs_background": "light"
     },
     "output_type": "display_data"
    },
    {
     "data": {
      "image/png": "[encoded data removed]",
      "text/plain": [
       "<Figure size 576x432 with 1 Axes>"
      ]
     },
     "metadata": {
      "needs_background": "light"
     },
     "output_type": "display_data"
    },
    {
     "name": "stdout",
     "output_type": "stream",
     "text": [
      "AUC : 0.1757 \n",
      "0.99 0.18405304868186964 0.6773809523809524 6183 1138\n",
      "0.98 0.18405304868186964 0.6773809523809524 6183 1138\n",
      "0.97 0.18405304868186964 0.6773809523809524 6183 1138\n",
      "0.96 0.18405304868186964 0.6773809523809524 6183 1138\n",
      "0.95 0.18405304868186964 0.6773809523809524 6183 1138\n",
      "0.94 0.18405304868186964 0.6773809523809524 6183 1138\n",
      "0.93 0.18405304868186964 0.6773809523809524 6183 1138\n",
      "0.92 0.18405304868186964 0.6773809523809524 6183 1138\n",
      "0.91 0.18405304868186964 0.6773809523809524 6183 1138\n",
      "0.9 0.18405304868186964 0.6773809523809524 6183 1138\n",
      "0.89 0.18405304868186964 0.6773809523809524 6183 1138\n",
      "0.88 0.18405304868186964 0.6773809523809524 6183 1138\n",
      "0.87 0.18405304868186964 0.6773809523809524 6183 1138\n",
      "0.86 0.18405304868186964 0.6773809523809524 6183 1138\n",
      "0.85 0.18405304868186964 0.6773809523809524 6183 1138\n",
      "0.84 0.18405304868186964 0.6773809523809524 6183 1138\n",
      "0.83 0.18405304868186964 0.6773809523809524 6183 1138\n",
      "0.82 0.18405304868186964 0.6773809523809524 6183 1138\n",
      "0.81 0.18405304868186964 0.6773809523809524 6183 1138\n",
      "0.8 0.18405304868186964 0.6773809523809524 6183 1138\n",
      "0.79 0.18405304868186964 0.6773809523809524 6183 1138\n",
      "0.78 0.18405304868186964 0.6773809523809524 6183 1138\n",
      "0.77 0.18405304868186964 0.6773809523809524 6183 1138\n",
      "0.76 0.18405304868186964 0.6773809523809524 6183 1138\n",
      "0.75 0.18405304868186964 0.6773809523809524 6183 1138\n",
      "0.74 0.18405304868186964 0.6773809523809524 6183 1138\n",
      "0.73 0.18405304868186964 0.6773809523809524 6183 1138\n",
      "0.72 0.18405304868186964 0.6773809523809524 6183 1138\n",
      "0.71 0.18405304868186964 0.6773809523809524 6183 1138\n",
      "0.7 0.18405304868186964 0.6773809523809524 6183 1138\n",
      "0.69 0.18405304868186964 0.6773809523809524 6183 1138\n",
      "0.68 0.18405304868186964 0.6773809523809524 6183 1138\n",
      "0.67 0.18405304868186964 0.6773809523809524 6183 1138\n",
      "0.66 0.18405304868186964 0.6773809523809524 6183 1138\n",
      "0.65 0.18405304868186964 0.6773809523809524 6183 1138\n",
      "0.64 0.18405304868186964 0.6773809523809524 6183 1138\n",
      "0.63 0.18405304868186964 0.6773809523809524 6183 1138\n",
      "0.62 0.18405304868186964 0.6773809523809524 6183 1138\n",
      "0.61 0.18405304868186964 0.6773809523809524 6183 1138\n",
      "0.6 0.18405304868186964 0.6773809523809524 6183 1138\n",
      "0.59 0.18405304868186964 0.6773809523809524 6183 1138\n",
      "0.58 0.18405304868186964 0.6773809523809524 6183 1138\n",
      "0.57 0.18405304868186964 0.6773809523809524 6183 1138\n",
      "0.56 0.18405304868186964 0.6773809523809524 6183 1138\n",
      "0.55 0.18405304868186964 0.6773809523809524 6183 1138\n",
      "0.54 0.18405304868186964 0.6773809523809524 6183 1138\n",
      "0.53 0.18405304868186964 0.6773809523809524 6183 1138\n",
      "0.52 0.18405304868186964 0.6773809523809524 6183 1138\n",
      "0.51 0.18405304868186964 0.6773809523809524 6183 1138\n",
      "0.5 0.18405304868186964 0.6773809523809524 6183 1138\n",
      "0.49 0.18405304868186964 0.6773809523809524 6183 1138\n",
      "0.48 0.18405304868186964 0.6773809523809524 6183 1138\n",
      "0.47 0.18405304868186964 0.6773809523809524 6183 1138\n",
      "0.46 0.18405304868186964 0.6773809523809524 6183 1138\n",
      "0.45 0.18405304868186964 0.6773809523809524 6183 1138\n",
      "0.44 0.18405304868186964 0.6773809523809524 6183 1138\n",
      "0.43 0.18405304868186964 0.6773809523809524 6183 1138\n",
      "0.42 0.18405304868186964 0.6773809523809524 6183 1138\n",
      "0.41 0.18405304868186964 0.6773809523809524 6183 1138\n",
      "0.4 0.18405304868186964 0.6773809523809524 6183 1138\n",
      "0.39 0.18405304868186964 0.6773809523809524 6183 1138\n",
      "0.38 0.18405304868186964 0.6773809523809524 6183 1138\n",
      "0.37 0.18405304868186964 0.6773809523809524 6183 1138\n",
      "0.36 0.18405304868186964 0.6773809523809524 6183 1138\n",
      "0.35 0.18405304868186964 0.6773809523809524 6183 1138\n",
      "0.34 0.18405304868186964 0.6773809523809524 6183 1138\n",
      "0.33 0.18405304868186964 0.6773809523809524 6183 1138\n",
      "0.32 0.18405304868186964 0.6773809523809524 6183 1138\n",
      "0.31 0.18405304868186964 0.6773809523809524 6183 1138\n",
      "0.3 0.18405304868186964 0.6773809523809524 6183 1138\n",
      "0.29 0.18405304868186964 0.6773809523809524 6183 1138\n",
      "0.28 0.18405304868186964 0.6773809523809524 6183 1138\n",
      "0.27 0.18405304868186964 0.6773809523809524 6183 1138\n",
      "0.26 0.18405304868186964 0.6773809523809524 6183 1138\n",
      "0.25 0.18405304868186964 0.6773809523809524 6183 1138\n",
      "0.24 0.18405304868186964 0.6773809523809524 6183 1138\n",
      "0.23 0.18405304868186964 0.6773809523809524 6183 1138\n",
      "0.22 0.18405304868186964 0.6773809523809524 6183 1138\n",
      "0.21 0.18405304868186964 0.6773809523809524 6183 1138\n",
      "0.2 0.18405304868186964 0.6773809523809524 6183 1138\n",
      "0.19 0.18405304868186964 0.6773809523809524 6183 1138\n",
      "0.18 0.18405304868186964 0.6773809523809524 6183 1138\n",
      "0.17 0.18405304868186964 0.6773809523809524 6183 1138\n",
      "0.16 0.18405304868186964 0.6773809523809524 6183 1138\n",
      "0.15 0.18405304868186964 0.6773809523809524 6183 1138\n",
      "0.14 0.18405304868186964 0.6773809523809524 6183 1138\n",
      "0.13 0.18405304868186964 0.6773809523809524 6183 1138\n",
      "0.12 0.18405304868186964 0.6773809523809524 6183 1138\n",
      "0.11 0.18405304868186964 0.6773809523809524 6183 1138\n",
      "0.1 0.18405304868186964 0.6773809523809524 6183 1138\n",
      "0.09 0.18405304868186964 0.6773809523809524 6183 1138\n",
      "0.08 0.18405304868186964 0.6773809523809524 6183 1138\n",
      "0.07 0.18405304868186964 0.6773809523809524 6183 1138\n",
      "0.06 0.18405304868186964 0.6773809523809524 6183 1138\n",
      "0.05 0.18405304868186964 0.6773809523809524 6183 1138\n",
      "0.04 0.18405304868186964 0.6773809523809524 6183 1138\n",
      "0.03 0.18405304868186964 0.6773809523809524 6183 1138\n",
      "0.02 0.18405304868186964 0.6773809523809524 6183 1138\n",
      "0.01 0.18405304868186964 0.6773809523809524 6183 1138\n",
      "0.0 0.09090909090909091 1.0 18480 1680\n"
     ]
    },
    {
     "data": {
      "image/png": "[encoded data removed]",
      "text/plain": [
       "<Figure size 432x288 with 1 Axes>"
      ]
     },
     "metadata": {
      "needs_background": "light"
     },
     "output_type": "display_data"
    },
    {
     "data": {
      "image/png": "[encoded data removed]",
      "text/plain": [
       "<Figure size 576x432 with 1 Axes>"
      ]
     },
     "metadata": {
      "needs_background": "light"
     },
     "output_type": "display_data"
    },
    {
     "name": "stdout",
     "output_type": "stream",
     "text": [
      "AUC : 0.1690 \n",
      "0.99 0.18629032258064515 0.6875 6200 1155\n",
      "0.98 0.18629032258064515 0.6875 6200 1155\n",
      "0.97 0.18629032258064515 0.6875 6200 1155\n",
      "0.96 0.18629032258064515 0.6875 6200 1155\n",
      "0.95 0.18629032258064515 0.6875 6200 1155\n",
      "0.94 0.18629032258064515 0.6875 6200 1155\n",
      "0.93 0.18629032258064515 0.6875 6200 1155\n",
      "0.92 0.18629032258064515 0.6875 6200 1155\n",
      "0.91 0.18629032258064515 0.6875 6200 1155\n",
      "0.9 0.18629032258064515 0.6875 6200 1155\n",
      "0.89 0.18629032258064515 0.6875 6200 1155\n",
      "0.88 0.18629032258064515 0.6875 6200 1155\n",
      "0.87 0.18629032258064515 0.6875 6200 1155\n",
      "0.86 0.18629032258064515 0.6875 6200 1155\n",
      "0.85 0.18629032258064515 0.6875 6200 1155\n",
      "0.84 0.18629032258064515 0.6875 6200 1155\n",
      "0.83 0.18629032258064515 0.6875 6200 1155\n",
      "0.82 0.18629032258064515 0.6875 6200 1155\n",
      "0.81 0.18629032258064515 0.6875 6200 1155\n",
      "0.8 0.18629032258064515 0.6875 6200 1155\n",
      "0.79 0.18629032258064515 0.6875 6200 1155\n",
      "0.78 0.18629032258064515 0.6875 6200 1155\n",
      "0.77 0.18629032258064515 0.6875 6200 1155\n",
      "0.76 0.18629032258064515 0.6875 6200 1155\n",
      "0.75 0.18629032258064515 0.6875 6200 1155\n",
      "0.74 0.18629032258064515 0.6875 6200 1155\n",
      "0.73 0.18629032258064515 0.6875 6200 1155\n",
      "0.72 0.18629032258064515 0.6875 6200 1155\n",
      "0.71 0.18629032258064515 0.6875 6200 1155\n",
      "0.7 0.18629032258064515 0.6875 6200 1155\n",
      "0.69 0.18629032258064515 0.6875 6200 1155\n",
      "0.68 0.18629032258064515 0.6875 6200 1155\n",
      "0.67 0.18629032258064515 0.6875 6200 1155\n",
      "0.66 0.18629032258064515 0.6875 6200 1155\n",
      "0.65 0.18629032258064515 0.6875 6200 1155\n",
      "0.64 0.18629032258064515 0.6875 6200 1155\n",
      "0.63 0.18629032258064515 0.6875 6200 1155\n",
      "0.62 0.18629032258064515 0.6875 6200 1155\n",
      "0.61 0.18629032258064515 0.6875 6200 1155\n",
      "0.6 0.18629032258064515 0.6875 6200 1155\n",
      "0.59 0.18629032258064515 0.6875 6200 1155\n",
      "0.58 0.18629032258064515 0.6875 6200 1155\n",
      "0.57 0.18629032258064515 0.6875 6200 1155\n",
      "0.56 0.18629032258064515 0.6875 6200 1155\n",
      "0.55 0.18629032258064515 0.6875 6200 1155\n",
      "0.54 0.18629032258064515 0.6875 6200 1155\n",
      "0.53 0.18629032258064515 0.6875 6200 1155\n",
      "0.52 0.18629032258064515 0.6875 6200 1155\n",
      "0.51 0.18629032258064515 0.6875 6200 1155\n",
      "0.5 0.18629032258064515 0.6875 6200 1155\n",
      "0.49 0.18629032258064515 0.6875 6200 1155\n",
      "0.48 0.18629032258064515 0.6875 6200 1155\n",
      "0.47 0.18629032258064515 0.6875 6200 1155\n",
      "0.46 0.18629032258064515 0.6875 6200 1155\n",
      "0.45 0.18629032258064515 0.6875 6200 1155\n",
      "0.44 0.18629032258064515 0.6875 6200 1155\n",
      "0.43 0.18629032258064515 0.6875 6200 1155\n",
      "0.42 0.18629032258064515 0.6875 6200 1155\n",
      "0.41 0.18629032258064515 0.6875 6200 1155\n",
      "0.4 0.18629032258064515 0.6875 6200 1155\n",
      "0.39 0.18629032258064515 0.6875 6200 1155\n",
      "0.38 0.18629032258064515 0.6875 6200 1155\n",
      "0.37 0.18629032258064515 0.6875 6200 1155\n",
      "0.36 0.18629032258064515 0.6875 6200 1155\n",
      "0.35 0.18629032258064515 0.6875 6200 1155\n",
      "0.34 0.18629032258064515 0.6875 6200 1155\n",
      "0.33 0.18629032258064515 0.6875 6200 1155\n",
      "0.32 0.18629032258064515 0.6875 6200 1155\n",
      "0.31 0.18629032258064515 0.6875 6200 1155\n",
      "0.3 0.18629032258064515 0.6875 6200 1155\n",
      "0.29 0.18629032258064515 0.6875 6200 1155\n",
      "0.28 0.18629032258064515 0.6875 6200 1155\n",
      "0.27 0.18629032258064515 0.6875 6200 1155\n",
      "0.26 0.18629032258064515 0.6875 6200 1155\n",
      "0.25 0.18629032258064515 0.6875 6200 1155\n",
      "0.24 0.18629032258064515 0.6875 6200 1155\n",
      "0.23 0.18629032258064515 0.6875 6200 1155\n",
      "0.22 0.18629032258064515 0.6875 6200 1155\n",
      "0.21 0.18629032258064515 0.6875 6200 1155\n",
      "0.2 0.18629032258064515 0.6875 6200 1155\n",
      "0.19 0.18629032258064515 0.6875 6200 1155\n",
      "0.18 0.18629032258064515 0.6875 6200 1155\n",
      "0.17 0.18629032258064515 0.6875 6200 1155\n",
      "0.16 0.18629032258064515 0.6875 6200 1155\n",
      "0.15 0.18629032258064515 0.6875 6200 1155\n",
      "0.14 0.18629032258064515 0.6875 6200 1155\n",
      "0.13 0.18629032258064515 0.6875 6200 1155\n",
      "0.12 0.18629032258064515 0.6875 6200 1155\n",
      "0.11 0.18629032258064515 0.6875 6200 1155\n",
      "0.1 0.18629032258064515 0.6875 6200 1155\n",
      "0.09 0.18629032258064515 0.6875 6200 1155\n",
      "0.08 0.18629032258064515 0.6875 6200 1155\n",
      "0.07 0.18629032258064515 0.6875 6200 1155\n",
      "0.06 0.18629032258064515 0.6875 6200 1155\n",
      "0.05 0.18629032258064515 0.6875 6200 1155\n",
      "0.04 0.18629032258064515 0.6875 6200 1155\n",
      "0.03 0.18629032258064515 0.6875 6200 1155\n",
      "0.02 0.18629032258064515 0.6875 6200 1155\n",
      "0.01 0.18629032258064515 0.6875 6200 1155\n",
      "0.0 0.09090909090909091 1.0 18480 1680\n"
     ]
    },
    {
     "data": {
      "image/png": "[encoded data removed]",
      "text/plain": [
       "<Figure size 432x288 with 1 Axes>"
      ]
     },
     "metadata": {
      "needs_background": "light"
     },
     "output_type": "display_data"
    },
    {
     "data": {
      "image/png": "[encoded data removed]",
      "text/plain": [
       "<Figure size 576x432 with 1 Axes>"
      ]
     },
     "metadata": {
      "needs_background": "light"
     },
     "output_type": "display_data"
    },
    {
     "name": "stdout",
     "output_type": "stream",
     "text": [
      "AUC : 0.1714 \n",
      "0.99 0.19267082733237317 0.7166666666666667 6249 1204\n",
      "0.98 0.19267082733237317 0.7166666666666667 6249 1204\n",
      "0.97 0.19267082733237317 0.7166666666666667 6249 1204\n",
      "0.96 0.19267082733237317 0.7166666666666667 6249 1204\n",
      "0.95 0.19267082733237317 0.7166666666666667 6249 1204\n",
      "0.94 0.19267082733237317 0.7166666666666667 6249 1204\n",
      "0.93 0.19267082733237317 0.7166666666666667 6249 1204\n",
      "0.92 0.19267082733237317 0.7166666666666667 6249 1204\n",
      "0.91 0.19267082733237317 0.7166666666666667 6249 1204\n",
      "0.9 0.19267082733237317 0.7166666666666667 6249 1204\n",
      "0.89 0.19267082733237317 0.7166666666666667 6249 1204\n",
      "0.88 0.19267082733237317 0.7166666666666667 6249 1204\n",
      "0.87 0.19267082733237317 0.7166666666666667 6249 1204\n",
      "0.86 0.19267082733237317 0.7166666666666667 6249 1204\n",
      "0.85 0.19267082733237317 0.7166666666666667 6249 1204\n",
      "0.84 0.19267082733237317 0.7166666666666667 6249 1204\n",
      "0.83 0.19267082733237317 0.7166666666666667 6249 1204\n",
      "0.82 0.19267082733237317 0.7166666666666667 6249 1204\n",
      "0.81 0.19267082733237317 0.7166666666666667 6249 1204\n",
      "0.8 0.19267082733237317 0.7166666666666667 6249 1204\n",
      "0.79 0.19267082733237317 0.7166666666666667 6249 1204\n",
      "0.78 0.19267082733237317 0.7166666666666667 6249 1204\n",
      "0.77 0.19267082733237317 0.7166666666666667 6249 1204\n",
      "0.76 0.19267082733237317 0.7166666666666667 6249 1204\n",
      "0.75 0.19267082733237317 0.7166666666666667 6249 1204\n",
      "0.74 0.19267082733237317 0.7166666666666667 6249 1204\n",
      "0.73 0.19267082733237317 0.7166666666666667 6249 1204\n",
      "0.72 0.19267082733237317 0.7166666666666667 6249 1204\n",
      "0.71 0.19267082733237317 0.7166666666666667 6249 1204\n",
      "0.7 0.19267082733237317 0.7166666666666667 6249 1204\n",
      "0.69 0.19267082733237317 0.7166666666666667 6249 1204\n",
      "0.68 0.19267082733237317 0.7166666666666667 6249 1204\n",
      "0.67 0.19267082733237317 0.7166666666666667 6249 1204\n",
      "0.66 0.19267082733237317 0.7166666666666667 6249 1204\n",
      "0.65 0.19267082733237317 0.7166666666666667 6249 1204\n",
      "0.64 0.19267082733237317 0.7166666666666667 6249 1204\n",
      "0.63 0.19267082733237317 0.7166666666666667 6249 1204\n",
      "0.62 0.19267082733237317 0.7166666666666667 6249 1204\n",
      "0.61 0.19267082733237317 0.7166666666666667 6249 1204\n",
      "0.6 0.19267082733237317 0.7166666666666667 6249 1204\n",
      "0.59 0.19267082733237317 0.7166666666666667 6249 1204\n",
      "0.58 0.19267082733237317 0.7166666666666667 6249 1204\n",
      "0.57 0.19267082733237317 0.7166666666666667 6249 1204\n",
      "0.56 0.19267082733237317 0.7166666666666667 6249 1204\n",
      "0.55 0.19267082733237317 0.7166666666666667 6249 1204\n",
      "0.54 0.19267082733237317 0.7166666666666667 6249 1204\n",
      "0.53 0.19267082733237317 0.7166666666666667 6249 1204\n",
      "0.52 0.19267082733237317 0.7166666666666667 6249 1204\n",
      "0.51 0.19267082733237317 0.7166666666666667 6249 1204\n",
      "0.5 0.19267082733237317 0.7166666666666667 6249 1204\n",
      "0.49 0.19267082733237317 0.7166666666666667 6249 1204\n",
      "0.48 0.19267082733237317 0.7166666666666667 6249 1204\n",
      "0.47 0.19267082733237317 0.7166666666666667 6249 1204\n",
      "0.46 0.19267082733237317 0.7166666666666667 6249 1204\n",
      "0.45 0.19267082733237317 0.7166666666666667 6249 1204\n",
      "0.44 0.19267082733237317 0.7166666666666667 6249 1204\n",
      "0.43 0.19267082733237317 0.7166666666666667 6249 1204\n",
      "0.42 0.19267082733237317 0.7166666666666667 6249 1204\n",
      "0.41 0.19267082733237317 0.7166666666666667 6249 1204\n",
      "0.4 0.19267082733237317 0.7166666666666667 6249 1204\n",
      "0.39 0.19267082733237317 0.7166666666666667 6249 1204\n",
      "0.38 0.19267082733237317 0.7166666666666667 6249 1204\n",
      "0.37 0.19267082733237317 0.7166666666666667 6249 1204\n",
      "0.36 0.19267082733237317 0.7166666666666667 6249 1204\n",
      "0.35 0.19267082733237317 0.7166666666666667 6249 1204\n",
      "0.34 0.19267082733237317 0.7166666666666667 6249 1204\n",
      "0.33 0.19267082733237317 0.7166666666666667 6249 1204\n",
      "0.32 0.19267082733237317 0.7166666666666667 6249 1204\n",
      "0.31 0.19267082733237317 0.7166666666666667 6249 1204\n",
      "0.3 0.19267082733237317 0.7166666666666667 6249 1204\n",
      "0.29 0.19267082733237317 0.7166666666666667 6249 1204\n",
      "0.28 0.19267082733237317 0.7166666666666667 6249 1204\n",
      "0.27 0.19267082733237317 0.7166666666666667 6249 1204\n",
      "0.26 0.19267082733237317 0.7166666666666667 6249 1204\n",
      "0.25 0.19267082733237317 0.7166666666666667 6249 1204\n",
      "0.24 0.19267082733237317 0.7166666666666667 6249 1204\n",
      "0.23 0.19267082733237317 0.7166666666666667 6249 1204\n",
      "0.22 0.19267082733237317 0.7166666666666667 6249 1204\n",
      "0.21 0.19267082733237317 0.7166666666666667 6249 1204\n",
      "0.2 0.19267082733237317 0.7166666666666667 6249 1204\n",
      "0.19 0.19267082733237317 0.7166666666666667 6249 1204\n",
      "0.18 0.19267082733237317 0.7166666666666667 6249 1204\n",
      "0.17 0.19267082733237317 0.7166666666666667 6249 1204\n",
      "0.16 0.19267082733237317 0.7166666666666667 6249 1204\n",
      "0.15 0.19267082733237317 0.7166666666666667 6249 1204\n",
      "0.14 0.19267082733237317 0.7166666666666667 6249 1204\n",
      "0.13 0.19267082733237317 0.7166666666666667 6249 1204\n",
      "0.12 0.19267082733237317 0.7166666666666667 6249 1204\n",
      "0.11 0.19267082733237317 0.7166666666666667 6249 1204\n",
      "0.1 0.19267082733237317 0.7166666666666667 6249 1204\n",
      "0.09 0.19267082733237317 0.7166666666666667 6249 1204\n",
      "0.08 0.19267082733237317 0.7166666666666667 6249 1204\n",
      "0.07 0.19267082733237317 0.7166666666666667 6249 1204\n",
      "0.06 0.19267082733237317 0.7166666666666667 6249 1204\n",
      "0.05 0.19267082733237317 0.7166666666666667 6249 1204\n",
      "0.04 0.19267082733237317 0.7166666666666667 6249 1204\n",
      "0.03 0.19267082733237317 0.7166666666666667 6249 1204\n",
      "0.02 0.19267082733237317 0.7166666666666667 6249 1204\n",
      "0.01 0.19267082733237317 0.7166666666666667 6249 1204\n",
      "0.0 0.09090909090909091 1.0 18480 1680\n"
     ]
    },
    {
     "data": {
      "image/png": "[encoded data removed]",
      "text/plain": [
       "<Figure size 432x288 with 1 Axes>"
      ]
     },
     "metadata": {
      "needs_background": "light"
     },
     "output_type": "display_data"
    },
    {
     "data": {
      "image/png": "[encoded data removed]",
      "text/plain": [
       "<Figure size 576x432 with 1 Axes>"
      ]
     },
     "metadata": {
      "needs_background": "light"
     },
     "output_type": "display_data"
    },
    {
     "name": "stdout",
     "output_type": "stream",
     "text": [
      "AUC : 0.1783 \n"
     ]
    }
   ],
   "source": [
    "test_norm_df = data_dict['test']\n",
    "test_norm_X = test_norm_df.values\n",
    "\n",
    "auc_list = []\n",
    "ae_model.mode = 'test'\n",
    "\n",
    "def _normalize_(val, _min, _max):\n",
    "    return (val - _min) / (_max - _min)\n",
    "\n",
    "for idx in range(1, num_anomaly_sets + 1):\n",
    "    key = 'anom_' + str(idx)\n",
    "    test_anom_df = data_dict[key]\n",
    "    test_anom_X = test_anom_df.values\n",
    "    x1 = test_norm_X\n",
    "    x2 = test_anom_X\n",
    "\n",
    "    x1_scores = ae_model.get_score(x1)\n",
    "    x2_scores = ae_model.get_score(x2)\n",
    "    \n",
    "    \n",
    "    plt.violinplot(x1_scores)\n",
    "    \n",
    "    \n",
    "    res_data = []\n",
    "    labels = [1 for _ in range(x1.shape[0])] + [0 for _ in range(x2.shape[0])]\n",
    "    _scores = np.concatenate([x1_scores, x2_scores], axis=0)\n",
    "    for i, j in zip(_scores, labels):\n",
    "        res_data.append((i[0], j))\n",
    "\n",
    "    res_df = pd.DataFrame(res_data, columns=['score', 'label'])\n",
    "    res_df = res_df.sort_values(by=['score'], ascending=False)\n",
    "\n",
    "    _max = max(res_df['score'])\n",
    "    _min = min(res_df['score'])\n",
    "\n",
    "    res_df['score'] = res_df['score'].parallel_apply(\n",
    "        _normalize_,\n",
    "        args=(_min, _max,)\n",
    "    )\n",
    "   \n",
    "    _max = max(res_df['score'])\n",
    "    _min = min(res_df['score'])\n",
    "\n",
    "    step = (_max - _min) / 100\n",
    "\n",
    "    # Vary the threshold\n",
    "    thresh = _max - step\n",
    "    thresh = round(thresh, 3)\n",
    "    num_anomalies = x2.shape[0]\n",
    "    P = []\n",
    "    R = [0]\n",
    "    while thresh >= _min :\n",
    "        sel = res_df.loc[res_df['score'] >= thresh]\n",
    "        if len(sel) == 0:\n",
    "            thresh -= step\n",
    "            continue\n",
    "\n",
    "        correct = sel.loc[sel['label'] == 0]\n",
    "\n",
    "        prec = len(correct) / len(sel)\n",
    "        rec = len(correct) / num_anomalies\n",
    "        print(thresh,prec,rec,  len(sel), len(correct))\n",
    "        P.append(prec)\n",
    "        R.append(rec)\n",
    "        thresh -= step\n",
    "        thresh = round(thresh, 3)\n",
    "\n",
    "    P = [P[0]] + P\n",
    "    pr_auc = auc(R, P)\n",
    "    try:\n",
    "        plt.figure(figsize=[8, 6])\n",
    "        plt.xlim([0.0,1.0])\n",
    "        plt.ylim([0.0,1.0])\n",
    "        plt.plot(R, P)\n",
    "        plt.title('Precision Recall Curve  || auPR :' + \"{:0.4f}\".format(pr_auc), fontsize=15)\n",
    "        plt.xlabel('Recall', fontsize=15)\n",
    "        plt.ylabel('Precision', fontsize=15)\n",
    "        plt.show()\n",
    "    except:\n",
    "        pass\n",
    "    print(\"AUC : {:0.4f} \".format(pr_auc))\n",
    "    auc_list.append(pr_auc)\n",
    "_mean = np.mean(auc_list)\n",
    "_std = np.std(auc_list)\n",
    "print(' Mean AUC {:0.4f} '.format(_mean))\n",
    "print(' AUC std {:0.4f} '.format(_std))"
   ]
  },
  {
   "cell_type": "code",
   "execution_count": null,
   "metadata": {},
   "outputs": [],
   "source": []
  },
  {
   "cell_type": "code",
   "execution_count": null,
   "metadata": {},
   "outputs": [],
   "source": []
  }
 ],
 "metadata": {
  "kernelspec": {
   "display_name": "Python 3",
   "language": "python",
   "name": "python3"
  },
  "language_info": {
   "codemirror_mode": {
    "name": "ipython",
    "version": 3
   },
   "file_extension": ".py",
   "mimetype": "text/x-python",
   "name": "python",
   "nbconvert_exporter": "python",
   "pygments_lexer": "ipython3",
   "version": "3.7.6"
  }
 },
 "nbformat": 4,
 "nbformat_minor": 4
}
