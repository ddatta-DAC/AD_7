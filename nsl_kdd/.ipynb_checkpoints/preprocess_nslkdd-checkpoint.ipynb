{
 "cells": [
  {
   "cell_type": "code",
   "execution_count": 1,
   "metadata": {},
   "outputs": [
    {
     "name": "stdout",
     "output_type": "stream",
     "text": [
      "INFO: Pandarallel will run on 40 workers.\n",
      "INFO: Pandarallel will use Memory file system to transfer data between the main process and workers.\n"
     ]
    }
   ],
   "source": [
    "import pandas as pd \n",
    "import os\n",
    "import numpy as np \n",
    "import sys\n",
    "sys.path.append('./../..')\n",
    "sys.path.append('./..')\n",
    "from tqdm import tqdm\n",
    "import multiprocessing\n",
    "from sklearn.preprocessing import StandardScaler\n",
    "from itertools import combinations\n",
    "from collections import Counter\n",
    "from pandarallel import pandarallel\n",
    "pandarallel.initialize()\n",
    "pd.set_option('display.max_columns', None)\n",
    "pd.set_option('display.max_rows', None)\n",
    "\n",
    "from sklearn.model_selection import train_test_split\n",
    "from common_utils import utils "
   ]
  },
  {
   "cell_type": "code",
   "execution_count": 2,
   "metadata": {},
   "outputs": [],
   "source": [
    "features_df = pd.read_csv('columns.csv')"
   ]
  },
  {
   "cell_type": "code",
   "execution_count": 3,
   "metadata": {},
   "outputs": [],
   "source": [
    "categorical_columns= []\n",
    "real_value_columns = []\n"
   ]
  },
  {
   "cell_type": "code",
   "execution_count": 4,
   "metadata": {},
   "outputs": [
    {
     "data": {
      "text/plain": [
       "43"
      ]
     },
     "execution_count": 4,
     "metadata": {},
     "output_type": "execute_result"
    }
   ],
   "source": [
    "len(features_df)"
   ]
  },
  {
   "cell_type": "code",
   "execution_count": 5,
   "metadata": {},
   "outputs": [],
   "source": [
    "for i,row in features_df.iterrows():\n",
    "    if row['type'] == 'real':\n",
    "        real_value_columns.append(row['attribute'])\n",
    "    elif row['type'] == 'categorical' or row['type'] == 'binary':\n",
    "        categorical_columns.append(row['attribute'])\n",
    "        "
   ]
  },
  {
   "cell_type": "code",
   "execution_count": 6,
   "metadata": {},
   "outputs": [
    {
     "data": {
      "text/plain": [
       "['duration',\n",
       " 'src_bytes',\n",
       " 'dst_bytes',\n",
       " 'wrong_fragment',\n",
       " 'urgent',\n",
       " 'hot',\n",
       " 'num_failed_logins',\n",
       " 'num_compromised',\n",
       " 'root_shell',\n",
       " 'su_attempted',\n",
       " 'num_root',\n",
       " 'num_file_creations',\n",
       " 'num_shells',\n",
       " 'num_access_files',\n",
       " 'num_outbound_cmds',\n",
       " 'count',\n",
       " 'srv_count',\n",
       " 'serror_rate',\n",
       " 'srv_serror_rate',\n",
       " 'rerror_rate',\n",
       " 'srv_rerror_rate',\n",
       " 'same_srv_rate',\n",
       " 'diff_srv_rate',\n",
       " 'srv_diff_host_rate',\n",
       " 'dst_host_count',\n",
       " 'dst_host_srv_count',\n",
       " 'dst_host_same_srv_rate',\n",
       " 'dst_host_diff_srv_rate',\n",
       " 'dst_host_same_src_port_rate',\n",
       " 'dst_host_srv_diff_host_rate',\n",
       " 'dst_host_serror_rate',\n",
       " 'dst_host_srv_serror_rate',\n",
       " 'dst_host_rerror_rate',\n",
       " 'dst_host_srv_rerror_rate']"
      ]
     },
     "execution_count": 6,
     "metadata": {},
     "output_type": "execute_result"
    }
   ],
   "source": [
    "real_value_columns"
   ]
  },
  {
   "cell_type": "code",
   "execution_count": 7,
   "metadata": {},
   "outputs": [],
   "source": [
    "cols = list(features_df['attribute'])"
   ]
  },
  {
   "cell_type": "code",
   "execution_count": 8,
   "metadata": {},
   "outputs": [
    {
     "data": {
      "text/plain": [
       "43"
      ]
     },
     "execution_count": 8,
     "metadata": {},
     "output_type": "execute_result"
    }
   ],
   "source": [
    "len(cols)"
   ]
  },
  {
   "cell_type": "code",
   "execution_count": null,
   "metadata": {},
   "outputs": [],
   "source": []
  },
  {
   "cell_type": "code",
   "execution_count": null,
   "metadata": {},
   "outputs": [],
   "source": []
  },
  {
   "cell_type": "code",
   "execution_count": 9,
   "metadata": {},
   "outputs": [],
   "source": [
    "df1 = pd.read_csv('KDDTest-21.txt',header=None,names=cols,index_col=None)\n"
   ]
  },
  {
   "cell_type": "code",
   "execution_count": 10,
   "metadata": {},
   "outputs": [
    {
     "data": {
      "text/plain": [
       "125973"
      ]
     },
     "execution_count": 10,
     "metadata": {},
     "output_type": "execute_result"
    }
   ],
   "source": [
    "df2 = pd.read_csv('KDDTrain+.txt',header=None,names=cols,index_col=None)\n",
    "len(df2)"
   ]
  },
  {
   "cell_type": "code",
   "execution_count": 11,
   "metadata": {},
   "outputs": [],
   "source": [
    "df = df1.append(df2,ignore_index=True)\n",
    "df = df.dropna()"
   ]
  },
  {
   "cell_type": "code",
   "execution_count": 12,
   "metadata": {},
   "outputs": [
    {
     "data": {
      "text/plain": [
       "Counter({'guess_passwd': 1284,\n",
       "         'snmpguess': 331,\n",
       "         'processtable': 685,\n",
       "         'normal': 69495,\n",
       "         'nmap': 1566,\n",
       "         'back': 1315,\n",
       "         'neptune': 42793,\n",
       "         'satan': 4360,\n",
       "         'saint': 309,\n",
       "         'mscan': 996,\n",
       "         'apache2': 737,\n",
       "         'httptunnel': 133,\n",
       "         'warezmaster': 964,\n",
       "         'ipsweep': 3740,\n",
       "         'smurf': 3273,\n",
       "         'mailbomb': 293,\n",
       "         'teardrop': 904,\n",
       "         'portsweep': 3087,\n",
       "         'snmpgetattack': 178,\n",
       "         'multihop': 25,\n",
       "         'worm': 2,\n",
       "         'land': 25,\n",
       "         'sendmail': 14,\n",
       "         'buffer_overflow': 50,\n",
       "         'pod': 242,\n",
       "         'rootkit': 23,\n",
       "         'xlock': 9,\n",
       "         'xterm': 13,\n",
       "         'xsnoop': 4,\n",
       "         'ps': 15,\n",
       "         'named': 17,\n",
       "         'ftp_write': 11,\n",
       "         'loadmodule': 11,\n",
       "         'phf': 6,\n",
       "         'udpstorm': 2,\n",
       "         'perl': 5,\n",
       "         'sqlattack': 2,\n",
       "         'imap': 12,\n",
       "         'warezclient': 890,\n",
       "         'spy': 2})"
      ]
     },
     "execution_count": 12,
     "metadata": {},
     "output_type": "execute_result"
    }
   ],
   "source": [
    "Counter(df['class'])"
   ]
  },
  {
   "cell_type": "code",
   "execution_count": 13,
   "metadata": {},
   "outputs": [
    {
     "data": {
      "text/html": [
       "<div>\n",
       "<style scoped>\n",
       "    .dataframe tbody tr th:only-of-type {\n",
       "        vertical-align: middle;\n",
       "    }\n",
       "\n",
       "    .dataframe tbody tr th {\n",
       "        vertical-align: top;\n",
       "    }\n",
       "\n",
       "    .dataframe thead th {\n",
       "        text-align: right;\n",
       "    }\n",
       "</style>\n",
       "<table border=\"1\" class=\"dataframe\">\n",
       "  <thead>\n",
       "    <tr style=\"text-align: right;\">\n",
       "      <th></th>\n",
       "      <th>duration</th>\n",
       "      <th>protocol_type</th>\n",
       "      <th>service</th>\n",
       "      <th>flag</th>\n",
       "      <th>src_bytes</th>\n",
       "      <th>dst_bytes</th>\n",
       "      <th>land</th>\n",
       "      <th>wrong_fragment</th>\n",
       "      <th>urgent</th>\n",
       "      <th>hot</th>\n",
       "      <th>num_failed_logins</th>\n",
       "      <th>logged_in</th>\n",
       "      <th>num_compromised</th>\n",
       "      <th>root_shell</th>\n",
       "      <th>su_attempted</th>\n",
       "      <th>num_root</th>\n",
       "      <th>num_file_creations</th>\n",
       "      <th>num_shells</th>\n",
       "      <th>num_access_files</th>\n",
       "      <th>num_outbound_cmds</th>\n",
       "      <th>is_host_login</th>\n",
       "      <th>is_guest_login</th>\n",
       "      <th>count</th>\n",
       "      <th>srv_count</th>\n",
       "      <th>serror_rate</th>\n",
       "      <th>srv_serror_rate</th>\n",
       "      <th>rerror_rate</th>\n",
       "      <th>srv_rerror_rate</th>\n",
       "      <th>same_srv_rate</th>\n",
       "      <th>diff_srv_rate</th>\n",
       "      <th>srv_diff_host_rate</th>\n",
       "      <th>dst_host_count</th>\n",
       "      <th>dst_host_srv_count</th>\n",
       "      <th>dst_host_same_srv_rate</th>\n",
       "      <th>dst_host_diff_srv_rate</th>\n",
       "      <th>dst_host_same_src_port_rate</th>\n",
       "      <th>dst_host_srv_diff_host_rate</th>\n",
       "      <th>dst_host_serror_rate</th>\n",
       "      <th>dst_host_srv_serror_rate</th>\n",
       "      <th>dst_host_rerror_rate</th>\n",
       "      <th>dst_host_srv_rerror_rate</th>\n",
       "      <th>class</th>\n",
       "      <th>label</th>\n",
       "    </tr>\n",
       "  </thead>\n",
       "  <tbody>\n",
       "    <tr>\n",
       "      <th>0</th>\n",
       "      <td>13</td>\n",
       "      <td>tcp</td>\n",
       "      <td>telnet</td>\n",
       "      <td>SF</td>\n",
       "      <td>118</td>\n",
       "      <td>2425</td>\n",
       "      <td>0</td>\n",
       "      <td>0</td>\n",
       "      <td>0</td>\n",
       "      <td>0</td>\n",
       "      <td>0</td>\n",
       "      <td>1</td>\n",
       "      <td>0</td>\n",
       "      <td>0</td>\n",
       "      <td>0</td>\n",
       "      <td>0</td>\n",
       "      <td>0</td>\n",
       "      <td>0</td>\n",
       "      <td>0</td>\n",
       "      <td>0</td>\n",
       "      <td>0</td>\n",
       "      <td>0</td>\n",
       "      <td>1</td>\n",
       "      <td>1</td>\n",
       "      <td>0.0</td>\n",
       "      <td>0.0</td>\n",
       "      <td>0.0</td>\n",
       "      <td>0.00</td>\n",
       "      <td>1.00</td>\n",
       "      <td>0.00</td>\n",
       "      <td>0.00</td>\n",
       "      <td>26</td>\n",
       "      <td>10</td>\n",
       "      <td>0.38</td>\n",
       "      <td>0.12</td>\n",
       "      <td>0.04</td>\n",
       "      <td>0.00</td>\n",
       "      <td>0.00</td>\n",
       "      <td>0.00</td>\n",
       "      <td>0.12</td>\n",
       "      <td>0.30</td>\n",
       "      <td>guess_passwd</td>\n",
       "      <td>2</td>\n",
       "    </tr>\n",
       "    <tr>\n",
       "      <th>1</th>\n",
       "      <td>0</td>\n",
       "      <td>udp</td>\n",
       "      <td>private</td>\n",
       "      <td>SF</td>\n",
       "      <td>44</td>\n",
       "      <td>0</td>\n",
       "      <td>0</td>\n",
       "      <td>0</td>\n",
       "      <td>0</td>\n",
       "      <td>0</td>\n",
       "      <td>0</td>\n",
       "      <td>0</td>\n",
       "      <td>0</td>\n",
       "      <td>0</td>\n",
       "      <td>0</td>\n",
       "      <td>0</td>\n",
       "      <td>0</td>\n",
       "      <td>0</td>\n",
       "      <td>0</td>\n",
       "      <td>0</td>\n",
       "      <td>0</td>\n",
       "      <td>0</td>\n",
       "      <td>4</td>\n",
       "      <td>3</td>\n",
       "      <td>0.0</td>\n",
       "      <td>0.0</td>\n",
       "      <td>0.0</td>\n",
       "      <td>0.00</td>\n",
       "      <td>0.75</td>\n",
       "      <td>0.50</td>\n",
       "      <td>0.00</td>\n",
       "      <td>255</td>\n",
       "      <td>254</td>\n",
       "      <td>1.00</td>\n",
       "      <td>0.01</td>\n",
       "      <td>0.01</td>\n",
       "      <td>0.00</td>\n",
       "      <td>0.00</td>\n",
       "      <td>0.00</td>\n",
       "      <td>0.00</td>\n",
       "      <td>0.00</td>\n",
       "      <td>snmpguess</td>\n",
       "      <td>12</td>\n",
       "    </tr>\n",
       "    <tr>\n",
       "      <th>2</th>\n",
       "      <td>0</td>\n",
       "      <td>tcp</td>\n",
       "      <td>telnet</td>\n",
       "      <td>S3</td>\n",
       "      <td>0</td>\n",
       "      <td>44</td>\n",
       "      <td>0</td>\n",
       "      <td>0</td>\n",
       "      <td>0</td>\n",
       "      <td>0</td>\n",
       "      <td>0</td>\n",
       "      <td>0</td>\n",
       "      <td>0</td>\n",
       "      <td>0</td>\n",
       "      <td>0</td>\n",
       "      <td>0</td>\n",
       "      <td>0</td>\n",
       "      <td>0</td>\n",
       "      <td>0</td>\n",
       "      <td>0</td>\n",
       "      <td>0</td>\n",
       "      <td>0</td>\n",
       "      <td>1</td>\n",
       "      <td>1</td>\n",
       "      <td>1.0</td>\n",
       "      <td>1.0</td>\n",
       "      <td>0.0</td>\n",
       "      <td>0.00</td>\n",
       "      <td>1.00</td>\n",
       "      <td>0.00</td>\n",
       "      <td>0.00</td>\n",
       "      <td>255</td>\n",
       "      <td>79</td>\n",
       "      <td>0.31</td>\n",
       "      <td>0.61</td>\n",
       "      <td>0.00</td>\n",
       "      <td>0.00</td>\n",
       "      <td>0.21</td>\n",
       "      <td>0.68</td>\n",
       "      <td>0.60</td>\n",
       "      <td>0.00</td>\n",
       "      <td>processtable</td>\n",
       "      <td>18</td>\n",
       "    </tr>\n",
       "    <tr>\n",
       "      <th>3</th>\n",
       "      <td>0</td>\n",
       "      <td>udp</td>\n",
       "      <td>private</td>\n",
       "      <td>SF</td>\n",
       "      <td>53</td>\n",
       "      <td>55</td>\n",
       "      <td>0</td>\n",
       "      <td>0</td>\n",
       "      <td>0</td>\n",
       "      <td>0</td>\n",
       "      <td>0</td>\n",
       "      <td>0</td>\n",
       "      <td>0</td>\n",
       "      <td>0</td>\n",
       "      <td>0</td>\n",
       "      <td>0</td>\n",
       "      <td>0</td>\n",
       "      <td>0</td>\n",
       "      <td>0</td>\n",
       "      <td>0</td>\n",
       "      <td>0</td>\n",
       "      <td>0</td>\n",
       "      <td>511</td>\n",
       "      <td>511</td>\n",
       "      <td>0.0</td>\n",
       "      <td>0.0</td>\n",
       "      <td>0.0</td>\n",
       "      <td>0.00</td>\n",
       "      <td>1.00</td>\n",
       "      <td>0.00</td>\n",
       "      <td>0.00</td>\n",
       "      <td>255</td>\n",
       "      <td>255</td>\n",
       "      <td>1.00</td>\n",
       "      <td>0.00</td>\n",
       "      <td>0.87</td>\n",
       "      <td>0.00</td>\n",
       "      <td>0.00</td>\n",
       "      <td>0.00</td>\n",
       "      <td>0.00</td>\n",
       "      <td>0.00</td>\n",
       "      <td>normal</td>\n",
       "      <td>17</td>\n",
       "    </tr>\n",
       "    <tr>\n",
       "      <th>4</th>\n",
       "      <td>0</td>\n",
       "      <td>tcp</td>\n",
       "      <td>private</td>\n",
       "      <td>SH</td>\n",
       "      <td>0</td>\n",
       "      <td>0</td>\n",
       "      <td>0</td>\n",
       "      <td>0</td>\n",
       "      <td>0</td>\n",
       "      <td>0</td>\n",
       "      <td>0</td>\n",
       "      <td>0</td>\n",
       "      <td>0</td>\n",
       "      <td>0</td>\n",
       "      <td>0</td>\n",
       "      <td>0</td>\n",
       "      <td>0</td>\n",
       "      <td>0</td>\n",
       "      <td>0</td>\n",
       "      <td>0</td>\n",
       "      <td>0</td>\n",
       "      <td>0</td>\n",
       "      <td>1</td>\n",
       "      <td>1</td>\n",
       "      <td>1.0</td>\n",
       "      <td>1.0</td>\n",
       "      <td>0.0</td>\n",
       "      <td>0.00</td>\n",
       "      <td>1.00</td>\n",
       "      <td>0.00</td>\n",
       "      <td>0.00</td>\n",
       "      <td>16</td>\n",
       "      <td>1</td>\n",
       "      <td>0.06</td>\n",
       "      <td>1.00</td>\n",
       "      <td>1.00</td>\n",
       "      <td>0.00</td>\n",
       "      <td>1.00</td>\n",
       "      <td>1.00</td>\n",
       "      <td>0.00</td>\n",
       "      <td>0.00</td>\n",
       "      <td>nmap</td>\n",
       "      <td>17</td>\n",
       "    </tr>\n",
       "    <tr>\n",
       "      <th>5</th>\n",
       "      <td>0</td>\n",
       "      <td>tcp</td>\n",
       "      <td>http</td>\n",
       "      <td>SF</td>\n",
       "      <td>54540</td>\n",
       "      <td>8314</td>\n",
       "      <td>0</td>\n",
       "      <td>0</td>\n",
       "      <td>0</td>\n",
       "      <td>2</td>\n",
       "      <td>0</td>\n",
       "      <td>1</td>\n",
       "      <td>1</td>\n",
       "      <td>0</td>\n",
       "      <td>0</td>\n",
       "      <td>0</td>\n",
       "      <td>0</td>\n",
       "      <td>0</td>\n",
       "      <td>0</td>\n",
       "      <td>0</td>\n",
       "      <td>0</td>\n",
       "      <td>0</td>\n",
       "      <td>2</td>\n",
       "      <td>9</td>\n",
       "      <td>0.0</td>\n",
       "      <td>0.0</td>\n",
       "      <td>0.5</td>\n",
       "      <td>0.11</td>\n",
       "      <td>1.00</td>\n",
       "      <td>0.00</td>\n",
       "      <td>0.22</td>\n",
       "      <td>255</td>\n",
       "      <td>229</td>\n",
       "      <td>0.90</td>\n",
       "      <td>0.01</td>\n",
       "      <td>0.00</td>\n",
       "      <td>0.00</td>\n",
       "      <td>0.00</td>\n",
       "      <td>0.00</td>\n",
       "      <td>0.01</td>\n",
       "      <td>0.00</td>\n",
       "      <td>back</td>\n",
       "      <td>10</td>\n",
       "    </tr>\n",
       "    <tr>\n",
       "      <th>6</th>\n",
       "      <td>0</td>\n",
       "      <td>tcp</td>\n",
       "      <td>imap4</td>\n",
       "      <td>REJ</td>\n",
       "      <td>0</td>\n",
       "      <td>0</td>\n",
       "      <td>0</td>\n",
       "      <td>0</td>\n",
       "      <td>0</td>\n",
       "      <td>0</td>\n",
       "      <td>0</td>\n",
       "      <td>0</td>\n",
       "      <td>0</td>\n",
       "      <td>0</td>\n",
       "      <td>0</td>\n",
       "      <td>0</td>\n",
       "      <td>0</td>\n",
       "      <td>0</td>\n",
       "      <td>0</td>\n",
       "      <td>0</td>\n",
       "      <td>0</td>\n",
       "      <td>0</td>\n",
       "      <td>228</td>\n",
       "      <td>9</td>\n",
       "      <td>0.0</td>\n",
       "      <td>0.0</td>\n",
       "      <td>1.0</td>\n",
       "      <td>1.00</td>\n",
       "      <td>0.04</td>\n",
       "      <td>0.06</td>\n",
       "      <td>0.00</td>\n",
       "      <td>255</td>\n",
       "      <td>9</td>\n",
       "      <td>0.04</td>\n",
       "      <td>0.07</td>\n",
       "      <td>0.00</td>\n",
       "      <td>0.00</td>\n",
       "      <td>0.00</td>\n",
       "      <td>0.00</td>\n",
       "      <td>1.00</td>\n",
       "      <td>1.00</td>\n",
       "      <td>neptune</td>\n",
       "      <td>19</td>\n",
       "    </tr>\n",
       "    <tr>\n",
       "      <th>7</th>\n",
       "      <td>7570</td>\n",
       "      <td>tcp</td>\n",
       "      <td>telnet</td>\n",
       "      <td>SF</td>\n",
       "      <td>0</td>\n",
       "      <td>44</td>\n",
       "      <td>0</td>\n",
       "      <td>0</td>\n",
       "      <td>0</td>\n",
       "      <td>0</td>\n",
       "      <td>0</td>\n",
       "      <td>0</td>\n",
       "      <td>0</td>\n",
       "      <td>0</td>\n",
       "      <td>0</td>\n",
       "      <td>0</td>\n",
       "      <td>0</td>\n",
       "      <td>0</td>\n",
       "      <td>0</td>\n",
       "      <td>0</td>\n",
       "      <td>0</td>\n",
       "      <td>0</td>\n",
       "      <td>1</td>\n",
       "      <td>1</td>\n",
       "      <td>0.0</td>\n",
       "      <td>0.0</td>\n",
       "      <td>0.0</td>\n",
       "      <td>0.00</td>\n",
       "      <td>1.00</td>\n",
       "      <td>0.00</td>\n",
       "      <td>0.00</td>\n",
       "      <td>255</td>\n",
       "      <td>165</td>\n",
       "      <td>0.65</td>\n",
       "      <td>0.33</td>\n",
       "      <td>0.00</td>\n",
       "      <td>0.00</td>\n",
       "      <td>0.49</td>\n",
       "      <td>0.76</td>\n",
       "      <td>0.33</td>\n",
       "      <td>0.01</td>\n",
       "      <td>processtable</td>\n",
       "      <td>18</td>\n",
       "    </tr>\n",
       "    <tr>\n",
       "      <th>8</th>\n",
       "      <td>0</td>\n",
       "      <td>udp</td>\n",
       "      <td>private</td>\n",
       "      <td>SF</td>\n",
       "      <td>56</td>\n",
       "      <td>52</td>\n",
       "      <td>0</td>\n",
       "      <td>0</td>\n",
       "      <td>0</td>\n",
       "      <td>0</td>\n",
       "      <td>0</td>\n",
       "      <td>0</td>\n",
       "      <td>0</td>\n",
       "      <td>0</td>\n",
       "      <td>0</td>\n",
       "      <td>0</td>\n",
       "      <td>0</td>\n",
       "      <td>0</td>\n",
       "      <td>0</td>\n",
       "      <td>0</td>\n",
       "      <td>0</td>\n",
       "      <td>0</td>\n",
       "      <td>294</td>\n",
       "      <td>294</td>\n",
       "      <td>0.0</td>\n",
       "      <td>0.0</td>\n",
       "      <td>0.0</td>\n",
       "      <td>0.00</td>\n",
       "      <td>1.00</td>\n",
       "      <td>0.00</td>\n",
       "      <td>0.00</td>\n",
       "      <td>255</td>\n",
       "      <td>255</td>\n",
       "      <td>1.00</td>\n",
       "      <td>0.00</td>\n",
       "      <td>0.93</td>\n",
       "      <td>0.00</td>\n",
       "      <td>0.00</td>\n",
       "      <td>0.00</td>\n",
       "      <td>0.00</td>\n",
       "      <td>0.00</td>\n",
       "      <td>normal</td>\n",
       "      <td>17</td>\n",
       "    </tr>\n",
       "    <tr>\n",
       "      <th>9</th>\n",
       "      <td>0</td>\n",
       "      <td>tcp</td>\n",
       "      <td>ftp_data</td>\n",
       "      <td>SF</td>\n",
       "      <td>192</td>\n",
       "      <td>0</td>\n",
       "      <td>0</td>\n",
       "      <td>0</td>\n",
       "      <td>0</td>\n",
       "      <td>0</td>\n",
       "      <td>0</td>\n",
       "      <td>0</td>\n",
       "      <td>0</td>\n",
       "      <td>0</td>\n",
       "      <td>0</td>\n",
       "      <td>0</td>\n",
       "      <td>0</td>\n",
       "      <td>0</td>\n",
       "      <td>0</td>\n",
       "      <td>0</td>\n",
       "      <td>0</td>\n",
       "      <td>0</td>\n",
       "      <td>2</td>\n",
       "      <td>2</td>\n",
       "      <td>0.0</td>\n",
       "      <td>0.0</td>\n",
       "      <td>0.0</td>\n",
       "      <td>0.00</td>\n",
       "      <td>1.00</td>\n",
       "      <td>0.00</td>\n",
       "      <td>0.00</td>\n",
       "      <td>93</td>\n",
       "      <td>51</td>\n",
       "      <td>0.09</td>\n",
       "      <td>0.04</td>\n",
       "      <td>0.09</td>\n",
       "      <td>0.04</td>\n",
       "      <td>0.00</td>\n",
       "      <td>0.00</td>\n",
       "      <td>0.01</td>\n",
       "      <td>0.00</td>\n",
       "      <td>normal</td>\n",
       "      <td>20</td>\n",
       "    </tr>\n",
       "  </tbody>\n",
       "</table>\n",
       "</div>"
      ],
      "text/plain": [
       "   duration protocol_type   service flag  src_bytes  dst_bytes  land  \\\n",
       "0        13           tcp    telnet   SF        118       2425     0   \n",
       "1         0           udp   private   SF         44          0     0   \n",
       "2         0           tcp    telnet   S3          0         44     0   \n",
       "3         0           udp   private   SF         53         55     0   \n",
       "4         0           tcp   private   SH          0          0     0   \n",
       "5         0           tcp      http   SF      54540       8314     0   \n",
       "6         0           tcp     imap4  REJ          0          0     0   \n",
       "7      7570           tcp    telnet   SF          0         44     0   \n",
       "8         0           udp   private   SF         56         52     0   \n",
       "9         0           tcp  ftp_data   SF        192          0     0   \n",
       "\n",
       "   wrong_fragment  urgent  hot  num_failed_logins  logged_in  num_compromised  \\\n",
       "0               0       0    0                  0          1                0   \n",
       "1               0       0    0                  0          0                0   \n",
       "2               0       0    0                  0          0                0   \n",
       "3               0       0    0                  0          0                0   \n",
       "4               0       0    0                  0          0                0   \n",
       "5               0       0    2                  0          1                1   \n",
       "6               0       0    0                  0          0                0   \n",
       "7               0       0    0                  0          0                0   \n",
       "8               0       0    0                  0          0                0   \n",
       "9               0       0    0                  0          0                0   \n",
       "\n",
       "   root_shell  su_attempted  num_root  num_file_creations  num_shells  \\\n",
       "0           0             0         0                   0           0   \n",
       "1           0             0         0                   0           0   \n",
       "2           0             0         0                   0           0   \n",
       "3           0             0         0                   0           0   \n",
       "4           0             0         0                   0           0   \n",
       "5           0             0         0                   0           0   \n",
       "6           0             0         0                   0           0   \n",
       "7           0             0         0                   0           0   \n",
       "8           0             0         0                   0           0   \n",
       "9           0             0         0                   0           0   \n",
       "\n",
       "   num_access_files  num_outbound_cmds  is_host_login  is_guest_login  count  \\\n",
       "0                 0                  0              0               0      1   \n",
       "1                 0                  0              0               0      4   \n",
       "2                 0                  0              0               0      1   \n",
       "3                 0                  0              0               0    511   \n",
       "4                 0                  0              0               0      1   \n",
       "5                 0                  0              0               0      2   \n",
       "6                 0                  0              0               0    228   \n",
       "7                 0                  0              0               0      1   \n",
       "8                 0                  0              0               0    294   \n",
       "9                 0                  0              0               0      2   \n",
       "\n",
       "   srv_count  serror_rate  srv_serror_rate  rerror_rate  srv_rerror_rate  \\\n",
       "0          1          0.0              0.0          0.0             0.00   \n",
       "1          3          0.0              0.0          0.0             0.00   \n",
       "2          1          1.0              1.0          0.0             0.00   \n",
       "3        511          0.0              0.0          0.0             0.00   \n",
       "4          1          1.0              1.0          0.0             0.00   \n",
       "5          9          0.0              0.0          0.5             0.11   \n",
       "6          9          0.0              0.0          1.0             1.00   \n",
       "7          1          0.0              0.0          0.0             0.00   \n",
       "8        294          0.0              0.0          0.0             0.00   \n",
       "9          2          0.0              0.0          0.0             0.00   \n",
       "\n",
       "   same_srv_rate  diff_srv_rate  srv_diff_host_rate  dst_host_count  \\\n",
       "0           1.00           0.00                0.00              26   \n",
       "1           0.75           0.50                0.00             255   \n",
       "2           1.00           0.00                0.00             255   \n",
       "3           1.00           0.00                0.00             255   \n",
       "4           1.00           0.00                0.00              16   \n",
       "5           1.00           0.00                0.22             255   \n",
       "6           0.04           0.06                0.00             255   \n",
       "7           1.00           0.00                0.00             255   \n",
       "8           1.00           0.00                0.00             255   \n",
       "9           1.00           0.00                0.00              93   \n",
       "\n",
       "   dst_host_srv_count  dst_host_same_srv_rate  dst_host_diff_srv_rate  \\\n",
       "0                  10                    0.38                    0.12   \n",
       "1                 254                    1.00                    0.01   \n",
       "2                  79                    0.31                    0.61   \n",
       "3                 255                    1.00                    0.00   \n",
       "4                   1                    0.06                    1.00   \n",
       "5                 229                    0.90                    0.01   \n",
       "6                   9                    0.04                    0.07   \n",
       "7                 165                    0.65                    0.33   \n",
       "8                 255                    1.00                    0.00   \n",
       "9                  51                    0.09                    0.04   \n",
       "\n",
       "   dst_host_same_src_port_rate  dst_host_srv_diff_host_rate  \\\n",
       "0                         0.04                         0.00   \n",
       "1                         0.01                         0.00   \n",
       "2                         0.00                         0.00   \n",
       "3                         0.87                         0.00   \n",
       "4                         1.00                         0.00   \n",
       "5                         0.00                         0.00   \n",
       "6                         0.00                         0.00   \n",
       "7                         0.00                         0.00   \n",
       "8                         0.93                         0.00   \n",
       "9                         0.09                         0.04   \n",
       "\n",
       "   dst_host_serror_rate  dst_host_srv_serror_rate  dst_host_rerror_rate  \\\n",
       "0                  0.00                      0.00                  0.12   \n",
       "1                  0.00                      0.00                  0.00   \n",
       "2                  0.21                      0.68                  0.60   \n",
       "3                  0.00                      0.00                  0.00   \n",
       "4                  1.00                      1.00                  0.00   \n",
       "5                  0.00                      0.00                  0.01   \n",
       "6                  0.00                      0.00                  1.00   \n",
       "7                  0.49                      0.76                  0.33   \n",
       "8                  0.00                      0.00                  0.00   \n",
       "9                  0.00                      0.00                  0.01   \n",
       "\n",
       "   dst_host_srv_rerror_rate         class  label  \n",
       "0                      0.30  guess_passwd      2  \n",
       "1                      0.00     snmpguess     12  \n",
       "2                      0.00  processtable     18  \n",
       "3                      0.00        normal     17  \n",
       "4                      0.00          nmap     17  \n",
       "5                      0.00          back     10  \n",
       "6                      1.00       neptune     19  \n",
       "7                      0.01  processtable     18  \n",
       "8                      0.00        normal     17  \n",
       "9                      0.00        normal     20  "
      ]
     },
     "execution_count": 13,
     "metadata": {},
     "output_type": "execute_result"
    }
   ],
   "source": [
    "df.head(10)"
   ]
  },
  {
   "cell_type": "code",
   "execution_count": 14,
   "metadata": {},
   "outputs": [],
   "source": [
    "normal_class = ['normal']\n",
    "df_normal =  df.loc[df['class'].isin(normal_class)]"
   ]
  },
  {
   "cell_type": "code",
   "execution_count": 15,
   "metadata": {},
   "outputs": [],
   "source": [
    "anomaly_classes = [_ for _ in list(df['class']) if _ not in ['normal']]"
   ]
  },
  {
   "cell_type": "code",
   "execution_count": 16,
   "metadata": {},
   "outputs": [],
   "source": [
    "df_anomalies = df.loc[df['class'].isin(anomaly_classes)]"
   ]
  },
  {
   "cell_type": "code",
   "execution_count": 17,
   "metadata": {},
   "outputs": [
    {
     "data": {
      "text/plain": [
       "68328"
      ]
     },
     "execution_count": 17,
     "metadata": {},
     "output_type": "execute_result"
    }
   ],
   "source": [
    "len(df_anomalies)"
   ]
  },
  {
   "cell_type": "code",
   "execution_count": 18,
   "metadata": {},
   "outputs": [
    {
     "name": "stderr",
     "output_type": "stream",
     "text": [
      "/home/ddatta/anaconda3/envs/SG/lib/python3.7/site-packages/ipykernel_launcher.py:1: SettingWithCopyWarning: \n",
      "A value is trying to be set on a copy of a slice from a DataFrame.\n",
      "Try using .loc[row_indexer,col_indexer] = value instead\n",
      "\n",
      "See the caveats in the documentation: https://pandas.pydata.org/pandas-docs/stable/user_guide/indexing.html#returning-a-view-versus-a-copy\n",
      "  \"\"\"Entry point for launching an IPython kernel.\n",
      "/home/ddatta/anaconda3/envs/SG/lib/python3.7/site-packages/ipykernel_launcher.py:2: SettingWithCopyWarning: \n",
      "A value is trying to be set on a copy of a slice from a DataFrame.\n",
      "Try using .loc[row_indexer,col_indexer] = value instead\n",
      "\n",
      "See the caveats in the documentation: https://pandas.pydata.org/pandas-docs/stable/user_guide/indexing.html#returning-a-view-versus-a-copy\n",
      "  \n"
     ]
    }
   ],
   "source": [
    "df_anomalies['label'] = 1\n",
    "df_normal['label'] = 0\n",
    "del df_anomalies['class']\n",
    "del df_normal['class']\n",
    "\n",
    "master_df = df_normal.append(df_anomalies,ignore_index=True)\n",
    "master_df = master_df.dropna()"
   ]
  },
  {
   "cell_type": "code",
   "execution_count": 19,
   "metadata": {},
   "outputs": [
    {
     "data": {
      "text/plain": [
       "Counter({0: 68592, 1: 903})"
      ]
     },
     "execution_count": 19,
     "metadata": {},
     "output_type": "execute_result"
    }
   ],
   "source": [
    "Counter(df_normal['is_guest_login'])"
   ]
  },
  {
   "cell_type": "code",
   "execution_count": 20,
   "metadata": {},
   "outputs": [],
   "source": [
    "columns = categorical_columns + real_value_columns + ['label']\n",
    "master_df = master_df[columns]"
   ]
  },
  {
   "cell_type": "code",
   "execution_count": 21,
   "metadata": {},
   "outputs": [
    {
     "name": "stderr",
     "output_type": "stream",
     "text": [
      "  0%|          | 0/7 [00:00<?, ?it/s]"
     ]
    },
    {
     "name": "stdout",
     "output_type": "stream",
     "text": [
      " -->  protocol_type Number of valid values 3\n"
     ]
    },
    {
     "name": "stderr",
     "output_type": "stream",
     "text": [
      " 14%|█▍        | 1/7 [00:02<00:15,  2.53s/it]"
     ]
    },
    {
     "name": "stdout",
     "output_type": "stream",
     "text": [
      " -->  service Number of valid values 70\n"
     ]
    },
    {
     "name": "stderr",
     "output_type": "stream",
     "text": [
      " 29%|██▊       | 2/7 [00:04<00:12,  2.44s/it]"
     ]
    },
    {
     "name": "stdout",
     "output_type": "stream",
     "text": [
      " -->  flag Number of valid values 11\n"
     ]
    },
    {
     "name": "stderr",
     "output_type": "stream",
     "text": [
      "100%|██████████| 7/7 [00:07<00:00,  1.01s/it]"
     ]
    },
    {
     "name": "stdout",
     "output_type": "stream",
     "text": [
      " -->  land Number of valid values 2\n",
      " -->  logged_in Number of valid values 2\n",
      " -->  is_host_login Number of valid values 2\n",
      " -->  is_guest_login Number of valid values 2\n"
     ]
    },
    {
     "name": "stderr",
     "output_type": "stream",
     "text": [
      "\n"
     ]
    }
   ],
   "source": [
    "def replace_with_id( row , ref_dict, col):\n",
    "    value =  row[col]\n",
    "    if value not in ref_dict.keys():\n",
    "        row[col] = None\n",
    "    else:\n",
    "        row[col] = ref_dict[value]\n",
    "    return row\n",
    "\n",
    "\n",
    "single_value_cols = []\n",
    "target_columns = list(categorical_columns)\n",
    "\n",
    "entity_count = {}\n",
    "\n",
    "for i in tqdm(range(len(target_columns))):\n",
    "    \n",
    "    column = target_columns[i]\n",
    "    valid_values = sorted(set(master_df[column]))\n",
    "    val2id_dict = { \n",
    "        e[1]:e[0] for e in enumerate(valid_values,0)\n",
    "    }\n",
    "    print(' --> ', column, 'Number of valid values', len(val2id_dict))\n",
    "    \n",
    "    if len(val2id_dict) == 1 :\n",
    "        single_value_cols.append(column)\n",
    "        #categorical_columns.remove(column)\n",
    "        continue\n",
    "    entity_count[column]  = len(val2id_dict)\n",
    "   \n",
    "    master_df = master_df.parallel_apply(\n",
    "        replace_with_id,\n",
    "        axis=1,\n",
    "        args = (val2id_dict, column,)\n",
    "    )\n",
    "        "
   ]
  },
  {
   "cell_type": "code",
   "execution_count": 22,
   "metadata": {},
   "outputs": [
    {
     "name": "stdout",
     "output_type": "stream",
     "text": [
      "['protocol_type', 'service', 'flag', 'land', 'logged_in', 'is_host_login', 'is_guest_login']\n"
     ]
    }
   ],
   "source": [
    "# Normalize the values\n",
    "def normalize_minmax(value, _max, _min):\n",
    "    return (value - _min)/(_max -_min)\n",
    "\n",
    "for column in real_value_columns:\n",
    "    _min = min(master_df[column])\n",
    "    _max = max(master_df[column])\n",
    "    if _max == _min: \n",
    "        continue\n",
    "    master_df[column] = master_df[column].parallel_apply(normalize_minmax, args= (_max,_min, ))\n",
    "    \n",
    "\n",
    "master_df = master_df.dropna()\n",
    "for s in single_value_cols:\n",
    "    del master_df[s]\n",
    "    try:\n",
    "        categorical_columns.remove(s)\n",
    "    except:\n",
    "        pass\n",
    "print(categorical_columns)"
   ]
  },
  {
   "cell_type": "code",
   "execution_count": 23,
   "metadata": {},
   "outputs": [],
   "source": [
    "ordered_columns = categorical_columns + real_value_columns + ['label']\n",
    "master_df = master_df[ordered_columns]"
   ]
  },
  {
   "cell_type": "code",
   "execution_count": 24,
   "metadata": {},
   "outputs": [],
   "source": [
    "# ===========================================\n",
    "# Keep 2 versions\n",
    "# 1. one hot encoded\n",
    "# 2. not one hot enocoded\n",
    "\n",
    "def create_10_version( df, cat_columns):\n",
    "    global real_value_columns\n",
    "    label_Col = 'label'\n",
    "    df1 = df.copy() \n",
    "    for cc in cat_columns:\n",
    "        if entity_count[cc] == 2 :\n",
    "            _drop_first = True\n",
    "        else:\n",
    "            _drop_first = False\n",
    "        df1 = pd.get_dummies(df1, columns = [cc], drop_first=_drop_first)\n",
    "    all_columns=list(df1.columns)\n",
    "    disc_columns = [ c for c in all_columns if c != 'label' and c not in real_value_columns]\n",
    "    ord_cols = disc_columns + real_value_columns + ['label']\n",
    "    return df1[ord_cols]"
   ]
  },
  {
   "cell_type": "code",
   "execution_count": 25,
   "metadata": {},
   "outputs": [
    {
     "data": {
      "text/html": [
       "<div>\n",
       "<style scoped>\n",
       "    .dataframe tbody tr th:only-of-type {\n",
       "        vertical-align: middle;\n",
       "    }\n",
       "\n",
       "    .dataframe tbody tr th {\n",
       "        vertical-align: top;\n",
       "    }\n",
       "\n",
       "    .dataframe thead th {\n",
       "        text-align: right;\n",
       "    }\n",
       "</style>\n",
       "<table border=\"1\" class=\"dataframe\">\n",
       "  <thead>\n",
       "    <tr style=\"text-align: right;\">\n",
       "      <th></th>\n",
       "      <th>column</th>\n",
       "      <th>dimension</th>\n",
       "    </tr>\n",
       "  </thead>\n",
       "  <tbody>\n",
       "    <tr>\n",
       "      <th>0</th>\n",
       "      <td>protocol_type</td>\n",
       "      <td>3</td>\n",
       "    </tr>\n",
       "    <tr>\n",
       "      <th>1</th>\n",
       "      <td>service</td>\n",
       "      <td>70</td>\n",
       "    </tr>\n",
       "    <tr>\n",
       "      <th>2</th>\n",
       "      <td>flag</td>\n",
       "      <td>11</td>\n",
       "    </tr>\n",
       "    <tr>\n",
       "      <th>3</th>\n",
       "      <td>land</td>\n",
       "      <td>2</td>\n",
       "    </tr>\n",
       "    <tr>\n",
       "      <th>4</th>\n",
       "      <td>logged_in</td>\n",
       "      <td>2</td>\n",
       "    </tr>\n",
       "    <tr>\n",
       "      <th>5</th>\n",
       "      <td>is_host_login</td>\n",
       "      <td>2</td>\n",
       "    </tr>\n",
       "    <tr>\n",
       "      <th>6</th>\n",
       "      <td>is_guest_login</td>\n",
       "      <td>2</td>\n",
       "    </tr>\n",
       "  </tbody>\n",
       "</table>\n",
       "</div>"
      ],
      "text/plain": [
       "           column  dimension\n",
       "0   protocol_type          3\n",
       "1         service         70\n",
       "2            flag         11\n",
       "3            land          2\n",
       "4       logged_in          2\n",
       "5   is_host_login          2\n",
       "6  is_guest_login          2"
      ]
     },
     "execution_count": 25,
     "metadata": {},
     "output_type": "execute_result"
    }
   ],
   "source": [
    "master_df_1 = create_10_version( master_df, categorical_columns)\n",
    "\n",
    "\n",
    "\n",
    "# Save the files\n",
    "from pathlib import Path\n",
    "save_dir = 'processed'\n",
    "path_obj = Path(save_dir)\n",
    "path_obj.mkdir(exist_ok=True, parents=True)\n",
    "\n",
    "# ===========================\n",
    "# Write out the dimensionality of the columns into a text file\n",
    "# ============================\n",
    "\n",
    "col_name_list = []\n",
    "dimensionality = []\n",
    "data =[]\n",
    "for c in categorical_columns:\n",
    "    col_name_list.append(c)\n",
    "    v = len(set(master_df[c]))\n",
    "    dimensionality.append(v)\n",
    "    data.append((c,v)) \n",
    "df_data_dimensions = pd.DataFrame(\n",
    "    data = data,\n",
    "    columns=['column','dimension']\n",
    ")\n",
    "\n",
    "df_data_dimensions"
   ]
  },
  {
   "cell_type": "code",
   "execution_count": 26,
   "metadata": {},
   "outputs": [
    {
     "name": "stdout",
     "output_type": "stream",
     "text": [
      "Size {:.3f} 50.96665573120117  MB \n",
      "Size {:.3f} 29.79939842224121  MB \n"
     ]
    },
    {
     "data": {
      "text/plain": [
       "29.79939842224121"
      ]
     },
     "execution_count": 26,
     "metadata": {},
     "output_type": "execute_result"
    }
   ],
   "source": [
    "# Save metadata\n",
    "f_name = 'data_dimensions.csv'\n",
    "f_path = os.path.join(save_dir, f_name )\n",
    "df_data_dimensions.to_csv(f_path,index=False)\n",
    "\n",
    "utils.save_csv(master_df_1, os.path.join(save_dir,'data_onehot.csv'))\n",
    "utils.save_csv(master_df, os.path.join(save_dir,'data.csv'))"
   ]
  },
  {
   "cell_type": "code",
   "execution_count": 27,
   "metadata": {
    "scrolled": true
   },
   "outputs": [
    {
     "name": "stdout",
     "output_type": "stream",
     "text": [
      "protocol_type_0\n",
      "protocol_type_1\n",
      "protocol_type_2\n",
      "service_0\n",
      "service_1\n",
      "service_2\n",
      "service_3\n",
      "service_4\n",
      "service_5\n",
      "service_6\n",
      "service_7\n",
      "service_8\n",
      "service_9\n",
      "service_10\n",
      "service_11\n",
      "service_12\n",
      "service_13\n",
      "service_14\n",
      "service_15\n",
      "service_16\n",
      "service_17\n",
      "service_18\n",
      "service_19\n",
      "service_20\n",
      "service_21\n",
      "service_22\n",
      "service_23\n",
      "service_24\n",
      "service_25\n",
      "service_26\n",
      "service_27\n",
      "service_28\n",
      "service_29\n",
      "service_30\n",
      "service_31\n",
      "service_32\n",
      "service_33\n",
      "service_34\n",
      "service_35\n",
      "service_36\n",
      "service_37\n",
      "service_38\n",
      "service_39\n",
      "service_40\n",
      "service_41\n",
      "service_42\n",
      "service_43\n",
      "service_44\n",
      "service_45\n",
      "service_46\n",
      "service_47\n",
      "service_48\n",
      "service_49\n",
      "service_50\n",
      "service_51\n",
      "service_52\n",
      "service_53\n",
      "service_54\n",
      "service_55\n",
      "service_56\n",
      "service_57\n",
      "service_58\n",
      "service_59\n",
      "service_60\n",
      "service_61\n",
      "service_62\n",
      "service_63\n",
      "service_64\n",
      "service_65\n",
      "service_66\n",
      "service_67\n",
      "service_68\n",
      "service_69\n",
      "flag_0\n",
      "flag_1\n",
      "flag_2\n",
      "flag_3\n",
      "flag_4\n",
      "flag_5\n",
      "flag_6\n",
      "flag_7\n",
      "flag_8\n",
      "flag_9\n",
      "flag_10\n",
      "land_1\n",
      "logged_in_1\n",
      "is_host_login_1\n",
      "is_guest_login_1\n",
      "duration\n",
      "src_bytes\n",
      "dst_bytes\n",
      "wrong_fragment\n",
      "urgent\n",
      "hot\n",
      "num_failed_logins\n",
      "num_compromised\n",
      "root_shell\n",
      "su_attempted\n",
      "num_root\n",
      "num_file_creations\n",
      "num_shells\n",
      "num_access_files\n",
      "num_outbound_cmds\n",
      "count\n",
      "srv_count\n",
      "serror_rate\n",
      "srv_serror_rate\n",
      "rerror_rate\n",
      "srv_rerror_rate\n",
      "same_srv_rate\n",
      "diff_srv_rate\n",
      "srv_diff_host_rate\n",
      "dst_host_count\n",
      "dst_host_srv_count\n",
      "dst_host_same_srv_rate\n",
      "dst_host_diff_srv_rate\n",
      "dst_host_same_src_port_rate\n",
      "dst_host_srv_diff_host_rate\n",
      "dst_host_serror_rate\n",
      "dst_host_srv_serror_rate\n",
      "dst_host_rerror_rate\n",
      "dst_host_srv_rerror_rate\n",
      "label\n"
     ]
    }
   ],
   "source": [
    "for _ in master_df_1.columns: print (_)"
   ]
  },
  {
   "cell_type": "code",
   "execution_count": 30,
   "metadata": {
    "scrolled": true
   },
   "outputs": [
    {
     "data": {
      "text/plain": [
       "Counter({0: 137791, 1: 32})"
      ]
     },
     "execution_count": 30,
     "metadata": {},
     "output_type": "execute_result"
    }
   ],
   "source": [
    "Counter(master_df_1['land_1'])"
   ]
  },
  {
   "cell_type": "code",
   "execution_count": 31,
   "metadata": {},
   "outputs": [
    {
     "data": {
      "text/plain": [
       "['protocol_type',\n",
       " 'service',\n",
       " 'flag',\n",
       " 'land',\n",
       " 'logged_in',\n",
       " 'is_host_login',\n",
       " 'is_guest_login']"
      ]
     },
     "execution_count": 31,
     "metadata": {},
     "output_type": "execute_result"
    }
   ],
   "source": [
    "categorical_columns"
   ]
  },
  {
   "cell_type": "code",
   "execution_count": 33,
   "metadata": {},
   "outputs": [
    {
     "data": {
      "text/plain": [
       "69495"
      ]
     },
     "execution_count": 33,
     "metadata": {},
     "output_type": "execute_result"
    }
   ],
   "source": [
    "len(df_normal)"
   ]
  },
  {
   "cell_type": "code",
   "execution_count": 34,
   "metadata": {},
   "outputs": [
    {
     "name": "stdout",
     "output_type": "stream",
     "text": [
      "69495\n",
      "48646.5 20848.5\n"
     ]
    }
   ],
   "source": [
    "import pandas as pd\n",
    "tmp = pd.read_csv('./processed/data.csv')\n",
    "l = len(tmp.loc[tmp['label']==0])\n",
    "print(l)\n",
    "print(0.7*l, 0.3*l)"
   ]
  },
  {
   "cell_type": "code",
   "execution_count": 35,
   "metadata": {},
   "outputs": [
    {
     "data": {
      "text/plain": [
       "42"
      ]
     },
     "execution_count": 35,
     "metadata": {},
     "output_type": "execute_result"
    }
   ],
   "source": [
    "len(tmp.columns)"
   ]
  },
  {
   "cell_type": "code",
   "execution_count": null,
   "metadata": {},
   "outputs": [],
   "source": []
  }
 ],
 "metadata": {
  "kernelspec": {
   "display_name": "Python 3",
   "language": "python",
   "name": "python3"
  },
  "language_info": {
   "codemirror_mode": {
    "name": "ipython",
    "version": 3
   },
   "file_extension": ".py",
   "mimetype": "text/x-python",
   "name": "python",
   "nbconvert_exporter": "python",
   "pygments_lexer": "ipython3",
   "version": "3.7.6"
  }
 },
 "nbformat": 4,
 "nbformat_minor": 4
}
